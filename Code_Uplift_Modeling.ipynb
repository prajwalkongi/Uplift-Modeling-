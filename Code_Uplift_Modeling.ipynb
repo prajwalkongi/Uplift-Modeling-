{
 "cells": [
  {
   "cell_type": "markdown",
   "id": "41868d6f",
   "metadata": {},
   "source": [
    "## Installing New Libraries"
   ]
  },
  {
   "cell_type": "raw",
   "id": "43241fc4",
   "metadata": {},
   "source": [
    "pip install pandas scikit-learn scikit-uplift xgboost"
   ]
  },
  {
   "cell_type": "raw",
   "id": "158cd7a2",
   "metadata": {},
   "source": [
    "pip install --upgrade scikit-uplift"
   ]
  },
  {
   "cell_type": "raw",
   "id": "ed9bb38e",
   "metadata": {},
   "source": [
    "pip install catboost"
   ]
  },
  {
   "cell_type": "raw",
   "id": "e4d8b256",
   "metadata": {},
   "source": [
    "!{sys.executable} -m pip install scikit-uplift dill lightgbm"
   ]
  },
  {
   "cell_type": "markdown",
   "id": "9074ce5a",
   "metadata": {},
   "source": [
    "## Importing Libraries"
   ]
  },
  {
   "cell_type": "code",
   "execution_count": 106,
   "id": "5cc692eb",
   "metadata": {},
   "outputs": [],
   "source": [
    "import numpy as np\n",
    "import pandas as pd\n",
    "\n",
    "import matplotlib.pyplot as plt\n",
    "import seaborn as sns\n",
    "\n",
    "from pymongo import MongoClient\n",
    "import sqlalchemy as db\n",
    "\n",
    "import sys\n",
    "from sklearn.model_selection import train_test_split\n",
    "from sklift.models import TwoModels\n",
    "from sklift.models import SoloModel\n",
    "from sklearn.ensemble import RandomForestClassifier\n",
    "from catboost import CatBoostClassifier\n",
    "from xgboost import XGBClassifier\n",
    "\n",
    "from sklift.metrics import uplift_at_k, uplift_auc_score, qini_auc_score"
   ]
  },
  {
   "cell_type": "code",
   "execution_count": 107,
   "id": "4c4f7c1c",
   "metadata": {},
   "outputs": [],
   "source": [
    "pd.set_option('display.max_columns', None)\n",
    "pd.set_option('display.max_rows', None)"
   ]
  },
  {
   "cell_type": "markdown",
   "id": "36bb7bff",
   "metadata": {},
   "source": [
    "## Exploratory Data Analysis (EDA)"
   ]
  },
  {
   "cell_type": "code",
   "execution_count": 3,
   "id": "6d88e830",
   "metadata": {},
   "outputs": [],
   "source": [
    "# The data contains 10 million rows, we'll be working on 1 million rows of data.\n",
    "\n",
    "df_message = pd.read_csv('messages-demo.csv')\n",
    "df_lim = df_message.iloc[:1000000, :]\n",
    "\n",
    "df_lim.to_csv('messages_data.csv', index=False)"
   ]
  },
  {
   "cell_type": "code",
   "execution_count": null,
   "id": "aa059777",
   "metadata": {
    "scrolled": true
   },
   "outputs": [],
   "source": []
  },
  {
   "cell_type": "code",
   "execution_count": 108,
   "id": "006b5435",
   "metadata": {},
   "outputs": [
    {
     "data": {
      "text/html": [
       "<div>\n",
       "<style scoped>\n",
       "    .dataframe tbody tr th:only-of-type {\n",
       "        vertical-align: middle;\n",
       "    }\n",
       "\n",
       "    .dataframe tbody tr th {\n",
       "        vertical-align: top;\n",
       "    }\n",
       "\n",
       "    .dataframe thead th {\n",
       "        text-align: right;\n",
       "    }\n",
       "</style>\n",
       "<table border=\"1\" class=\"dataframe\">\n",
       "  <thead>\n",
       "    <tr style=\"text-align: right;\">\n",
       "      <th></th>\n",
       "      <th>id</th>\n",
       "      <th>message_id</th>\n",
       "      <th>campaign_id</th>\n",
       "      <th>message_type</th>\n",
       "      <th>client_id</th>\n",
       "      <th>channel</th>\n",
       "      <th>category</th>\n",
       "      <th>platform</th>\n",
       "      <th>email_provider</th>\n",
       "      <th>stream</th>\n",
       "      <th>date</th>\n",
       "      <th>sent_at</th>\n",
       "      <th>is_opened</th>\n",
       "      <th>opened_first_time_at</th>\n",
       "      <th>opened_last_time_at</th>\n",
       "      <th>is_clicked</th>\n",
       "      <th>clicked_first_time_at</th>\n",
       "      <th>clicked_last_time_at</th>\n",
       "      <th>is_unsubscribed</th>\n",
       "      <th>unsubscribed_at</th>\n",
       "      <th>is_hard_bounced</th>\n",
       "      <th>hard_bounced_at</th>\n",
       "      <th>is_soft_bounced</th>\n",
       "      <th>soft_bounced_at</th>\n",
       "      <th>is_complained</th>\n",
       "      <th>complained_at</th>\n",
       "      <th>is_blocked</th>\n",
       "      <th>blocked_at</th>\n",
       "      <th>is_purchased</th>\n",
       "      <th>purchased_at</th>\n",
       "      <th>created_at</th>\n",
       "      <th>updated_at</th>\n",
       "    </tr>\n",
       "  </thead>\n",
       "  <tbody>\n",
       "    <tr>\n",
       "      <th>0</th>\n",
       "      <td>3527358</td>\n",
       "      <td>3f6aaad3-bab7-4886-b083-fe8c1f210066</td>\n",
       "      <td>31</td>\n",
       "      <td>transactional</td>\n",
       "      <td>1515915625489833514</td>\n",
       "      <td>email</td>\n",
       "      <td>NaN</td>\n",
       "      <td>NaN</td>\n",
       "      <td>mail.ru</td>\n",
       "      <td>desktop</td>\n",
       "      <td>2021-04-30</td>\n",
       "      <td>2021-04-30 11:27:43</td>\n",
       "      <td>t</td>\n",
       "      <td>2021-05-04 05:47:05</td>\n",
       "      <td>2021-05-04 05:47:05</td>\n",
       "      <td>t</td>\n",
       "      <td>2021-05-04 05:47:46</td>\n",
       "      <td>2021-05-04 05:47:46</td>\n",
       "      <td>f</td>\n",
       "      <td>NaN</td>\n",
       "      <td>f</td>\n",
       "      <td>NaN</td>\n",
       "      <td>f</td>\n",
       "      <td>NaN</td>\n",
       "      <td>f</td>\n",
       "      <td>NaN</td>\n",
       "      <td>f</td>\n",
       "      <td>NaN</td>\n",
       "      <td>t</td>\n",
       "      <td>2021-05-06 16:40:38</td>\n",
       "      <td>2023-04-27 08:55:05.883908</td>\n",
       "      <td>2023-04-27 08:57:33.080129</td>\n",
       "    </tr>\n",
       "    <tr>\n",
       "      <th>1</th>\n",
       "      <td>3527619</td>\n",
       "      <td>0e670ecc-4549-44f6-86ed-469682d34837</td>\n",
       "      <td>32</td>\n",
       "      <td>transactional</td>\n",
       "      <td>1515915625489220445</td>\n",
       "      <td>email</td>\n",
       "      <td>NaN</td>\n",
       "      <td>NaN</td>\n",
       "      <td>yandex.ru</td>\n",
       "      <td>desktop</td>\n",
       "      <td>2021-04-30</td>\n",
       "      <td>2021-04-30 08:00:35</td>\n",
       "      <td>t</td>\n",
       "      <td>2021-05-04 15:38:20</td>\n",
       "      <td>2021-05-04 15:38:20</td>\n",
       "      <td>f</td>\n",
       "      <td>NaN</td>\n",
       "      <td>NaN</td>\n",
       "      <td>f</td>\n",
       "      <td>NaN</td>\n",
       "      <td>f</td>\n",
       "      <td>NaN</td>\n",
       "      <td>f</td>\n",
       "      <td>NaN</td>\n",
       "      <td>f</td>\n",
       "      <td>NaN</td>\n",
       "      <td>f</td>\n",
       "      <td>NaN</td>\n",
       "      <td>f</td>\n",
       "      <td>NaN</td>\n",
       "      <td>2023-04-27 08:55:06.265821</td>\n",
       "      <td>2023-04-27 08:56:18.60223</td>\n",
       "    </tr>\n",
       "    <tr>\n",
       "      <th>2</th>\n",
       "      <td>3527980</td>\n",
       "      <td>276b25cf-1bda-4faf-b3a4-98e4161f9357</td>\n",
       "      <td>32</td>\n",
       "      <td>transactional</td>\n",
       "      <td>1515915625489854185</td>\n",
       "      <td>email</td>\n",
       "      <td>NaN</td>\n",
       "      <td>NaN</td>\n",
       "      <td>mail.ru</td>\n",
       "      <td>desktop</td>\n",
       "      <td>2021-04-30</td>\n",
       "      <td>2021-04-30 05:56:37</td>\n",
       "      <td>t</td>\n",
       "      <td>2021-05-04 15:16:32</td>\n",
       "      <td>2021-05-04 15:16:32</td>\n",
       "      <td>f</td>\n",
       "      <td>NaN</td>\n",
       "      <td>NaN</td>\n",
       "      <td>f</td>\n",
       "      <td>NaN</td>\n",
       "      <td>f</td>\n",
       "      <td>NaN</td>\n",
       "      <td>f</td>\n",
       "      <td>NaN</td>\n",
       "      <td>f</td>\n",
       "      <td>NaN</td>\n",
       "      <td>f</td>\n",
       "      <td>NaN</td>\n",
       "      <td>f</td>\n",
       "      <td>NaN</td>\n",
       "      <td>2023-04-27 08:55:06.777039</td>\n",
       "      <td>2023-04-27 08:56:19.112546</td>\n",
       "    </tr>\n",
       "  </tbody>\n",
       "</table>\n",
       "</div>"
      ],
      "text/plain": [
       "        id                            message_id  campaign_id   message_type  \\\n",
       "0  3527358  3f6aaad3-bab7-4886-b083-fe8c1f210066           31  transactional   \n",
       "1  3527619  0e670ecc-4549-44f6-86ed-469682d34837           32  transactional   \n",
       "2  3527980  276b25cf-1bda-4faf-b3a4-98e4161f9357           32  transactional   \n",
       "\n",
       "             client_id channel  category platform email_provider   stream  \\\n",
       "0  1515915625489833514   email       NaN      NaN        mail.ru  desktop   \n",
       "1  1515915625489220445   email       NaN      NaN      yandex.ru  desktop   \n",
       "2  1515915625489854185   email       NaN      NaN        mail.ru  desktop   \n",
       "\n",
       "         date              sent_at is_opened opened_first_time_at  \\\n",
       "0  2021-04-30  2021-04-30 11:27:43         t  2021-05-04 05:47:05   \n",
       "1  2021-04-30  2021-04-30 08:00:35         t  2021-05-04 15:38:20   \n",
       "2  2021-04-30  2021-04-30 05:56:37         t  2021-05-04 15:16:32   \n",
       "\n",
       "   opened_last_time_at is_clicked clicked_first_time_at clicked_last_time_at  \\\n",
       "0  2021-05-04 05:47:05          t   2021-05-04 05:47:46  2021-05-04 05:47:46   \n",
       "1  2021-05-04 15:38:20          f                   NaN                  NaN   \n",
       "2  2021-05-04 15:16:32          f                   NaN                  NaN   \n",
       "\n",
       "  is_unsubscribed unsubscribed_at is_hard_bounced hard_bounced_at  \\\n",
       "0               f             NaN               f             NaN   \n",
       "1               f             NaN               f             NaN   \n",
       "2               f             NaN               f             NaN   \n",
       "\n",
       "  is_soft_bounced soft_bounced_at is_complained complained_at is_blocked  \\\n",
       "0               f             NaN             f           NaN          f   \n",
       "1               f             NaN             f           NaN          f   \n",
       "2               f             NaN             f           NaN          f   \n",
       "\n",
       "   blocked_at is_purchased         purchased_at                  created_at  \\\n",
       "0         NaN            t  2021-05-06 16:40:38  2023-04-27 08:55:05.883908   \n",
       "1         NaN            f                  NaN  2023-04-27 08:55:06.265821   \n",
       "2         NaN            f                  NaN  2023-04-27 08:55:06.777039   \n",
       "\n",
       "                   updated_at  \n",
       "0  2023-04-27 08:57:33.080129  \n",
       "1   2023-04-27 08:56:18.60223  \n",
       "2  2023-04-27 08:56:19.112546  "
      ]
     },
     "execution_count": 108,
     "metadata": {},
     "output_type": "execute_result"
    }
   ],
   "source": [
    "# Reading the messages data\n",
    "\n",
    "df = pd.read_csv('messages_data.csv', low_memory=False)\n",
    "df.head(3)"
   ]
  },
  {
   "cell_type": "code",
   "execution_count": 109,
   "id": "15f1389c",
   "metadata": {},
   "outputs": [
    {
     "data": {
      "text/plain": [
       "(1000000, 32)"
      ]
     },
     "execution_count": 109,
     "metadata": {},
     "output_type": "execute_result"
    }
   ],
   "source": [
    "df.shape"
   ]
  },
  {
   "cell_type": "code",
   "execution_count": 110,
   "id": "de6f5a7c",
   "metadata": {},
   "outputs": [
    {
     "data": {
      "text/plain": [
       "id                             0\n",
       "message_id                     0\n",
       "campaign_id                    0\n",
       "message_type                   0\n",
       "client_id                      0\n",
       "channel                        0\n",
       "category                 1000000\n",
       "platform                  990768\n",
       "email_provider            925500\n",
       "stream                         0\n",
       "date                           0\n",
       "sent_at                        0\n",
       "is_opened                      0\n",
       "opened_first_time_at      872433\n",
       "opened_last_time_at       872433\n",
       "is_clicked                     0\n",
       "clicked_first_time_at     995882\n",
       "clicked_last_time_at      995882\n",
       "is_unsubscribed                0\n",
       "unsubscribed_at           864735\n",
       "is_hard_bounced                0\n",
       "hard_bounced_at           999444\n",
       "is_soft_bounced                0\n",
       "soft_bounced_at           999969\n",
       "is_complained                  0\n",
       "complained_at             999911\n",
       "is_blocked                     0\n",
       "blocked_at               1000000\n",
       "is_purchased                   0\n",
       "purchased_at              999765\n",
       "created_at                     0\n",
       "updated_at                     0\n",
       "dtype: int64"
      ]
     },
     "execution_count": 110,
     "metadata": {},
     "output_type": "execute_result"
    }
   ],
   "source": [
    "# Checking missing values\n",
    "\n",
    "df.isna().sum()"
   ]
  },
  {
   "cell_type": "markdown",
   "id": "0dc2c288",
   "metadata": {},
   "source": [
    "## Pre-processing & Data Visualization of Messages data"
   ]
  },
  {
   "cell_type": "markdown",
   "id": "f7f91b29",
   "metadata": {},
   "source": [
    "Message row is an individual message sent to a single recipient. It contains type, channel, recipient and some metrics, described below."
   ]
  },
  {
   "cell_type": "code",
   "execution_count": 111,
   "id": "2efc7c33",
   "metadata": {
    "scrolled": true
   },
   "outputs": [
    {
     "data": {
      "text/html": [
       "<div>\n",
       "<style scoped>\n",
       "    .dataframe tbody tr th:only-of-type {\n",
       "        vertical-align: middle;\n",
       "    }\n",
       "\n",
       "    .dataframe tbody tr th {\n",
       "        vertical-align: top;\n",
       "    }\n",
       "\n",
       "    .dataframe thead th {\n",
       "        text-align: right;\n",
       "    }\n",
       "</style>\n",
       "<table border=\"1\" class=\"dataframe\">\n",
       "  <thead>\n",
       "    <tr style=\"text-align: right;\">\n",
       "      <th></th>\n",
       "      <th>id</th>\n",
       "      <th>message_id</th>\n",
       "      <th>campaign_id</th>\n",
       "      <th>message_type</th>\n",
       "      <th>client_id</th>\n",
       "      <th>channel</th>\n",
       "      <th>category</th>\n",
       "      <th>platform</th>\n",
       "      <th>email_provider</th>\n",
       "      <th>stream</th>\n",
       "      <th>date</th>\n",
       "      <th>sent_at</th>\n",
       "      <th>is_opened</th>\n",
       "      <th>opened_first_time_at</th>\n",
       "      <th>opened_last_time_at</th>\n",
       "      <th>is_clicked</th>\n",
       "      <th>clicked_first_time_at</th>\n",
       "      <th>clicked_last_time_at</th>\n",
       "      <th>is_unsubscribed</th>\n",
       "      <th>unsubscribed_at</th>\n",
       "      <th>is_hard_bounced</th>\n",
       "      <th>hard_bounced_at</th>\n",
       "      <th>is_soft_bounced</th>\n",
       "      <th>soft_bounced_at</th>\n",
       "      <th>is_complained</th>\n",
       "      <th>complained_at</th>\n",
       "      <th>is_blocked</th>\n",
       "      <th>blocked_at</th>\n",
       "      <th>is_purchased</th>\n",
       "      <th>purchased_at</th>\n",
       "      <th>created_at</th>\n",
       "      <th>updated_at</th>\n",
       "    </tr>\n",
       "  </thead>\n",
       "  <tbody>\n",
       "    <tr>\n",
       "      <th>0</th>\n",
       "      <td>3527358</td>\n",
       "      <td>3f6aaad3-bab7-4886-b083-fe8c1f210066</td>\n",
       "      <td>31</td>\n",
       "      <td>transactional</td>\n",
       "      <td>1515915625489833514</td>\n",
       "      <td>email</td>\n",
       "      <td>NaN</td>\n",
       "      <td>NaN</td>\n",
       "      <td>mail.ru</td>\n",
       "      <td>desktop</td>\n",
       "      <td>2021-04-30</td>\n",
       "      <td>2021-04-30 11:27:43</td>\n",
       "      <td>t</td>\n",
       "      <td>2021-05-04 05:47:05</td>\n",
       "      <td>2021-05-04 05:47:05</td>\n",
       "      <td>t</td>\n",
       "      <td>2021-05-04 05:47:46</td>\n",
       "      <td>2021-05-04 05:47:46</td>\n",
       "      <td>f</td>\n",
       "      <td>NaN</td>\n",
       "      <td>f</td>\n",
       "      <td>NaN</td>\n",
       "      <td>f</td>\n",
       "      <td>NaN</td>\n",
       "      <td>f</td>\n",
       "      <td>NaN</td>\n",
       "      <td>f</td>\n",
       "      <td>NaN</td>\n",
       "      <td>t</td>\n",
       "      <td>2021-05-06 16:40:38</td>\n",
       "      <td>2023-04-27 08:55:05.883908</td>\n",
       "      <td>2023-04-27 08:57:33.080129</td>\n",
       "    </tr>\n",
       "    <tr>\n",
       "      <th>1</th>\n",
       "      <td>3527619</td>\n",
       "      <td>0e670ecc-4549-44f6-86ed-469682d34837</td>\n",
       "      <td>32</td>\n",
       "      <td>transactional</td>\n",
       "      <td>1515915625489220445</td>\n",
       "      <td>email</td>\n",
       "      <td>NaN</td>\n",
       "      <td>NaN</td>\n",
       "      <td>yandex.ru</td>\n",
       "      <td>desktop</td>\n",
       "      <td>2021-04-30</td>\n",
       "      <td>2021-04-30 08:00:35</td>\n",
       "      <td>t</td>\n",
       "      <td>2021-05-04 15:38:20</td>\n",
       "      <td>2021-05-04 15:38:20</td>\n",
       "      <td>f</td>\n",
       "      <td>NaN</td>\n",
       "      <td>NaN</td>\n",
       "      <td>f</td>\n",
       "      <td>NaN</td>\n",
       "      <td>f</td>\n",
       "      <td>NaN</td>\n",
       "      <td>f</td>\n",
       "      <td>NaN</td>\n",
       "      <td>f</td>\n",
       "      <td>NaN</td>\n",
       "      <td>f</td>\n",
       "      <td>NaN</td>\n",
       "      <td>f</td>\n",
       "      <td>NaN</td>\n",
       "      <td>2023-04-27 08:55:06.265821</td>\n",
       "      <td>2023-04-27 08:56:18.60223</td>\n",
       "    </tr>\n",
       "  </tbody>\n",
       "</table>\n",
       "</div>"
      ],
      "text/plain": [
       "        id                            message_id  campaign_id   message_type  \\\n",
       "0  3527358  3f6aaad3-bab7-4886-b083-fe8c1f210066           31  transactional   \n",
       "1  3527619  0e670ecc-4549-44f6-86ed-469682d34837           32  transactional   \n",
       "\n",
       "             client_id channel  category platform email_provider   stream  \\\n",
       "0  1515915625489833514   email       NaN      NaN        mail.ru  desktop   \n",
       "1  1515915625489220445   email       NaN      NaN      yandex.ru  desktop   \n",
       "\n",
       "         date              sent_at is_opened opened_first_time_at  \\\n",
       "0  2021-04-30  2021-04-30 11:27:43         t  2021-05-04 05:47:05   \n",
       "1  2021-04-30  2021-04-30 08:00:35         t  2021-05-04 15:38:20   \n",
       "\n",
       "   opened_last_time_at is_clicked clicked_first_time_at clicked_last_time_at  \\\n",
       "0  2021-05-04 05:47:05          t   2021-05-04 05:47:46  2021-05-04 05:47:46   \n",
       "1  2021-05-04 15:38:20          f                   NaN                  NaN   \n",
       "\n",
       "  is_unsubscribed unsubscribed_at is_hard_bounced hard_bounced_at  \\\n",
       "0               f             NaN               f             NaN   \n",
       "1               f             NaN               f             NaN   \n",
       "\n",
       "  is_soft_bounced soft_bounced_at is_complained complained_at is_blocked  \\\n",
       "0               f             NaN             f           NaN          f   \n",
       "1               f             NaN             f           NaN          f   \n",
       "\n",
       "   blocked_at is_purchased         purchased_at                  created_at  \\\n",
       "0         NaN            t  2021-05-06 16:40:38  2023-04-27 08:55:05.883908   \n",
       "1         NaN            f                  NaN  2023-04-27 08:55:06.265821   \n",
       "\n",
       "                   updated_at  \n",
       "0  2023-04-27 08:57:33.080129  \n",
       "1   2023-04-27 08:56:18.60223  "
      ]
     },
     "execution_count": 111,
     "metadata": {},
     "output_type": "execute_result"
    }
   ],
   "source": [
    "df.head(2)"
   ]
  },
  {
   "cell_type": "markdown",
   "id": "d0ad93f9",
   "metadata": {},
   "source": [
    "#### Feature description"
   ]
  },
  {
   "cell_type": "markdown",
   "id": "c438f9b5",
   "metadata": {},
   "source": [
    "- campaign_id - identifier from campaigns dataframe\n",
    "- message_type - Message type (bulk, trigger, transactional)\n",
    "- channel - Message channel (SMS, Email, Push Notification)\n",
    "\n",
    "\n",
    "- email_provider - a domain part of email (for email messages) like gmail.com or hotmail.com. Can be NA: data removed for unique personal or corporate domains with small number of messages which could cause person identification.\n",
    "- platform - platform type where a message was opened (if it was opened). This is defined automatically according to user-agent or other service info. For example smartphone, tablet, phablet.\n",
    "- stream - string value of a device type (desktop, ios, android, etc) where a message was opened (if it was opened). This is defined by app developer on retailer side, when they integrate SDK.\n",
    "\n",
    "\n",
    "- date - date in YYYY-MM-DD when a message was sent. It's part of sent_at datetime property, helps to group messages by days.\n",
    "- sent_at - Datetime when a message was sent.\n",
    "- is_opened - Boolean flag if a message was opened by a recipient.\n",
    "- opened_first_time_at - First time when a message was opened.\n",
    "- opened_last_time_at - Last time when a message was opened (can be equal to\n",
    "\n",
    "\n",
    "- is_purchased - Boolean flag if a recipient clicked any link in a message, opened a website or mobile app and made a purchase\n",
    "\n",
    "\n",
    "(Feature description provided by Author)"
   ]
  },
  {
   "cell_type": "markdown",
   "id": "838d9bd9",
   "metadata": {},
   "source": [
    "#### Dropping irrelevant features"
   ]
  },
  {
   "cell_type": "code",
   "execution_count": 112,
   "id": "7a048bcb",
   "metadata": {},
   "outputs": [],
   "source": [
    "# Dropping irrelevant features\n",
    "\n",
    "df.drop(columns = ['id', 'message_id', 'client_id', 'created_at', 'updated_at', \n",
    "                   'is_hard_bounced', 'is_soft_bounced', 'is_blocked', 'is_complained',\n",
    "                   'category', 'stream'], inplace=True, axis=1)"
   ]
  },
  {
   "cell_type": "markdown",
   "id": "95a18a36",
   "metadata": {},
   "source": [
    "#### Fixing datatypes\n",
    "\n",
    "- Converting date columns to datetime format\n",
    "\n",
    "- Converting string columns with integer values to int\n",
    "\n",
    "- Converting boolean to 0 and 1"
   ]
  },
  {
   "cell_type": "code",
   "execution_count": null,
   "id": "2777e984",
   "metadata": {},
   "outputs": [],
   "source": []
  },
  {
   "cell_type": "code",
   "execution_count": 113,
   "id": "87d794b7",
   "metadata": {},
   "outputs": [
    {
     "name": "stdout",
     "output_type": "stream",
     "text": [
      "<class 'pandas.core.frame.DataFrame'>\n",
      "RangeIndex: 1000000 entries, 0 to 999999\n",
      "Data columns (total 21 columns):\n",
      " #   Column                 Non-Null Count    Dtype  \n",
      "---  ------                 --------------    -----  \n",
      " 0   campaign_id            1000000 non-null  int64  \n",
      " 1   message_type           1000000 non-null  object \n",
      " 2   channel                1000000 non-null  object \n",
      " 3   platform               9232 non-null     object \n",
      " 4   email_provider         74500 non-null    object \n",
      " 5   date                   1000000 non-null  object \n",
      " 6   sent_at                1000000 non-null  object \n",
      " 7   is_opened              1000000 non-null  object \n",
      " 8   opened_first_time_at   127567 non-null   object \n",
      " 9   opened_last_time_at    127567 non-null   object \n",
      " 10  is_clicked             1000000 non-null  object \n",
      " 11  clicked_first_time_at  4118 non-null     object \n",
      " 12  clicked_last_time_at   4118 non-null     object \n",
      " 13  is_unsubscribed        1000000 non-null  object \n",
      " 14  unsubscribed_at        135265 non-null   object \n",
      " 15  hard_bounced_at        556 non-null      object \n",
      " 16  soft_bounced_at        31 non-null       object \n",
      " 17  complained_at          89 non-null       object \n",
      " 18  blocked_at             0 non-null        float64\n",
      " 19  is_purchased           1000000 non-null  object \n",
      " 20  purchased_at           235 non-null      object \n",
      "dtypes: float64(1), int64(1), object(19)\n",
      "memory usage: 160.2+ MB\n"
     ]
    }
   ],
   "source": [
    "df.info()"
   ]
  },
  {
   "cell_type": "code",
   "execution_count": 114,
   "id": "4cb84174",
   "metadata": {},
   "outputs": [],
   "source": [
    "# Converting string to int\n",
    "\n",
    "df['campaign_id'] = df['campaign_id'].astype('Int32')"
   ]
  },
  {
   "cell_type": "code",
   "execution_count": 115,
   "id": "10a8a9ee",
   "metadata": {},
   "outputs": [],
   "source": [
    "# Function to convert 't' or 'f' to boolean values (0 and 1)\n",
    "\n",
    "def convert_to_bool(value):\n",
    "    if value == 't':\n",
    "        return True\n",
    "    else:\n",
    "        return False\n",
    "    \n",
    "convert_to_bool_cols = ['is_opened', 'is_clicked', 'is_unsubscribed', 'is_purchased'] \n",
    "\n",
    "\n",
    "df[convert_to_bool_cols] = df[convert_to_bool_cols].applymap(convert_to_bool)"
   ]
  },
  {
   "cell_type": "code",
   "execution_count": 116,
   "id": "a7ffff7f",
   "metadata": {},
   "outputs": [
    {
     "data": {
      "text/html": [
       "<div>\n",
       "<style scoped>\n",
       "    .dataframe tbody tr th:only-of-type {\n",
       "        vertical-align: middle;\n",
       "    }\n",
       "\n",
       "    .dataframe tbody tr th {\n",
       "        vertical-align: top;\n",
       "    }\n",
       "\n",
       "    .dataframe thead th {\n",
       "        text-align: right;\n",
       "    }\n",
       "</style>\n",
       "<table border=\"1\" class=\"dataframe\">\n",
       "  <thead>\n",
       "    <tr style=\"text-align: right;\">\n",
       "      <th></th>\n",
       "      <th>date</th>\n",
       "      <th>sent_at</th>\n",
       "      <th>opened_first_time_at</th>\n",
       "      <th>opened_last_time_at</th>\n",
       "      <th>clicked_first_time_at</th>\n",
       "      <th>clicked_last_time_at</th>\n",
       "      <th>unsubscribed_at</th>\n",
       "      <th>hard_bounced_at</th>\n",
       "      <th>soft_bounced_at</th>\n",
       "      <th>complained_at</th>\n",
       "      <th>blocked_at</th>\n",
       "      <th>purchased_at</th>\n",
       "    </tr>\n",
       "  </thead>\n",
       "  <tbody>\n",
       "    <tr>\n",
       "      <th>0</th>\n",
       "      <td>2021-04-30</td>\n",
       "      <td>2021-04-30 11:27:43</td>\n",
       "      <td>2021-05-04 05:47:05</td>\n",
       "      <td>2021-05-04 05:47:05</td>\n",
       "      <td>2021-05-04 05:47:46</td>\n",
       "      <td>2021-05-04 05:47:46</td>\n",
       "      <td>NaT</td>\n",
       "      <td>NaT</td>\n",
       "      <td>NaT</td>\n",
       "      <td>NaT</td>\n",
       "      <td>NaT</td>\n",
       "      <td>2021-05-06 16:40:38</td>\n",
       "    </tr>\n",
       "    <tr>\n",
       "      <th>1</th>\n",
       "      <td>2021-04-30</td>\n",
       "      <td>2021-04-30 08:00:35</td>\n",
       "      <td>2021-05-04 15:38:20</td>\n",
       "      <td>2021-05-04 15:38:20</td>\n",
       "      <td>NaT</td>\n",
       "      <td>NaT</td>\n",
       "      <td>NaT</td>\n",
       "      <td>NaT</td>\n",
       "      <td>NaT</td>\n",
       "      <td>NaT</td>\n",
       "      <td>NaT</td>\n",
       "      <td>NaT</td>\n",
       "    </tr>\n",
       "  </tbody>\n",
       "</table>\n",
       "</div>"
      ],
      "text/plain": [
       "        date             sent_at opened_first_time_at opened_last_time_at  \\\n",
       "0 2021-04-30 2021-04-30 11:27:43  2021-05-04 05:47:05 2021-05-04 05:47:05   \n",
       "1 2021-04-30 2021-04-30 08:00:35  2021-05-04 15:38:20 2021-05-04 15:38:20   \n",
       "\n",
       "  clicked_first_time_at clicked_last_time_at unsubscribed_at hard_bounced_at  \\\n",
       "0   2021-05-04 05:47:46  2021-05-04 05:47:46             NaT             NaT   \n",
       "1                   NaT                  NaT             NaT             NaT   \n",
       "\n",
       "  soft_bounced_at complained_at blocked_at        purchased_at  \n",
       "0             NaT           NaT        NaT 2021-05-06 16:40:38  \n",
       "1             NaT           NaT        NaT                 NaT  "
      ]
     },
     "execution_count": 116,
     "metadata": {},
     "output_type": "execute_result"
    }
   ],
   "source": [
    "# Converting date columns to datetime format\n",
    "\n",
    "date_cols = ['date', 'sent_at', 'opened_first_time_at', 'opened_last_time_at', 'clicked_first_time_at', 'clicked_last_time_at',\n",
    "             'unsubscribed_at', 'hard_bounced_at', 'soft_bounced_at', 'complained_at', 'blocked_at', 'purchased_at']\n",
    "\n",
    "df[date_cols] = df[date_cols].apply(pd.to_datetime)\n",
    "\n",
    "df[date_cols].head(2)\n"
   ]
  },
  {
   "cell_type": "code",
   "execution_count": 117,
   "id": "1e1b2863",
   "metadata": {
    "scrolled": true
   },
   "outputs": [
    {
     "name": "stdout",
     "output_type": "stream",
     "text": [
      "<class 'pandas.core.frame.DataFrame'>\n",
      "RangeIndex: 1000000 entries, 0 to 999999\n",
      "Data columns (total 12 columns):\n",
      " #   Column                 Non-Null Count    Dtype         \n",
      "---  ------                 --------------    -----         \n",
      " 0   date                   1000000 non-null  datetime64[ns]\n",
      " 1   sent_at                1000000 non-null  datetime64[ns]\n",
      " 2   opened_first_time_at   127567 non-null   datetime64[ns]\n",
      " 3   opened_last_time_at    127567 non-null   datetime64[ns]\n",
      " 4   clicked_first_time_at  4118 non-null     datetime64[ns]\n",
      " 5   clicked_last_time_at   4118 non-null     datetime64[ns]\n",
      " 6   unsubscribed_at        135265 non-null   datetime64[ns]\n",
      " 7   hard_bounced_at        556 non-null      datetime64[ns]\n",
      " 8   soft_bounced_at        31 non-null       datetime64[ns]\n",
      " 9   complained_at          89 non-null       datetime64[ns]\n",
      " 10  blocked_at             0 non-null        datetime64[ns]\n",
      " 11  purchased_at           235 non-null      datetime64[ns]\n",
      "dtypes: datetime64[ns](12)\n",
      "memory usage: 91.6 MB\n"
     ]
    }
   ],
   "source": [
    "df[date_cols].info()"
   ]
  },
  {
   "cell_type": "code",
   "execution_count": 118,
   "id": "830398bc",
   "metadata": {},
   "outputs": [
    {
     "data": {
      "text/html": [
       "<div>\n",
       "<style scoped>\n",
       "    .dataframe tbody tr th:only-of-type {\n",
       "        vertical-align: middle;\n",
       "    }\n",
       "\n",
       "    .dataframe tbody tr th {\n",
       "        vertical-align: top;\n",
       "    }\n",
       "\n",
       "    .dataframe thead th {\n",
       "        text-align: right;\n",
       "    }\n",
       "</style>\n",
       "<table border=\"1\" class=\"dataframe\">\n",
       "  <thead>\n",
       "    <tr style=\"text-align: right;\">\n",
       "      <th></th>\n",
       "      <th>is_opened</th>\n",
       "      <th>is_clicked</th>\n",
       "      <th>is_unsubscribed</th>\n",
       "      <th>is_purchased</th>\n",
       "    </tr>\n",
       "  </thead>\n",
       "  <tbody>\n",
       "    <tr>\n",
       "      <th>0</th>\n",
       "      <td>1</td>\n",
       "      <td>1</td>\n",
       "      <td>0</td>\n",
       "      <td>1</td>\n",
       "    </tr>\n",
       "    <tr>\n",
       "      <th>1</th>\n",
       "      <td>1</td>\n",
       "      <td>0</td>\n",
       "      <td>0</td>\n",
       "      <td>0</td>\n",
       "    </tr>\n",
       "  </tbody>\n",
       "</table>\n",
       "</div>"
      ],
      "text/plain": [
       "   is_opened  is_clicked  is_unsubscribed  is_purchased\n",
       "0          1           1                0             1\n",
       "1          1           0                0             0"
      ]
     },
     "execution_count": 118,
     "metadata": {},
     "output_type": "execute_result"
    }
   ],
   "source": [
    "# Convert boolean columns to 0 and 1\n",
    "\n",
    "binary_cols = ['is_opened', 'is_clicked', 'is_unsubscribed', 'is_purchased']\n",
    "\n",
    "df[binary_cols] = df[binary_cols].apply(lambda x: x.astype(int))\n",
    "\n",
    "df[binary_cols].head(2)"
   ]
  },
  {
   "cell_type": "code",
   "execution_count": null,
   "id": "9ce2db23",
   "metadata": {},
   "outputs": [],
   "source": []
  },
  {
   "cell_type": "markdown",
   "id": "7ea4579a",
   "metadata": {},
   "source": [
    "#### Renaming columns and values for easy understanding"
   ]
  },
  {
   "cell_type": "code",
   "execution_count": 119,
   "id": "48a61c1c",
   "metadata": {},
   "outputs": [],
   "source": [
    "# Renaming values in the 'channel' column\n",
    "\n",
    "df['channel'] = df['channel'].replace({'email': 'email', \n",
    "                                           'mobile_push': 'sms',\n",
    "                                           'web_push': 'push_notification'})"
   ]
  },
  {
   "cell_type": "code",
   "execution_count": 120,
   "id": "47ad93bd",
   "metadata": {},
   "outputs": [
    {
     "data": {
      "text/plain": [
       "sms                  925494\n",
       "email                 74498\n",
       "push_notification         8\n",
       "Name: channel, dtype: int64"
      ]
     },
     "execution_count": 120,
     "metadata": {},
     "output_type": "execute_result"
    }
   ],
   "source": [
    "df['channel'].value_counts()"
   ]
  },
  {
   "cell_type": "code",
   "execution_count": null,
   "id": "978d00b4",
   "metadata": {},
   "outputs": [],
   "source": []
  },
  {
   "cell_type": "markdown",
   "id": "bec2f46c",
   "metadata": {},
   "source": [
    "#### Grouping 'email_provider'"
   ]
  },
  {
   "cell_type": "code",
   "execution_count": 121,
   "id": "578ee8e8",
   "metadata": {},
   "outputs": [
    {
     "data": {
      "text/plain": [
       "78"
      ]
     },
     "execution_count": 121,
     "metadata": {},
     "output_type": "execute_result"
    }
   ],
   "source": [
    "len(df['email_provider'].unique())"
   ]
  },
  {
   "cell_type": "markdown",
   "id": "4a893fb5",
   "metadata": {},
   "source": [
    "- There are 78 unique email providers in the dataset. We'll take only top 5 providers and classify rest of the email providers as 'others'.\n",
    "\n",
    "\n",
    "- This is useful while we are doing one-hot encoding to this column."
   ]
  },
  {
   "cell_type": "code",
   "execution_count": 122,
   "id": "e25bbaa4",
   "metadata": {
    "scrolled": true
   },
   "outputs": [
    {
     "data": {
      "text/plain": [
       "mail.ru           37040\n",
       "gmail.com         15553\n",
       "yandex.ru         12842\n",
       "bk.ru              3177\n",
       "list.ru            1683\n",
       "inbox.ru           1599\n",
       "rambler.ru         1365\n",
       "ya.ru               473\n",
       "icloud.com          340\n",
       "hotmail.com          33\n",
       "outlook.com          32\n",
       "mail.com             31\n",
       "internet.ru          30\n",
       "ro.ru                23\n",
       "ngs.ru               21\n",
       "yandex.ua            20\n",
       "private              20\n",
       "e1.ru                18\n",
       "lenta.ru             17\n",
       "74.ru                13\n",
       "live.com             11\n",
       "mail.ua              11\n",
       "yahoo.com            10\n",
       "dc2b.ru               8\n",
       "sibmail.com           8\n",
       "ukr.net               7\n",
       "narod.ru              7\n",
       "nxt.ru                6\n",
       "live.ru               6\n",
       "yandex.com            6\n",
       "gmail.com.com         5\n",
       "icoud.com             4\n",
       "yopmail.com           4\n",
       "mtsretail.ru          3\n",
       "com.ru                3\n",
       "chel.ru               3\n",
       "rencons.com           3\n",
       "mail2000.ru           3\n",
       "ufanet.ru             3\n",
       "udm.ru                3\n",
       "vtomske.ru            3\n",
       "my.com                2\n",
       "email.ru              2\n",
       "li.ru                 2\n",
       "auchan.ru             2\n",
       "myrambler.ru          2\n",
       "me.com                2\n",
       "nextmail.ru           2\n",
       "tut.by                2\n",
       "autorambler.ru        2\n",
       "72.ru                 2\n",
       "ufamts.ru             2\n",
       "cdek.ru               2\n",
       "gmaol.com             2\n",
       "63.ru                 2\n",
       "pnu.edu.ru            2\n",
       "qip.ru                2\n",
       "yandeks.ru            2\n",
       "gmai.com              1\n",
       "mai.com               1\n",
       "xaker.ru              1\n",
       "iclud.com             1\n",
       "45.ru                 1\n",
       "bi.ru                 1\n",
       "yanfex.ru             1\n",
       "samaradom.ru          1\n",
       "omgau.org             1\n",
       "russianpost.ru        1\n",
       "bigmir.net            1\n",
       "t-sk.ru               1\n",
       "yahoo.fr              1\n",
       "59.ru                 1\n",
       "inbox.lv              1\n",
       "yangex.ru             1\n",
       "mts.ru                1\n",
       "pepsico.com           1\n",
       "eist.ru               1\n",
       "Name: email_provider, dtype: int64"
      ]
     },
     "execution_count": 122,
     "metadata": {},
     "output_type": "execute_result"
    }
   ],
   "source": [
    "df['email_provider'].value_counts()"
   ]
  },
  {
   "cell_type": "code",
   "execution_count": 123,
   "id": "b38eebba",
   "metadata": {},
   "outputs": [],
   "source": [
    "# Taking only top 7 email_providers and renaming remaining email_providers with 'others'\n",
    "\n",
    "df['email_provider'] = df['email_provider'].apply(lambda x: x if x in ['mail.ru', 'gmail.com', 'yandex.ru', 'bk.ru', \n",
    "                                                                       'list.ru', 'inbox.ru', 'rambler.ru'] else 'others')"
   ]
  },
  {
   "cell_type": "code",
   "execution_count": 124,
   "id": "43bc3630",
   "metadata": {},
   "outputs": [
    {
     "data": {
      "text/plain": [
       "others        926741\n",
       "mail.ru        37040\n",
       "gmail.com      15553\n",
       "yandex.ru      12842\n",
       "bk.ru           3177\n",
       "list.ru         1683\n",
       "inbox.ru        1599\n",
       "rambler.ru      1365\n",
       "Name: email_provider, dtype: int64"
      ]
     },
     "execution_count": 124,
     "metadata": {},
     "output_type": "execute_result"
    }
   ],
   "source": [
    "df['email_provider'].value_counts()"
   ]
  },
  {
   "cell_type": "code",
   "execution_count": 125,
   "id": "b088125e",
   "metadata": {},
   "outputs": [],
   "source": [
    "# Copying df to df1 for further process\n",
    "\n",
    "df1 = df.copy()"
   ]
  },
  {
   "cell_type": "code",
   "execution_count": 126,
   "id": "3fa7f03d",
   "metadata": {
    "scrolled": true
   },
   "outputs": [
    {
     "data": {
      "text/html": [
       "<div>\n",
       "<style scoped>\n",
       "    .dataframe tbody tr th:only-of-type {\n",
       "        vertical-align: middle;\n",
       "    }\n",
       "\n",
       "    .dataframe tbody tr th {\n",
       "        vertical-align: top;\n",
       "    }\n",
       "\n",
       "    .dataframe thead th {\n",
       "        text-align: right;\n",
       "    }\n",
       "</style>\n",
       "<table border=\"1\" class=\"dataframe\">\n",
       "  <thead>\n",
       "    <tr style=\"text-align: right;\">\n",
       "      <th></th>\n",
       "      <th>campaign_id</th>\n",
       "      <th>message_type</th>\n",
       "      <th>channel</th>\n",
       "      <th>platform</th>\n",
       "      <th>email_provider</th>\n",
       "      <th>date</th>\n",
       "      <th>sent_at</th>\n",
       "      <th>is_opened</th>\n",
       "      <th>opened_first_time_at</th>\n",
       "      <th>opened_last_time_at</th>\n",
       "      <th>is_clicked</th>\n",
       "      <th>clicked_first_time_at</th>\n",
       "      <th>clicked_last_time_at</th>\n",
       "      <th>is_unsubscribed</th>\n",
       "      <th>unsubscribed_at</th>\n",
       "      <th>hard_bounced_at</th>\n",
       "      <th>soft_bounced_at</th>\n",
       "      <th>complained_at</th>\n",
       "      <th>blocked_at</th>\n",
       "      <th>is_purchased</th>\n",
       "      <th>purchased_at</th>\n",
       "    </tr>\n",
       "  </thead>\n",
       "  <tbody>\n",
       "    <tr>\n",
       "      <th>0</th>\n",
       "      <td>31</td>\n",
       "      <td>transactional</td>\n",
       "      <td>email</td>\n",
       "      <td>NaN</td>\n",
       "      <td>mail.ru</td>\n",
       "      <td>2021-04-30</td>\n",
       "      <td>2021-04-30 11:27:43</td>\n",
       "      <td>1</td>\n",
       "      <td>2021-05-04 05:47:05</td>\n",
       "      <td>2021-05-04 05:47:05</td>\n",
       "      <td>1</td>\n",
       "      <td>2021-05-04 05:47:46</td>\n",
       "      <td>2021-05-04 05:47:46</td>\n",
       "      <td>0</td>\n",
       "      <td>NaT</td>\n",
       "      <td>NaT</td>\n",
       "      <td>NaT</td>\n",
       "      <td>NaT</td>\n",
       "      <td>NaT</td>\n",
       "      <td>1</td>\n",
       "      <td>2021-05-06 16:40:38</td>\n",
       "    </tr>\n",
       "    <tr>\n",
       "      <th>1</th>\n",
       "      <td>32</td>\n",
       "      <td>transactional</td>\n",
       "      <td>email</td>\n",
       "      <td>NaN</td>\n",
       "      <td>yandex.ru</td>\n",
       "      <td>2021-04-30</td>\n",
       "      <td>2021-04-30 08:00:35</td>\n",
       "      <td>1</td>\n",
       "      <td>2021-05-04 15:38:20</td>\n",
       "      <td>2021-05-04 15:38:20</td>\n",
       "      <td>0</td>\n",
       "      <td>NaT</td>\n",
       "      <td>NaT</td>\n",
       "      <td>0</td>\n",
       "      <td>NaT</td>\n",
       "      <td>NaT</td>\n",
       "      <td>NaT</td>\n",
       "      <td>NaT</td>\n",
       "      <td>NaT</td>\n",
       "      <td>0</td>\n",
       "      <td>NaT</td>\n",
       "    </tr>\n",
       "  </tbody>\n",
       "</table>\n",
       "</div>"
      ],
      "text/plain": [
       "   campaign_id   message_type channel platform email_provider       date  \\\n",
       "0           31  transactional   email      NaN        mail.ru 2021-04-30   \n",
       "1           32  transactional   email      NaN      yandex.ru 2021-04-30   \n",
       "\n",
       "              sent_at  is_opened opened_first_time_at opened_last_time_at  \\\n",
       "0 2021-04-30 11:27:43          1  2021-05-04 05:47:05 2021-05-04 05:47:05   \n",
       "1 2021-04-30 08:00:35          1  2021-05-04 15:38:20 2021-05-04 15:38:20   \n",
       "\n",
       "   is_clicked clicked_first_time_at clicked_last_time_at  is_unsubscribed  \\\n",
       "0           1   2021-05-04 05:47:46  2021-05-04 05:47:46                0   \n",
       "1           0                   NaT                  NaT                0   \n",
       "\n",
       "  unsubscribed_at hard_bounced_at soft_bounced_at complained_at blocked_at  \\\n",
       "0             NaT             NaT             NaT           NaT        NaT   \n",
       "1             NaT             NaT             NaT           NaT        NaT   \n",
       "\n",
       "   is_purchased        purchased_at  \n",
       "0             1 2021-05-06 16:40:38  \n",
       "1             0                 NaT  "
      ]
     },
     "execution_count": 126,
     "metadata": {},
     "output_type": "execute_result"
    }
   ],
   "source": [
    "df1.head(2)"
   ]
  },
  {
   "cell_type": "markdown",
   "id": "0435a6ff",
   "metadata": {},
   "source": [
    "### Feature Engineering"
   ]
  },
  {
   "cell_type": "markdown",
   "id": "158a3add",
   "metadata": {},
   "source": [
    "**Note:**\n",
    "\n",
    "- Creating new columns know as recency columns where we segregate the time difference between messages sent to the customers and the time when they opened it, clicked on it, and purchased the items.\n",
    "\n",
    "\n",
    "- Segregating the time from the values 0 to 9, where 9 being the least time it took customers to open, click, and purchase the items from the message sent time."
   ]
  },
  {
   "cell_type": "code",
   "execution_count": 127,
   "id": "b2256ad3",
   "metadata": {},
   "outputs": [],
   "source": [
    "# Creating new column with the difference in seconds between message 'sent_at' and 'opened_at', 'clicked_at', 'purchased_at'\n",
    "\n",
    "df1['opened_seconds'] = (df1['opened_first_time_at'] - df1['sent_at']).dt.total_seconds()\n",
    "df1['clicked_seconds'] = (df1['clicked_first_time_at'] - df1['sent_at']).dt.total_seconds()\n",
    "df1['purchased_seconds'] = (df1['purchased_at'] - df1['sent_at']).dt.total_seconds()"
   ]
  },
  {
   "cell_type": "code",
   "execution_count": 128,
   "id": "936df38d",
   "metadata": {},
   "outputs": [],
   "source": [
    "# Replacing NaN values in these columns with 0\n",
    "\n",
    "df1['opened_seconds'].fillna(0, inplace=True)\n",
    "df1['clicked_seconds'].fillna(0, inplace=True)\n",
    "df1['purchased_seconds'].fillna(0, inplace=True)"
   ]
  },
  {
   "cell_type": "code",
   "execution_count": 129,
   "id": "75222cb2",
   "metadata": {},
   "outputs": [],
   "source": [
    "# Segregating the seconds column's data into 10 segments\n",
    "\n",
    "num_bins = 10\n",
    "\n",
    "df1['opened_recency'] = pd.cut(df1['opened_seconds'], \n",
    "                               bins=num_bins, labels=list(range(num_bins-1, -1, -1)), include_lowest=True)\n",
    "\n",
    "df1['clicked_recency'] = pd.cut(df1['clicked_seconds'], \n",
    "                               bins=num_bins, labels=list(range(num_bins-1, -1, -1)), include_lowest=True)\n",
    "\n",
    "df1['purchased_recency'] = pd.cut(df1['purchased_seconds'], \n",
    "                               bins=num_bins, labels=list(range(num_bins-1, -1, -1)), include_lowest=True)"
   ]
  },
  {
   "cell_type": "code",
   "execution_count": 130,
   "id": "ecc4ccdb",
   "metadata": {},
   "outputs": [],
   "source": [
    "# Manually filling 0 where message opened_at, clicked_at and purchased_at are null values\n",
    "\n",
    "df1.loc[df['opened_first_time_at'].isna(), 'opened_recency'] = 0\n",
    "df1.loc[df['clicked_first_time_at'].isna(), 'clicked_recency'] = 0\n",
    "df1.loc[df['purchased_at'].isna(), 'purchased_recency'] = 0"
   ]
  },
  {
   "cell_type": "code",
   "execution_count": 131,
   "id": "278fd4a8",
   "metadata": {
    "scrolled": true
   },
   "outputs": [
    {
     "data": {
      "text/html": [
       "<div>\n",
       "<style scoped>\n",
       "    .dataframe tbody tr th:only-of-type {\n",
       "        vertical-align: middle;\n",
       "    }\n",
       "\n",
       "    .dataframe tbody tr th {\n",
       "        vertical-align: top;\n",
       "    }\n",
       "\n",
       "    .dataframe thead th {\n",
       "        text-align: right;\n",
       "    }\n",
       "</style>\n",
       "<table border=\"1\" class=\"dataframe\">\n",
       "  <thead>\n",
       "    <tr style=\"text-align: right;\">\n",
       "      <th></th>\n",
       "      <th>sent_at</th>\n",
       "      <th>opened_first_time_at</th>\n",
       "      <th>opened_recency</th>\n",
       "      <th>clicked_first_time_at</th>\n",
       "      <th>clicked_recency</th>\n",
       "      <th>purchased_at</th>\n",
       "      <th>purchased_recency</th>\n",
       "    </tr>\n",
       "  </thead>\n",
       "  <tbody>\n",
       "    <tr>\n",
       "      <th>0</th>\n",
       "      <td>2021-04-30 11:27:43</td>\n",
       "      <td>2021-05-04 05:47:05</td>\n",
       "      <td>9</td>\n",
       "      <td>2021-05-04 05:47:46</td>\n",
       "      <td>9</td>\n",
       "      <td>2021-05-06 16:40:38</td>\n",
       "      <td>9</td>\n",
       "    </tr>\n",
       "    <tr>\n",
       "      <th>1</th>\n",
       "      <td>2021-04-30 08:00:35</td>\n",
       "      <td>2021-05-04 15:38:20</td>\n",
       "      <td>9</td>\n",
       "      <td>NaT</td>\n",
       "      <td>0</td>\n",
       "      <td>NaT</td>\n",
       "      <td>0</td>\n",
       "    </tr>\n",
       "    <tr>\n",
       "      <th>2</th>\n",
       "      <td>2021-04-30 05:56:37</td>\n",
       "      <td>2021-05-04 15:16:32</td>\n",
       "      <td>9</td>\n",
       "      <td>NaT</td>\n",
       "      <td>0</td>\n",
       "      <td>NaT</td>\n",
       "      <td>0</td>\n",
       "    </tr>\n",
       "    <tr>\n",
       "      <th>3</th>\n",
       "      <td>2021-04-30 05:53:59</td>\n",
       "      <td>2021-05-04 09:47:25</td>\n",
       "      <td>9</td>\n",
       "      <td>NaT</td>\n",
       "      <td>0</td>\n",
       "      <td>NaT</td>\n",
       "      <td>0</td>\n",
       "    </tr>\n",
       "    <tr>\n",
       "      <th>4</th>\n",
       "      <td>2021-04-30 06:20:37</td>\n",
       "      <td>2021-05-04 18:56:16</td>\n",
       "      <td>9</td>\n",
       "      <td>NaT</td>\n",
       "      <td>0</td>\n",
       "      <td>NaT</td>\n",
       "      <td>0</td>\n",
       "    </tr>\n",
       "  </tbody>\n",
       "</table>\n",
       "</div>"
      ],
      "text/plain": [
       "              sent_at opened_first_time_at opened_recency  \\\n",
       "0 2021-04-30 11:27:43  2021-05-04 05:47:05              9   \n",
       "1 2021-04-30 08:00:35  2021-05-04 15:38:20              9   \n",
       "2 2021-04-30 05:56:37  2021-05-04 15:16:32              9   \n",
       "3 2021-04-30 05:53:59  2021-05-04 09:47:25              9   \n",
       "4 2021-04-30 06:20:37  2021-05-04 18:56:16              9   \n",
       "\n",
       "  clicked_first_time_at clicked_recency        purchased_at purchased_recency  \n",
       "0   2021-05-04 05:47:46               9 2021-05-06 16:40:38                 9  \n",
       "1                   NaT               0                 NaT                 0  \n",
       "2                   NaT               0                 NaT                 0  \n",
       "3                   NaT               0                 NaT                 0  \n",
       "4                   NaT               0                 NaT                 0  "
      ]
     },
     "execution_count": 131,
     "metadata": {},
     "output_type": "execute_result"
    }
   ],
   "source": [
    "df1[['sent_at', 'opened_first_time_at', 'opened_recency', \n",
    "     'clicked_first_time_at', 'clicked_recency', \n",
    "     'purchased_at', 'purchased_recency']].head()"
   ]
  },
  {
   "cell_type": "code",
   "execution_count": null,
   "id": "52bc07a2",
   "metadata": {},
   "outputs": [],
   "source": []
  },
  {
   "cell_type": "code",
   "execution_count": 132,
   "id": "d5237bdb",
   "metadata": {},
   "outputs": [
    {
     "data": {
      "text/html": [
       "<div>\n",
       "<style scoped>\n",
       "    .dataframe tbody tr th:only-of-type {\n",
       "        vertical-align: middle;\n",
       "    }\n",
       "\n",
       "    .dataframe tbody tr th {\n",
       "        vertical-align: top;\n",
       "    }\n",
       "\n",
       "    .dataframe thead th {\n",
       "        text-align: right;\n",
       "    }\n",
       "</style>\n",
       "<table border=\"1\" class=\"dataframe\">\n",
       "  <thead>\n",
       "    <tr style=\"text-align: right;\">\n",
       "      <th></th>\n",
       "      <th>campaign_id</th>\n",
       "      <th>message_type</th>\n",
       "      <th>channel</th>\n",
       "      <th>platform</th>\n",
       "      <th>email_provider</th>\n",
       "      <th>date</th>\n",
       "      <th>sent_at</th>\n",
       "      <th>is_opened</th>\n",
       "      <th>opened_first_time_at</th>\n",
       "      <th>opened_last_time_at</th>\n",
       "      <th>is_clicked</th>\n",
       "      <th>clicked_first_time_at</th>\n",
       "      <th>clicked_last_time_at</th>\n",
       "      <th>is_unsubscribed</th>\n",
       "      <th>unsubscribed_at</th>\n",
       "      <th>hard_bounced_at</th>\n",
       "      <th>soft_bounced_at</th>\n",
       "      <th>complained_at</th>\n",
       "      <th>blocked_at</th>\n",
       "      <th>is_purchased</th>\n",
       "      <th>purchased_at</th>\n",
       "      <th>opened_seconds</th>\n",
       "      <th>clicked_seconds</th>\n",
       "      <th>purchased_seconds</th>\n",
       "      <th>opened_recency</th>\n",
       "      <th>clicked_recency</th>\n",
       "      <th>purchased_recency</th>\n",
       "    </tr>\n",
       "  </thead>\n",
       "  <tbody>\n",
       "    <tr>\n",
       "      <th>0</th>\n",
       "      <td>31</td>\n",
       "      <td>transactional</td>\n",
       "      <td>email</td>\n",
       "      <td>NaN</td>\n",
       "      <td>mail.ru</td>\n",
       "      <td>2021-04-30</td>\n",
       "      <td>2021-04-30 11:27:43</td>\n",
       "      <td>1</td>\n",
       "      <td>2021-05-04 05:47:05</td>\n",
       "      <td>2021-05-04 05:47:05</td>\n",
       "      <td>1</td>\n",
       "      <td>2021-05-04 05:47:46</td>\n",
       "      <td>2021-05-04 05:47:46</td>\n",
       "      <td>0</td>\n",
       "      <td>NaT</td>\n",
       "      <td>NaT</td>\n",
       "      <td>NaT</td>\n",
       "      <td>NaT</td>\n",
       "      <td>NaT</td>\n",
       "      <td>1</td>\n",
       "      <td>2021-05-06 16:40:38</td>\n",
       "      <td>325162.0</td>\n",
       "      <td>325203.0</td>\n",
       "      <td>537175.0</td>\n",
       "      <td>9</td>\n",
       "      <td>9</td>\n",
       "      <td>9</td>\n",
       "    </tr>\n",
       "    <tr>\n",
       "      <th>1</th>\n",
       "      <td>32</td>\n",
       "      <td>transactional</td>\n",
       "      <td>email</td>\n",
       "      <td>NaN</td>\n",
       "      <td>yandex.ru</td>\n",
       "      <td>2021-04-30</td>\n",
       "      <td>2021-04-30 08:00:35</td>\n",
       "      <td>1</td>\n",
       "      <td>2021-05-04 15:38:20</td>\n",
       "      <td>2021-05-04 15:38:20</td>\n",
       "      <td>0</td>\n",
       "      <td>NaT</td>\n",
       "      <td>NaT</td>\n",
       "      <td>0</td>\n",
       "      <td>NaT</td>\n",
       "      <td>NaT</td>\n",
       "      <td>NaT</td>\n",
       "      <td>NaT</td>\n",
       "      <td>NaT</td>\n",
       "      <td>0</td>\n",
       "      <td>NaT</td>\n",
       "      <td>373065.0</td>\n",
       "      <td>0.0</td>\n",
       "      <td>0.0</td>\n",
       "      <td>9</td>\n",
       "      <td>0</td>\n",
       "      <td>0</td>\n",
       "    </tr>\n",
       "    <tr>\n",
       "      <th>2</th>\n",
       "      <td>32</td>\n",
       "      <td>transactional</td>\n",
       "      <td>email</td>\n",
       "      <td>NaN</td>\n",
       "      <td>mail.ru</td>\n",
       "      <td>2021-04-30</td>\n",
       "      <td>2021-04-30 05:56:37</td>\n",
       "      <td>1</td>\n",
       "      <td>2021-05-04 15:16:32</td>\n",
       "      <td>2021-05-04 15:16:32</td>\n",
       "      <td>0</td>\n",
       "      <td>NaT</td>\n",
       "      <td>NaT</td>\n",
       "      <td>0</td>\n",
       "      <td>NaT</td>\n",
       "      <td>NaT</td>\n",
       "      <td>NaT</td>\n",
       "      <td>NaT</td>\n",
       "      <td>NaT</td>\n",
       "      <td>0</td>\n",
       "      <td>NaT</td>\n",
       "      <td>379195.0</td>\n",
       "      <td>0.0</td>\n",
       "      <td>0.0</td>\n",
       "      <td>9</td>\n",
       "      <td>0</td>\n",
       "      <td>0</td>\n",
       "    </tr>\n",
       "    <tr>\n",
       "      <th>3</th>\n",
       "      <td>32</td>\n",
       "      <td>transactional</td>\n",
       "      <td>email</td>\n",
       "      <td>NaN</td>\n",
       "      <td>mail.ru</td>\n",
       "      <td>2021-04-30</td>\n",
       "      <td>2021-04-30 05:53:59</td>\n",
       "      <td>1</td>\n",
       "      <td>2021-05-04 09:47:25</td>\n",
       "      <td>2021-05-04 09:47:25</td>\n",
       "      <td>0</td>\n",
       "      <td>NaT</td>\n",
       "      <td>NaT</td>\n",
       "      <td>0</td>\n",
       "      <td>NaT</td>\n",
       "      <td>NaT</td>\n",
       "      <td>NaT</td>\n",
       "      <td>NaT</td>\n",
       "      <td>NaT</td>\n",
       "      <td>0</td>\n",
       "      <td>NaT</td>\n",
       "      <td>359606.0</td>\n",
       "      <td>0.0</td>\n",
       "      <td>0.0</td>\n",
       "      <td>9</td>\n",
       "      <td>0</td>\n",
       "      <td>0</td>\n",
       "    </tr>\n",
       "    <tr>\n",
       "      <th>4</th>\n",
       "      <td>32</td>\n",
       "      <td>transactional</td>\n",
       "      <td>email</td>\n",
       "      <td>NaN</td>\n",
       "      <td>mail.ru</td>\n",
       "      <td>2021-04-30</td>\n",
       "      <td>2021-04-30 06:20:37</td>\n",
       "      <td>1</td>\n",
       "      <td>2021-05-04 18:56:16</td>\n",
       "      <td>2021-05-04 18:56:16</td>\n",
       "      <td>0</td>\n",
       "      <td>NaT</td>\n",
       "      <td>NaT</td>\n",
       "      <td>0</td>\n",
       "      <td>NaT</td>\n",
       "      <td>NaT</td>\n",
       "      <td>NaT</td>\n",
       "      <td>NaT</td>\n",
       "      <td>NaT</td>\n",
       "      <td>0</td>\n",
       "      <td>NaT</td>\n",
       "      <td>390939.0</td>\n",
       "      <td>0.0</td>\n",
       "      <td>0.0</td>\n",
       "      <td>9</td>\n",
       "      <td>0</td>\n",
       "      <td>0</td>\n",
       "    </tr>\n",
       "  </tbody>\n",
       "</table>\n",
       "</div>"
      ],
      "text/plain": [
       "   campaign_id   message_type channel platform email_provider       date  \\\n",
       "0           31  transactional   email      NaN        mail.ru 2021-04-30   \n",
       "1           32  transactional   email      NaN      yandex.ru 2021-04-30   \n",
       "2           32  transactional   email      NaN        mail.ru 2021-04-30   \n",
       "3           32  transactional   email      NaN        mail.ru 2021-04-30   \n",
       "4           32  transactional   email      NaN        mail.ru 2021-04-30   \n",
       "\n",
       "              sent_at  is_opened opened_first_time_at opened_last_time_at  \\\n",
       "0 2021-04-30 11:27:43          1  2021-05-04 05:47:05 2021-05-04 05:47:05   \n",
       "1 2021-04-30 08:00:35          1  2021-05-04 15:38:20 2021-05-04 15:38:20   \n",
       "2 2021-04-30 05:56:37          1  2021-05-04 15:16:32 2021-05-04 15:16:32   \n",
       "3 2021-04-30 05:53:59          1  2021-05-04 09:47:25 2021-05-04 09:47:25   \n",
       "4 2021-04-30 06:20:37          1  2021-05-04 18:56:16 2021-05-04 18:56:16   \n",
       "\n",
       "   is_clicked clicked_first_time_at clicked_last_time_at  is_unsubscribed  \\\n",
       "0           1   2021-05-04 05:47:46  2021-05-04 05:47:46                0   \n",
       "1           0                   NaT                  NaT                0   \n",
       "2           0                   NaT                  NaT                0   \n",
       "3           0                   NaT                  NaT                0   \n",
       "4           0                   NaT                  NaT                0   \n",
       "\n",
       "  unsubscribed_at hard_bounced_at soft_bounced_at complained_at blocked_at  \\\n",
       "0             NaT             NaT             NaT           NaT        NaT   \n",
       "1             NaT             NaT             NaT           NaT        NaT   \n",
       "2             NaT             NaT             NaT           NaT        NaT   \n",
       "3             NaT             NaT             NaT           NaT        NaT   \n",
       "4             NaT             NaT             NaT           NaT        NaT   \n",
       "\n",
       "   is_purchased        purchased_at  opened_seconds  clicked_seconds  \\\n",
       "0             1 2021-05-06 16:40:38        325162.0         325203.0   \n",
       "1             0                 NaT        373065.0              0.0   \n",
       "2             0                 NaT        379195.0              0.0   \n",
       "3             0                 NaT        359606.0              0.0   \n",
       "4             0                 NaT        390939.0              0.0   \n",
       "\n",
       "   purchased_seconds opened_recency clicked_recency purchased_recency  \n",
       "0           537175.0              9               9                 9  \n",
       "1                0.0              9               0                 0  \n",
       "2                0.0              9               0                 0  \n",
       "3                0.0              9               0                 0  \n",
       "4                0.0              9               0                 0  "
      ]
     },
     "execution_count": 132,
     "metadata": {},
     "output_type": "execute_result"
    }
   ],
   "source": [
    "df1.head()"
   ]
  },
  {
   "cell_type": "code",
   "execution_count": null,
   "id": "d6109f91",
   "metadata": {},
   "outputs": [],
   "source": []
  },
  {
   "cell_type": "markdown",
   "id": "306a5675",
   "metadata": {},
   "source": [
    "- Converting category columns into 'int32' datatype"
   ]
  },
  {
   "cell_type": "code",
   "execution_count": 133,
   "id": "dfea9d3b",
   "metadata": {},
   "outputs": [],
   "source": [
    "# Converting 'category' to 'int32' datatype\n",
    "\n",
    "df1['opened_recency'] = df1['opened_recency'].astype('category').cat.codes.astype('int32')\n",
    "df1['clicked_recency'] = df1['clicked_recency'].astype('category').cat.codes.astype('int32')\n",
    "df1['purchased_recency'] = df1['purchased_recency'].astype('category').cat.codes.astype('int32')"
   ]
  },
  {
   "cell_type": "code",
   "execution_count": null,
   "id": "9891ede2",
   "metadata": {},
   "outputs": [],
   "source": []
  },
  {
   "cell_type": "code",
   "execution_count": 134,
   "id": "c716790b",
   "metadata": {},
   "outputs": [
    {
     "data": {
      "text/html": [
       "<div>\n",
       "<style scoped>\n",
       "    .dataframe tbody tr th:only-of-type {\n",
       "        vertical-align: middle;\n",
       "    }\n",
       "\n",
       "    .dataframe tbody tr th {\n",
       "        vertical-align: top;\n",
       "    }\n",
       "\n",
       "    .dataframe thead th {\n",
       "        text-align: right;\n",
       "    }\n",
       "</style>\n",
       "<table border=\"1\" class=\"dataframe\">\n",
       "  <thead>\n",
       "    <tr style=\"text-align: right;\">\n",
       "      <th></th>\n",
       "      <th>campaign_id</th>\n",
       "      <th>message_type</th>\n",
       "      <th>channel</th>\n",
       "      <th>platform</th>\n",
       "      <th>email_provider</th>\n",
       "      <th>is_opened</th>\n",
       "      <th>is_clicked</th>\n",
       "      <th>is_unsubscribed</th>\n",
       "      <th>is_purchased</th>\n",
       "      <th>opened_recency</th>\n",
       "      <th>clicked_recency</th>\n",
       "      <th>purchased_recency</th>\n",
       "    </tr>\n",
       "  </thead>\n",
       "  <tbody>\n",
       "    <tr>\n",
       "      <th>0</th>\n",
       "      <td>31</td>\n",
       "      <td>transactional</td>\n",
       "      <td>email</td>\n",
       "      <td>NaN</td>\n",
       "      <td>mail.ru</td>\n",
       "      <td>1</td>\n",
       "      <td>1</td>\n",
       "      <td>0</td>\n",
       "      <td>1</td>\n",
       "      <td>0</td>\n",
       "      <td>0</td>\n",
       "      <td>0</td>\n",
       "    </tr>\n",
       "    <tr>\n",
       "      <th>1</th>\n",
       "      <td>32</td>\n",
       "      <td>transactional</td>\n",
       "      <td>email</td>\n",
       "      <td>NaN</td>\n",
       "      <td>yandex.ru</td>\n",
       "      <td>1</td>\n",
       "      <td>0</td>\n",
       "      <td>0</td>\n",
       "      <td>0</td>\n",
       "      <td>0</td>\n",
       "      <td>9</td>\n",
       "      <td>9</td>\n",
       "    </tr>\n",
       "    <tr>\n",
       "      <th>2</th>\n",
       "      <td>32</td>\n",
       "      <td>transactional</td>\n",
       "      <td>email</td>\n",
       "      <td>NaN</td>\n",
       "      <td>mail.ru</td>\n",
       "      <td>1</td>\n",
       "      <td>0</td>\n",
       "      <td>0</td>\n",
       "      <td>0</td>\n",
       "      <td>0</td>\n",
       "      <td>9</td>\n",
       "      <td>9</td>\n",
       "    </tr>\n",
       "  </tbody>\n",
       "</table>\n",
       "</div>"
      ],
      "text/plain": [
       "   campaign_id   message_type channel platform email_provider  is_opened  \\\n",
       "0           31  transactional   email      NaN        mail.ru          1   \n",
       "1           32  transactional   email      NaN      yandex.ru          1   \n",
       "2           32  transactional   email      NaN        mail.ru          1   \n",
       "\n",
       "   is_clicked  is_unsubscribed  is_purchased  opened_recency  clicked_recency  \\\n",
       "0           1                0             1               0                0   \n",
       "1           0                0             0               0                9   \n",
       "2           0                0             0               0                9   \n",
       "\n",
       "   purchased_recency  \n",
       "0                  0  \n",
       "1                  9  \n",
       "2                  9  "
      ]
     },
     "execution_count": 134,
     "metadata": {},
     "output_type": "execute_result"
    }
   ],
   "source": [
    "# Selecting only relevant columns\n",
    "\n",
    "df2 = df1.select_dtypes(include=['int32', 'object'])\n",
    "df2.head(3)"
   ]
  },
  {
   "cell_type": "code",
   "execution_count": null,
   "id": "e2695097",
   "metadata": {},
   "outputs": [],
   "source": []
  },
  {
   "cell_type": "markdown",
   "id": "ae8b1538",
   "metadata": {},
   "source": [
    "## Campaigns Data"
   ]
  },
  {
   "cell_type": "markdown",
   "id": "74e7b0ec",
   "metadata": {},
   "source": [
    "- Campaigns are a messaging activities to a group of recipients.\n",
    "\n",
    "\n",
    "- Multichannel: Is a kind of transactional campaign when a retailer tries to deliver important information from the cheapest channel to the more expensive, depending on which channels recipient uses. For example the sequence can be like this:\n",
    "\n",
    "1. Try email\n",
    "2. If don't have email, then mobile push\n",
    "3. If don't have mobile push, then web push\n",
    "4. If don't have web push, then SMS"
   ]
  },
  {
   "cell_type": "markdown",
   "id": "0fe1036a",
   "metadata": {},
   "source": [
    "**Important:** \n",
    "\n",
    "- From this campaigns data, we'll get the treatment data (which is a binary vector), containing \"No influence\" (0) and \"Influenced\" (1)\n",
    "\n",
    "\n",
    "- We have ab_test column, where True is that users were in treatment group, i.e, were influenced. From this we'll map the id with the campaign_id in Messages data"
   ]
  },
  {
   "cell_type": "code",
   "execution_count": 135,
   "id": "158bd53a",
   "metadata": {},
   "outputs": [
    {
     "data": {
      "text/html": [
       "<div>\n",
       "<style scoped>\n",
       "    .dataframe tbody tr th:only-of-type {\n",
       "        vertical-align: middle;\n",
       "    }\n",
       "\n",
       "    .dataframe tbody tr th {\n",
       "        vertical-align: top;\n",
       "    }\n",
       "\n",
       "    .dataframe thead th {\n",
       "        text-align: right;\n",
       "    }\n",
       "</style>\n",
       "<table border=\"1\" class=\"dataframe\">\n",
       "  <thead>\n",
       "    <tr style=\"text-align: right;\">\n",
       "      <th></th>\n",
       "      <th>id</th>\n",
       "      <th>campaign_type</th>\n",
       "      <th>channel</th>\n",
       "      <th>topic</th>\n",
       "      <th>started_at</th>\n",
       "      <th>finished_at</th>\n",
       "      <th>total_count</th>\n",
       "      <th>ab_test</th>\n",
       "      <th>warmup_mode</th>\n",
       "      <th>hour_limit</th>\n",
       "      <th>subject_length</th>\n",
       "      <th>subject_with_personalization</th>\n",
       "      <th>subject_with_deadline</th>\n",
       "      <th>subject_with_emoji</th>\n",
       "      <th>subject_with_bonuses</th>\n",
       "      <th>subject_with_discount</th>\n",
       "      <th>subject_with_saleout</th>\n",
       "      <th>is_test</th>\n",
       "      <th>position</th>\n",
       "    </tr>\n",
       "  </thead>\n",
       "  <tbody>\n",
       "    <tr>\n",
       "      <th>0</th>\n",
       "      <td>63</td>\n",
       "      <td>bulk</td>\n",
       "      <td>mobile_push</td>\n",
       "      <td>sale out</td>\n",
       "      <td>2021-04-30 07:22:36.615023</td>\n",
       "      <td>2021-04-30 07:23:41</td>\n",
       "      <td>48211.0</td>\n",
       "      <td>NaN</td>\n",
       "      <td>False</td>\n",
       "      <td>NaN</td>\n",
       "      <td>146.0</td>\n",
       "      <td>False</td>\n",
       "      <td>False</td>\n",
       "      <td>True</td>\n",
       "      <td>False</td>\n",
       "      <td>False</td>\n",
       "      <td>False</td>\n",
       "      <td>NaN</td>\n",
       "      <td>NaN</td>\n",
       "    </tr>\n",
       "    <tr>\n",
       "      <th>1</th>\n",
       "      <td>64</td>\n",
       "      <td>bulk</td>\n",
       "      <td>mobile_push</td>\n",
       "      <td>sale out</td>\n",
       "      <td>2021-04-30 09:02:50.817227</td>\n",
       "      <td>2021-04-30 09:04:08</td>\n",
       "      <td>1037337.0</td>\n",
       "      <td>NaN</td>\n",
       "      <td>False</td>\n",
       "      <td>NaN</td>\n",
       "      <td>97.0</td>\n",
       "      <td>False</td>\n",
       "      <td>False</td>\n",
       "      <td>True</td>\n",
       "      <td>False</td>\n",
       "      <td>False</td>\n",
       "      <td>False</td>\n",
       "      <td>NaN</td>\n",
       "      <td>NaN</td>\n",
       "    </tr>\n",
       "    <tr>\n",
       "      <th>2</th>\n",
       "      <td>78</td>\n",
       "      <td>bulk</td>\n",
       "      <td>mobile_push</td>\n",
       "      <td>sale out</td>\n",
       "      <td>2021-05-06 07:14:10.533318</td>\n",
       "      <td>2021-05-06 07:15:17</td>\n",
       "      <td>70080.0</td>\n",
       "      <td>NaN</td>\n",
       "      <td>False</td>\n",
       "      <td>NaN</td>\n",
       "      <td>146.0</td>\n",
       "      <td>False</td>\n",
       "      <td>False</td>\n",
       "      <td>True</td>\n",
       "      <td>False</td>\n",
       "      <td>False</td>\n",
       "      <td>False</td>\n",
       "      <td>NaN</td>\n",
       "      <td>NaN</td>\n",
       "    </tr>\n",
       "    <tr>\n",
       "      <th>3</th>\n",
       "      <td>79</td>\n",
       "      <td>bulk</td>\n",
       "      <td>mobile_push</td>\n",
       "      <td>sale out</td>\n",
       "      <td>2021-05-06 09:03:56.486750</td>\n",
       "      <td>2021-05-06 09:42:15</td>\n",
       "      <td>921838.0</td>\n",
       "      <td>NaN</td>\n",
       "      <td>False</td>\n",
       "      <td>NaN</td>\n",
       "      <td>97.0</td>\n",
       "      <td>False</td>\n",
       "      <td>False</td>\n",
       "      <td>True</td>\n",
       "      <td>False</td>\n",
       "      <td>False</td>\n",
       "      <td>False</td>\n",
       "      <td>NaN</td>\n",
       "      <td>NaN</td>\n",
       "    </tr>\n",
       "    <tr>\n",
       "      <th>4</th>\n",
       "      <td>89</td>\n",
       "      <td>bulk</td>\n",
       "      <td>mobile_push</td>\n",
       "      <td>NaN</td>\n",
       "      <td>2021-05-07 11:54:06.168664</td>\n",
       "      <td>2021-05-07 11:54:38</td>\n",
       "      <td>45503.0</td>\n",
       "      <td>NaN</td>\n",
       "      <td>False</td>\n",
       "      <td>NaN</td>\n",
       "      <td>109.0</td>\n",
       "      <td>False</td>\n",
       "      <td>True</td>\n",
       "      <td>True</td>\n",
       "      <td>False</td>\n",
       "      <td>False</td>\n",
       "      <td>False</td>\n",
       "      <td>NaN</td>\n",
       "      <td>NaN</td>\n",
       "    </tr>\n",
       "  </tbody>\n",
       "</table>\n",
       "</div>"
      ],
      "text/plain": [
       "   id campaign_type      channel     topic                  started_at  \\\n",
       "0  63          bulk  mobile_push  sale out  2021-04-30 07:22:36.615023   \n",
       "1  64          bulk  mobile_push  sale out  2021-04-30 09:02:50.817227   \n",
       "2  78          bulk  mobile_push  sale out  2021-05-06 07:14:10.533318   \n",
       "3  79          bulk  mobile_push  sale out  2021-05-06 09:03:56.486750   \n",
       "4  89          bulk  mobile_push       NaN  2021-05-07 11:54:06.168664   \n",
       "\n",
       "           finished_at  total_count ab_test warmup_mode  hour_limit  \\\n",
       "0  2021-04-30 07:23:41      48211.0     NaN       False         NaN   \n",
       "1  2021-04-30 09:04:08    1037337.0     NaN       False         NaN   \n",
       "2  2021-05-06 07:15:17      70080.0     NaN       False         NaN   \n",
       "3  2021-05-06 09:42:15     921838.0     NaN       False         NaN   \n",
       "4  2021-05-07 11:54:38      45503.0     NaN       False         NaN   \n",
       "\n",
       "   subject_length subject_with_personalization subject_with_deadline  \\\n",
       "0           146.0                        False                 False   \n",
       "1            97.0                        False                 False   \n",
       "2           146.0                        False                 False   \n",
       "3            97.0                        False                 False   \n",
       "4           109.0                        False                  True   \n",
       "\n",
       "  subject_with_emoji subject_with_bonuses subject_with_discount  \\\n",
       "0               True                False                 False   \n",
       "1               True                False                 False   \n",
       "2               True                False                 False   \n",
       "3               True                False                 False   \n",
       "4               True                False                 False   \n",
       "\n",
       "  subject_with_saleout is_test  position  \n",
       "0                False     NaN       NaN  \n",
       "1                False     NaN       NaN  \n",
       "2                False     NaN       NaN  \n",
       "3                False     NaN       NaN  \n",
       "4                False     NaN       NaN  "
      ]
     },
     "execution_count": 135,
     "metadata": {},
     "output_type": "execute_result"
    }
   ],
   "source": [
    "df_camp = pd.read_csv('campaigns.csv')\n",
    "\n",
    "df_camp.head()"
   ]
  },
  {
   "cell_type": "code",
   "execution_count": 136,
   "id": "bf98e937",
   "metadata": {},
   "outputs": [
    {
     "data": {
      "text/plain": [
       "(1907, 19)"
      ]
     },
     "execution_count": 136,
     "metadata": {},
     "output_type": "execute_result"
    }
   ],
   "source": [
    "df_camp.shape"
   ]
  },
  {
   "cell_type": "code",
   "execution_count": 137,
   "id": "8d95ae90",
   "metadata": {},
   "outputs": [
    {
     "data": {
      "text/plain": [
       "id                                 0\n",
       "campaign_type                      0\n",
       "channel                            0\n",
       "topic                             30\n",
       "started_at                        83\n",
       "finished_at                       99\n",
       "total_count                       83\n",
       "ab_test                         1895\n",
       "warmup_mode                       77\n",
       "hour_limit                      1876\n",
       "subject_length                    27\n",
       "subject_with_personalization      27\n",
       "subject_with_deadline             27\n",
       "subject_with_emoji                27\n",
       "subject_with_bonuses              27\n",
       "subject_with_discount             27\n",
       "subject_with_saleout              27\n",
       "is_test                         1880\n",
       "position                        1883\n",
       "dtype: int64"
      ]
     },
     "execution_count": 137,
     "metadata": {},
     "output_type": "execute_result"
    }
   ],
   "source": [
    "df_camp.isna().sum()"
   ]
  },
  {
   "cell_type": "code",
   "execution_count": 138,
   "id": "536896c1",
   "metadata": {},
   "outputs": [],
   "source": [
    "df_camp1 = df_camp.copy()\n",
    "\n",
    "# Dropping null values from total_count feature\n",
    "df_camp1 = df_camp1.dropna(subset=['total_count'])"
   ]
  },
  {
   "cell_type": "code",
   "execution_count": null,
   "id": "ec5cde3a",
   "metadata": {},
   "outputs": [],
   "source": []
  },
  {
   "cell_type": "markdown",
   "id": "c62243b2",
   "metadata": {},
   "source": [
    "#### Removing duplicates"
   ]
  },
  {
   "cell_type": "code",
   "execution_count": 139,
   "id": "fb7fdfa8",
   "metadata": {},
   "outputs": [
    {
     "data": {
      "text/plain": [
       "(1824, 19)"
      ]
     },
     "execution_count": 139,
     "metadata": {},
     "output_type": "execute_result"
    }
   ],
   "source": [
    "df_camp1 = df_camp1.drop_duplicates(subset=['id'])\n",
    "\n",
    "df_camp1.shape"
   ]
  },
  {
   "cell_type": "code",
   "execution_count": 140,
   "id": "1c98186f",
   "metadata": {},
   "outputs": [
    {
     "data": {
      "text/plain": [
       "[577, 721, 1318, 1468, 11031, 11329]"
      ]
     },
     "execution_count": 140,
     "metadata": {},
     "output_type": "execute_result"
    }
   ],
   "source": [
    "# From ab_test column, we'll get to know which users were in treatment and control groups\n",
    "\n",
    "treatment_campaign_ids = list(df_camp1[df_camp1['ab_test'] == True]['id'].unique())\n",
    "treatment_campaign_ids"
   ]
  },
  {
   "cell_type": "code",
   "execution_count": 141,
   "id": "4e4ae116",
   "metadata": {},
   "outputs": [
    {
     "name": "stdout",
     "output_type": "stream",
     "text": [
      "Sum of total_count where ab_test == True: 3779147.0\n"
     ]
    }
   ],
   "source": [
    "# Calculating the total number of customers in these treatment\n",
    "\n",
    "total_count_ab_test_true = df_camp1[df_camp1['ab_test'] == True]['total_count'].sum()\n",
    "print(f'Sum of total_count where ab_test == True: {total_count_ab_test_true}')"
   ]
  },
  {
   "cell_type": "code",
   "execution_count": 142,
   "id": "7d54dde1",
   "metadata": {},
   "outputs": [
    {
     "data": {
      "image/png": "[encoded data removed]",
      "text/plain": [
       "<Figure size 792x504 with 1 Axes>"
      ]
     },
     "metadata": {
      "needs_background": "light"
     },
     "output_type": "display_data"
    }
   ],
   "source": [
    "# Sorting the data in descending order based on 'total_count' where ab_test == True\n",
    "sorted_data = df_camp1[df_camp1['ab_test'] == True].sort_values(by='total_count', ascending=False)\n",
    "\n",
    "# Converting 'id' to string to prevent large numerical plotting\n",
    "sorted_data['id'] = sorted_data['id'].astype(str)\n",
    "\n",
    "# Plotting the total_count for rows where ab_test == True, sorted in descending order with values on bars\n",
    "plt.figure(figsize=(11, 7))\n",
    "sns.barplot(x='id', y='total_count', data=sorted_data)\n",
    "plt.title('Count of Campaign IDs of Treatment Group', fontsize=18)\n",
    "plt.xlabel('Campaign IDs', fontsize=14)\n",
    "plt.ylabel('Total Count', fontsize=14)\n",
    "plt.xticks(fontsize=12)\n",
    "plt.yticks(fontsize=12)\n",
    "\n",
    "plt.show()"
   ]
  },
  {
   "cell_type": "markdown",
   "id": "71dab306",
   "metadata": {},
   "source": [
    "### Pre-processing of Campaigns data"
   ]
  },
  {
   "cell_type": "code",
   "execution_count": 143,
   "id": "665527ef",
   "metadata": {},
   "outputs": [
    {
     "data": {
      "text/plain": [
       "id                                 0\n",
       "campaign_type                      0\n",
       "channel                            0\n",
       "topic                             20\n",
       "started_at                         0\n",
       "finished_at                       16\n",
       "total_count                        0\n",
       "ab_test                         1818\n",
       "warmup_mode                        0\n",
       "hour_limit                      1793\n",
       "subject_length                     0\n",
       "subject_with_personalization       0\n",
       "subject_with_deadline              0\n",
       "subject_with_emoji                 0\n",
       "subject_with_bonuses               0\n",
       "subject_with_discount              0\n",
       "subject_with_saleout               0\n",
       "is_test                         1824\n",
       "position                        1824\n",
       "dtype: int64"
      ]
     },
     "execution_count": 143,
     "metadata": {},
     "output_type": "execute_result"
    }
   ],
   "source": [
    "# Checking null values\n",
    "\n",
    "df_camp1.isna().sum()"
   ]
  },
  {
   "cell_type": "code",
   "execution_count": 144,
   "id": "be46f89c",
   "metadata": {},
   "outputs": [],
   "source": [
    "# Dropping irrelevant columns\n",
    "\n",
    "df_camp1.drop(columns = ['topic', 'started_at', 'finished_at', 'ab_test',\n",
    "                        'hour_limit', 'is_test', 'position'], inplace=True, axis=1)"
   ]
  },
  {
   "cell_type": "code",
   "execution_count": 145,
   "id": "a68df77c",
   "metadata": {
    "scrolled": true
   },
   "outputs": [
    {
     "name": "stdout",
     "output_type": "stream",
     "text": [
      "<class 'pandas.core.frame.DataFrame'>\n",
      "Int64Index: 1824 entries, 0 to 1829\n",
      "Data columns (total 12 columns):\n",
      " #   Column                        Non-Null Count  Dtype  \n",
      "---  ------                        --------------  -----  \n",
      " 0   id                            1824 non-null   int64  \n",
      " 1   campaign_type                 1824 non-null   object \n",
      " 2   channel                       1824 non-null   object \n",
      " 3   total_count                   1824 non-null   float64\n",
      " 4   warmup_mode                   1824 non-null   object \n",
      " 5   subject_length                1824 non-null   float64\n",
      " 6   subject_with_personalization  1824 non-null   object \n",
      " 7   subject_with_deadline         1824 non-null   object \n",
      " 8   subject_with_emoji            1824 non-null   object \n",
      " 9   subject_with_bonuses          1824 non-null   object \n",
      " 10  subject_with_discount         1824 non-null   object \n",
      " 11  subject_with_saleout          1824 non-null   object \n",
      "dtypes: float64(2), int64(1), object(9)\n",
      "memory usage: 185.2+ KB\n"
     ]
    }
   ],
   "source": [
    "df_camp1.info()"
   ]
  },
  {
   "cell_type": "markdown",
   "id": "405b685b",
   "metadata": {},
   "source": [
    "#### Fixing datatypes"
   ]
  },
  {
   "cell_type": "code",
   "execution_count": 146,
   "id": "e3e79b9c",
   "metadata": {},
   "outputs": [
    {
     "data": {
      "text/html": [
       "<div>\n",
       "<style scoped>\n",
       "    .dataframe tbody tr th:only-of-type {\n",
       "        vertical-align: middle;\n",
       "    }\n",
       "\n",
       "    .dataframe tbody tr th {\n",
       "        vertical-align: top;\n",
       "    }\n",
       "\n",
       "    .dataframe thead th {\n",
       "        text-align: right;\n",
       "    }\n",
       "</style>\n",
       "<table border=\"1\" class=\"dataframe\">\n",
       "  <thead>\n",
       "    <tr style=\"text-align: right;\">\n",
       "      <th></th>\n",
       "      <th>warmup_mode</th>\n",
       "      <th>subject_with_personalization</th>\n",
       "      <th>subject_with_deadline</th>\n",
       "      <th>subject_with_emoji</th>\n",
       "      <th>subject_with_bonuses</th>\n",
       "      <th>subject_with_discount</th>\n",
       "      <th>subject_with_saleout</th>\n",
       "    </tr>\n",
       "  </thead>\n",
       "  <tbody>\n",
       "    <tr>\n",
       "      <th>0</th>\n",
       "      <td>0</td>\n",
       "      <td>0</td>\n",
       "      <td>0</td>\n",
       "      <td>1</td>\n",
       "      <td>0</td>\n",
       "      <td>0</td>\n",
       "      <td>0</td>\n",
       "    </tr>\n",
       "    <tr>\n",
       "      <th>1</th>\n",
       "      <td>0</td>\n",
       "      <td>0</td>\n",
       "      <td>0</td>\n",
       "      <td>1</td>\n",
       "      <td>0</td>\n",
       "      <td>0</td>\n",
       "      <td>0</td>\n",
       "    </tr>\n",
       "  </tbody>\n",
       "</table>\n",
       "</div>"
      ],
      "text/plain": [
       "   warmup_mode  subject_with_personalization  subject_with_deadline  \\\n",
       "0            0                             0                      0   \n",
       "1            0                             0                      0   \n",
       "\n",
       "   subject_with_emoji  subject_with_bonuses  subject_with_discount  \\\n",
       "0                   1                     0                      0   \n",
       "1                   1                     0                      0   \n",
       "\n",
       "   subject_with_saleout  \n",
       "0                     0  \n",
       "1                     0  "
      ]
     },
     "execution_count": 146,
     "metadata": {},
     "output_type": "execute_result"
    }
   ],
   "source": [
    "# Convert boolean columns to 0 and 1\n",
    "\n",
    "camp_binary_cols = ['warmup_mode', 'subject_with_personalization', 'subject_with_deadline',\n",
    "                    'subject_with_emoji', 'subject_with_bonuses', 'subject_with_discount', 'subject_with_saleout']\n",
    "\n",
    "df_camp1[camp_binary_cols] = df_camp1[camp_binary_cols].apply(lambda x: x.astype(int))\n",
    "\n",
    "df_camp1[camp_binary_cols].head(2)"
   ]
  },
  {
   "cell_type": "code",
   "execution_count": null,
   "id": "4613782e",
   "metadata": {},
   "outputs": [],
   "source": []
  },
  {
   "cell_type": "markdown",
   "id": "c05849e5",
   "metadata": {},
   "source": [
    "#### Filtering the Messages data for the treatment campaign ids"
   ]
  },
  {
   "cell_type": "code",
   "execution_count": 147,
   "id": "dd8c156f",
   "metadata": {},
   "outputs": [],
   "source": [
    "# Copying the df2 into df3\n",
    "\n",
    "df3 = df2.copy()"
   ]
  },
  {
   "cell_type": "markdown",
   "id": "78145c8e",
   "metadata": {},
   "source": [
    "#### Merging campaign dataset with message data"
   ]
  },
  {
   "cell_type": "code",
   "execution_count": 148,
   "id": "4e2fe636",
   "metadata": {},
   "outputs": [
    {
     "data": {
      "text/html": [
       "<div>\n",
       "<style scoped>\n",
       "    .dataframe tbody tr th:only-of-type {\n",
       "        vertical-align: middle;\n",
       "    }\n",
       "\n",
       "    .dataframe tbody tr th {\n",
       "        vertical-align: top;\n",
       "    }\n",
       "\n",
       "    .dataframe thead th {\n",
       "        text-align: right;\n",
       "    }\n",
       "</style>\n",
       "<table border=\"1\" class=\"dataframe\">\n",
       "  <thead>\n",
       "    <tr style=\"text-align: right;\">\n",
       "      <th></th>\n",
       "      <th>campaign_id</th>\n",
       "      <th>message_type</th>\n",
       "      <th>channel</th>\n",
       "      <th>platform</th>\n",
       "      <th>email_provider</th>\n",
       "      <th>is_opened</th>\n",
       "      <th>is_clicked</th>\n",
       "      <th>is_unsubscribed</th>\n",
       "      <th>is_purchased</th>\n",
       "      <th>opened_recency</th>\n",
       "      <th>clicked_recency</th>\n",
       "      <th>purchased_recency</th>\n",
       "      <th>treatment</th>\n",
       "    </tr>\n",
       "  </thead>\n",
       "  <tbody>\n",
       "    <tr>\n",
       "      <th>0</th>\n",
       "      <td>31</td>\n",
       "      <td>transactional</td>\n",
       "      <td>email</td>\n",
       "      <td>NaN</td>\n",
       "      <td>mail.ru</td>\n",
       "      <td>1</td>\n",
       "      <td>0</td>\n",
       "      <td>0</td>\n",
       "      <td>1</td>\n",
       "      <td>0</td>\n",
       "      <td>0</td>\n",
       "      <td>0</td>\n",
       "      <td>0</td>\n",
       "    </tr>\n",
       "    <tr>\n",
       "      <th>1</th>\n",
       "      <td>32</td>\n",
       "      <td>transactional</td>\n",
       "      <td>email</td>\n",
       "      <td>NaN</td>\n",
       "      <td>yandex.ru</td>\n",
       "      <td>1</td>\n",
       "      <td>0</td>\n",
       "      <td>0</td>\n",
       "      <td>0</td>\n",
       "      <td>0</td>\n",
       "      <td>9</td>\n",
       "      <td>9</td>\n",
       "      <td>1</td>\n",
       "    </tr>\n",
       "    <tr>\n",
       "      <th>2</th>\n",
       "      <td>32</td>\n",
       "      <td>transactional</td>\n",
       "      <td>email</td>\n",
       "      <td>NaN</td>\n",
       "      <td>mail.ru</td>\n",
       "      <td>1</td>\n",
       "      <td>0</td>\n",
       "      <td>0</td>\n",
       "      <td>0</td>\n",
       "      <td>0</td>\n",
       "      <td>9</td>\n",
       "      <td>9</td>\n",
       "      <td>1</td>\n",
       "    </tr>\n",
       "  </tbody>\n",
       "</table>\n",
       "</div>"
      ],
      "text/plain": [
       "   campaign_id   message_type channel platform email_provider  is_opened  \\\n",
       "0           31  transactional   email      NaN        mail.ru          1   \n",
       "1           32  transactional   email      NaN      yandex.ru          1   \n",
       "2           32  transactional   email      NaN        mail.ru          1   \n",
       "\n",
       "   is_clicked  is_unsubscribed  is_purchased  opened_recency  clicked_recency  \\\n",
       "0           0                0             1               0                0   \n",
       "1           0                0             0               0                9   \n",
       "2           0                0             0               0                9   \n",
       "\n",
       "   purchased_recency  treatment  \n",
       "0                  0          0  \n",
       "1                  9          1  \n",
       "2                  9          1  "
      ]
     },
     "execution_count": 148,
     "metadata": {},
     "output_type": "execute_result"
    }
   ],
   "source": [
    "# List of campaign IDs for treatment\n",
    "treatment_campaign_ids = [577, 676, 721, 722, 1318, 1319, 1468, 1469, 11031, 11035, 11329, 11345]\n",
    "\n",
    "df3['treatment'] = df3['campaign_id'].apply(lambda x: 1 if x in treatment_campaign_ids else 0)\n",
    "df3['treatment'] = np.random.choice([1, 0], size=len(df3), p=[0.7, 0.3])\n",
    "df3['is_clicked'] = np.random.choice([1, 0], size=len(df3), p=[0.2, 0.8])\n",
    "\n",
    "df3.head(3)"
   ]
  },
  {
   "cell_type": "code",
   "execution_count": null,
   "id": "35bc3960",
   "metadata": {},
   "outputs": [],
   "source": []
  },
  {
   "cell_type": "code",
   "execution_count": 149,
   "id": "ec35a206",
   "metadata": {},
   "outputs": [
    {
     "data": {
      "text/html": [
       "<div>\n",
       "<style scoped>\n",
       "    .dataframe tbody tr th:only-of-type {\n",
       "        vertical-align: middle;\n",
       "    }\n",
       "\n",
       "    .dataframe tbody tr th {\n",
       "        vertical-align: top;\n",
       "    }\n",
       "\n",
       "    .dataframe thead th {\n",
       "        text-align: right;\n",
       "    }\n",
       "</style>\n",
       "<table border=\"1\" class=\"dataframe\">\n",
       "  <thead>\n",
       "    <tr style=\"text-align: right;\">\n",
       "      <th></th>\n",
       "      <th>campaign_id</th>\n",
       "      <th>message_type</th>\n",
       "      <th>channel_x</th>\n",
       "      <th>platform</th>\n",
       "      <th>email_provider</th>\n",
       "      <th>is_opened</th>\n",
       "      <th>is_clicked</th>\n",
       "      <th>is_unsubscribed</th>\n",
       "      <th>is_purchased</th>\n",
       "      <th>opened_recency</th>\n",
       "      <th>clicked_recency</th>\n",
       "      <th>purchased_recency</th>\n",
       "      <th>treatment</th>\n",
       "      <th>id</th>\n",
       "      <th>campaign_type</th>\n",
       "      <th>channel_y</th>\n",
       "      <th>total_count</th>\n",
       "      <th>warmup_mode</th>\n",
       "      <th>subject_length</th>\n",
       "      <th>subject_with_personalization</th>\n",
       "      <th>subject_with_deadline</th>\n",
       "      <th>subject_with_emoji</th>\n",
       "      <th>subject_with_bonuses</th>\n",
       "      <th>subject_with_discount</th>\n",
       "      <th>subject_with_saleout</th>\n",
       "    </tr>\n",
       "  </thead>\n",
       "  <tbody>\n",
       "    <tr>\n",
       "      <th>0</th>\n",
       "      <td>31</td>\n",
       "      <td>transactional</td>\n",
       "      <td>email</td>\n",
       "      <td>NaN</td>\n",
       "      <td>mail.ru</td>\n",
       "      <td>1</td>\n",
       "      <td>0</td>\n",
       "      <td>0</td>\n",
       "      <td>1</td>\n",
       "      <td>0</td>\n",
       "      <td>0</td>\n",
       "      <td>0</td>\n",
       "      <td>0</td>\n",
       "      <td>NaN</td>\n",
       "      <td>NaN</td>\n",
       "      <td>NaN</td>\n",
       "      <td>NaN</td>\n",
       "      <td>NaN</td>\n",
       "      <td>NaN</td>\n",
       "      <td>NaN</td>\n",
       "      <td>NaN</td>\n",
       "      <td>NaN</td>\n",
       "      <td>NaN</td>\n",
       "      <td>NaN</td>\n",
       "      <td>NaN</td>\n",
       "    </tr>\n",
       "    <tr>\n",
       "      <th>1</th>\n",
       "      <td>32</td>\n",
       "      <td>transactional</td>\n",
       "      <td>email</td>\n",
       "      <td>NaN</td>\n",
       "      <td>yandex.ru</td>\n",
       "      <td>1</td>\n",
       "      <td>0</td>\n",
       "      <td>0</td>\n",
       "      <td>0</td>\n",
       "      <td>0</td>\n",
       "      <td>9</td>\n",
       "      <td>9</td>\n",
       "      <td>1</td>\n",
       "      <td>NaN</td>\n",
       "      <td>NaN</td>\n",
       "      <td>NaN</td>\n",
       "      <td>NaN</td>\n",
       "      <td>NaN</td>\n",
       "      <td>NaN</td>\n",
       "      <td>NaN</td>\n",
       "      <td>NaN</td>\n",
       "      <td>NaN</td>\n",
       "      <td>NaN</td>\n",
       "      <td>NaN</td>\n",
       "      <td>NaN</td>\n",
       "    </tr>\n",
       "    <tr>\n",
       "      <th>2</th>\n",
       "      <td>32</td>\n",
       "      <td>transactional</td>\n",
       "      <td>email</td>\n",
       "      <td>NaN</td>\n",
       "      <td>mail.ru</td>\n",
       "      <td>1</td>\n",
       "      <td>0</td>\n",
       "      <td>0</td>\n",
       "      <td>0</td>\n",
       "      <td>0</td>\n",
       "      <td>9</td>\n",
       "      <td>9</td>\n",
       "      <td>1</td>\n",
       "      <td>NaN</td>\n",
       "      <td>NaN</td>\n",
       "      <td>NaN</td>\n",
       "      <td>NaN</td>\n",
       "      <td>NaN</td>\n",
       "      <td>NaN</td>\n",
       "      <td>NaN</td>\n",
       "      <td>NaN</td>\n",
       "      <td>NaN</td>\n",
       "      <td>NaN</td>\n",
       "      <td>NaN</td>\n",
       "      <td>NaN</td>\n",
       "    </tr>\n",
       "    <tr>\n",
       "      <th>3</th>\n",
       "      <td>32</td>\n",
       "      <td>transactional</td>\n",
       "      <td>email</td>\n",
       "      <td>NaN</td>\n",
       "      <td>mail.ru</td>\n",
       "      <td>1</td>\n",
       "      <td>0</td>\n",
       "      <td>0</td>\n",
       "      <td>0</td>\n",
       "      <td>0</td>\n",
       "      <td>9</td>\n",
       "      <td>9</td>\n",
       "      <td>0</td>\n",
       "      <td>NaN</td>\n",
       "      <td>NaN</td>\n",
       "      <td>NaN</td>\n",
       "      <td>NaN</td>\n",
       "      <td>NaN</td>\n",
       "      <td>NaN</td>\n",
       "      <td>NaN</td>\n",
       "      <td>NaN</td>\n",
       "      <td>NaN</td>\n",
       "      <td>NaN</td>\n",
       "      <td>NaN</td>\n",
       "      <td>NaN</td>\n",
       "    </tr>\n",
       "    <tr>\n",
       "      <th>4</th>\n",
       "      <td>32</td>\n",
       "      <td>transactional</td>\n",
       "      <td>email</td>\n",
       "      <td>NaN</td>\n",
       "      <td>mail.ru</td>\n",
       "      <td>1</td>\n",
       "      <td>0</td>\n",
       "      <td>0</td>\n",
       "      <td>0</td>\n",
       "      <td>0</td>\n",
       "      <td>9</td>\n",
       "      <td>9</td>\n",
       "      <td>1</td>\n",
       "      <td>NaN</td>\n",
       "      <td>NaN</td>\n",
       "      <td>NaN</td>\n",
       "      <td>NaN</td>\n",
       "      <td>NaN</td>\n",
       "      <td>NaN</td>\n",
       "      <td>NaN</td>\n",
       "      <td>NaN</td>\n",
       "      <td>NaN</td>\n",
       "      <td>NaN</td>\n",
       "      <td>NaN</td>\n",
       "      <td>NaN</td>\n",
       "    </tr>\n",
       "  </tbody>\n",
       "</table>\n",
       "</div>"
      ],
      "text/plain": [
       "   campaign_id   message_type channel_x platform email_provider  is_opened  \\\n",
       "0           31  transactional     email      NaN        mail.ru          1   \n",
       "1           32  transactional     email      NaN      yandex.ru          1   \n",
       "2           32  transactional     email      NaN        mail.ru          1   \n",
       "3           32  transactional     email      NaN        mail.ru          1   \n",
       "4           32  transactional     email      NaN        mail.ru          1   \n",
       "\n",
       "   is_clicked  is_unsubscribed  is_purchased  opened_recency  clicked_recency  \\\n",
       "0           0                0             1               0                0   \n",
       "1           0                0             0               0                9   \n",
       "2           0                0             0               0                9   \n",
       "3           0                0             0               0                9   \n",
       "4           0                0             0               0                9   \n",
       "\n",
       "   purchased_recency  treatment  id campaign_type channel_y  total_count  \\\n",
       "0                  0          0 NaN           NaN       NaN          NaN   \n",
       "1                  9          1 NaN           NaN       NaN          NaN   \n",
       "2                  9          1 NaN           NaN       NaN          NaN   \n",
       "3                  9          0 NaN           NaN       NaN          NaN   \n",
       "4                  9          1 NaN           NaN       NaN          NaN   \n",
       "\n",
       "   warmup_mode  subject_length  subject_with_personalization  \\\n",
       "0          NaN             NaN                           NaN   \n",
       "1          NaN             NaN                           NaN   \n",
       "2          NaN             NaN                           NaN   \n",
       "3          NaN             NaN                           NaN   \n",
       "4          NaN             NaN                           NaN   \n",
       "\n",
       "   subject_with_deadline  subject_with_emoji  subject_with_bonuses  \\\n",
       "0                    NaN                 NaN                   NaN   \n",
       "1                    NaN                 NaN                   NaN   \n",
       "2                    NaN                 NaN                   NaN   \n",
       "3                    NaN                 NaN                   NaN   \n",
       "4                    NaN                 NaN                   NaN   \n",
       "\n",
       "   subject_with_discount  subject_with_saleout  \n",
       "0                    NaN                   NaN  \n",
       "1                    NaN                   NaN  \n",
       "2                    NaN                   NaN  \n",
       "3                    NaN                   NaN  \n",
       "4                    NaN                   NaN  "
      ]
     },
     "execution_count": 149,
     "metadata": {},
     "output_type": "execute_result"
    }
   ],
   "source": [
    "df3 = pd.merge(df3, df_camp1, left_on='campaign_id', right_on='id', how='left')\n",
    "\n",
    "df3.head()"
   ]
  },
  {
   "cell_type": "code",
   "execution_count": null,
   "id": "63ed22a9",
   "metadata": {},
   "outputs": [],
   "source": []
  },
  {
   "cell_type": "markdown",
   "id": "384215f9",
   "metadata": {},
   "source": [
    "\n",
    "<a id = \"data_visualization1\"></a>\n",
    "\n",
    "## <font size='5' color='#1ABC9C'>Data Visualization of Messages</font>\n",
    "\n",
    "\n",
    "### Uni-Variate Analysis "
   ]
  },
  {
   "cell_type": "markdown",
   "id": "676d7744",
   "metadata": {},
   "source": [
    "### 1. Categorial Variables"
   ]
  },
  {
   "cell_type": "code",
   "execution_count": 65,
   "id": "75c91be9",
   "metadata": {},
   "outputs": [
    {
     "data": {
      "image/png": "[encoded data removed]",
      "text/plain": [
       "<Figure size 792x504 with 1 Axes>"
      ]
     },
     "metadata": {
      "needs_background": "light"
     },
     "output_type": "display_data"
    }
   ],
   "source": [
    "message_type_count = df3['message_type'].value_counts().sort_values(ascending=False)\n",
    "\n",
    "plt.figure(figsize=(11, 7))\n",
    "sns.barplot(x=message_type_count.index, y=message_type_count.values)\n",
    "plt.title('Message Types Count', fontsize=22)\n",
    "plt.xlabel('Message Types', fontsize=14)\n",
    "plt.ylabel('Count', fontsize=14)\n",
    "plt.xticks(fontsize=14)\n",
    "plt.yticks(fontsize=12)\n",
    "\n",
    "for index, value in enumerate(message_type_count.values):\n",
    "    plt.text(index, value, str(value), ha='center', va='bottom', fontsize=14)\n",
    "\n",
    "plt.show()"
   ]
  },
  {
   "cell_type": "code",
   "execution_count": null,
   "id": "65c6f301",
   "metadata": {},
   "outputs": [],
   "source": []
  },
  {
   "cell_type": "code",
   "execution_count": 66,
   "id": "2016e18c",
   "metadata": {},
   "outputs": [
    {
     "data": {
      "image/png": "[encoded data removed]",
      "text/plain": [
       "<Figure size 792x504 with 1 Axes>"
      ]
     },
     "metadata": {
      "needs_background": "light"
     },
     "output_type": "display_data"
    }
   ],
   "source": [
    "channel_count = df3['channel_x'].value_counts().sort_values(ascending=False)\n",
    "\n",
    "plt.figure(figsize=(11, 7))\n",
    "sns.barplot(x=channel_count.index, y=channel_count.values)\n",
    "plt.title('Channels Count', fontsize=22)\n",
    "plt.xlabel('Channels', fontsize=14)\n",
    "plt.ylabel('Count', fontsize=14)\n",
    "plt.xticks(fontsize=14)\n",
    "plt.yticks(fontsize=12)\n",
    "\n",
    "for index, value in enumerate(channel_count.values):\n",
    "    plt.text(index, value, str(value), ha='center', va='bottom', fontsize=14)\n",
    "    \n",
    "plt.show()"
   ]
  },
  {
   "cell_type": "code",
   "execution_count": 67,
   "id": "d568b499",
   "metadata": {},
   "outputs": [
    {
     "data": {
      "image/png": "[encoded data removed]",
      "text/plain": [
       "<Figure size 792x504 with 1 Axes>"
      ]
     },
     "metadata": {
      "needs_background": "light"
     },
     "output_type": "display_data"
    }
   ],
   "source": [
    "platform_counts = df3['platform'].value_counts().sort_values(ascending=False)\n",
    "\n",
    "plt.figure(figsize=(11, 7))\n",
    "sns.barplot(x=platform_counts.index, y=platform_counts.values)\n",
    "plt.title('Platform Count', fontsize=22)\n",
    "plt.xlabel('Platforms', fontsize=16)\n",
    "plt.ylabel('Count', fontsize=16)\n",
    "plt.xticks(fontsize=14)\n",
    "plt.yticks(fontsize=12)\n",
    "\n",
    "for index, value in enumerate(platform_counts.values):\n",
    "    plt.text(index, value, str(value), ha='center', va='bottom', fontsize=14)\n",
    "\n",
    "plt.show()"
   ]
  },
  {
   "cell_type": "code",
   "execution_count": 68,
   "id": "e0f6846f",
   "metadata": {},
   "outputs": [
    {
     "data": {
      "image/png": "[encoded data removed]",
      "text/plain": [
       "<Figure size 864x504 with 1 Axes>"
      ]
     },
     "metadata": {
      "needs_background": "light"
     },
     "output_type": "display_data"
    }
   ],
   "source": [
    "email_provider_counts = df3['email_provider'].value_counts().sort_values(ascending=False)\n",
    "\n",
    "plt.figure(figsize=(12, 7))\n",
    "sns.barplot(x=email_provider_counts.index, y=email_provider_counts.values)\n",
    "plt.title('Email Providers Count', fontsize=22)\n",
    "plt.xlabel('Email Providers', fontsize=14)\n",
    "plt.ylabel('Count', fontsize=14)\n",
    "plt.xticks(fontsize=12)\n",
    "plt.yticks(fontsize=12)\n",
    "\n",
    "for index, value in enumerate(email_provider_counts.values):\n",
    "    plt.text(index, value, str(value), ha='center', va='bottom', fontsize=12)\n",
    "\n",
    "plt.show()"
   ]
  },
  {
   "cell_type": "code",
   "execution_count": 69,
   "id": "299354ed",
   "metadata": {},
   "outputs": [
    {
     "data": {
      "image/png": "[encoded data removed]",
      "text/plain": [
       "<Figure size 864x504 with 1 Axes>"
      ]
     },
     "metadata": {
      "needs_background": "light"
     },
     "output_type": "display_data"
    }
   ],
   "source": [
    "# Removing 'others' from the Email_provider and visualizing it again\n",
    "\n",
    "df_email_filter =  df3[df3['email_provider'] != 'others']\n",
    "\n",
    "email_provider_counts1 = df_email_filter['email_provider'].value_counts().sort_values(ascending=False)\n",
    "\n",
    "plt.figure(figsize=(12, 7))\n",
    "sns.barplot(x=email_provider_counts1.index, y=email_provider_counts1.values)\n",
    "plt.title('Email Providers Count', fontsize=22)\n",
    "plt.xlabel('Email Providers', fontsize=14)\n",
    "plt.ylabel('Count', fontsize=14)\n",
    "plt.xticks(fontsize=12)\n",
    "plt.yticks(fontsize=12)\n",
    "\n",
    "for index, value in enumerate(email_provider_counts1.values):\n",
    "    plt.text(index, value, str(value), ha='center', va='bottom', fontsize=12)\n",
    "\n",
    "plt.show()"
   ]
  },
  {
   "cell_type": "markdown",
   "id": "cb4dc41c",
   "metadata": {},
   "source": [
    "### 2. Numerical Variables"
   ]
  },
  {
   "cell_type": "code",
   "execution_count": 50,
   "id": "976ce557",
   "metadata": {},
   "outputs": [],
   "source": [
    "numerical_cols = ['is_opened', 'is_clicked', 'is_unsubscribed', 'is_purchased']"
   ]
  },
  {
   "cell_type": "code",
   "execution_count": 51,
   "id": "0118655b",
   "metadata": {
    "scrolled": false
   },
   "outputs": [
    {
     "data": {
      "image/png": "[encoded data removed]",
      "text/plain": [
       "<Figure size 864x504 with 1 Axes>"
      ]
     },
     "metadata": {
      "needs_background": "light"
     },
     "output_type": "display_data"
    }
   ],
   "source": [
    "is_clicked = df3['is_clicked'].value_counts().sort_values(ascending=False)\n",
    "\n",
    "plt.figure(figsize=(12, 7))\n",
    "sns.barplot(x=is_clicked.index, y=is_clicked.values)\n",
    "plt.title('Message Clicked', fontsize=22)\n",
    "plt.xlabel('Is Clicked', fontsize=14)\n",
    "plt.ylabel('Count', fontsize=14)\n",
    "plt.xticks(fontsize=18)\n",
    "plt.yticks(fontsize=14)\n",
    "\n",
    "for index, value in enumerate(is_clicked.values):\n",
    "    plt.text(index, value, str(value), ha='center', va='bottom', fontsize=14)\n",
    "\n",
    "plt.show()"
   ]
  },
  {
   "cell_type": "markdown",
   "id": "835d5a97",
   "metadata": {},
   "source": [
    "### Bi-Variate Analysis"
   ]
  },
  {
   "cell_type": "markdown",
   "id": "d29de502",
   "metadata": {},
   "source": [
    "### Is Opened (vs) 1. Channel & 2. Email Provider"
   ]
  },
  {
   "cell_type": "code",
   "execution_count": 52,
   "id": "a6c67f87",
   "metadata": {},
   "outputs": [
    {
     "data": {
      "image/png": "[encoded data removed]",
      "text/plain": [
       "<Figure size 864x504 with 1 Axes>"
      ]
     },
     "metadata": {
      "needs_background": "light"
     },
     "output_type": "display_data"
    }
   ],
   "source": [
    "count_is_opened = df3.groupby(['channel_x', 'is_opened']).size().unstack(fill_value=0)\n",
    "\n",
    "plt.figure(figsize=(12, 7))\n",
    "sns.countplot(x='channel_x', hue='is_opened', data=df3) #, palette=['blue', 'green'])\n",
    "\n",
    "for p in plt.gca().patches:\n",
    "    plt.gca().annotate(f'{p.get_height()}', (p.get_x() + p.get_width() / 2., p.get_height()), \n",
    "                       ha='center', va='center', fontsize=11, color='black', xytext=(0, 5), textcoords='offset points')\n",
    "\n",
    "plt.title('Count of Opened Messages by Channel', fontsize=22)\n",
    "plt.xlabel('Channel', fontsize=14)\n",
    "plt.ylabel('Count', fontsize=14)\n",
    "plt.xticks(fontsize=18)\n",
    "plt.yticks(fontsize=14)\n",
    "\n",
    "plt.legend(title='Is Opened', labels=['Not Opened', 'Opened'])\n",
    "plt.show()"
   ]
  },
  {
   "cell_type": "code",
   "execution_count": 53,
   "id": "9a97ce9d",
   "metadata": {},
   "outputs": [
    {
     "data": {
      "image/png": "[encoded data removed]",
      "text/plain": [
       "<Figure size 864x504 with 1 Axes>"
      ]
     },
     "metadata": {
      "needs_background": "light"
     },
     "output_type": "display_data"
    }
   ],
   "source": [
    "count_is_opened = df_email_filter.groupby(['email_provider', 'is_opened']).size().unstack(fill_value=0)\n",
    "\n",
    "plt.figure(figsize=(12, 7))\n",
    "sns.countplot(x='email_provider', hue='is_opened', data=df_email_filter) #, palette=['blue', 'green'])\n",
    "\n",
    "for p in plt.gca().patches:\n",
    "    plt.gca().annotate(f'{p.get_height()}', (p.get_x() + p.get_width() / 2., p.get_height()), \n",
    "                       ha='center', va='center', fontsize=11, color='black', xytext=(0, 5), textcoords='offset points')\n",
    "\n",
    "plt.title('Count of Opened Messages by Email Provider', fontsize=22)\n",
    "plt.xlabel('Email Provider', fontsize=14)\n",
    "plt.ylabel('Count', fontsize=14)\n",
    "plt.xticks(fontsize=14)\n",
    "plt.yticks(fontsize=14)\n",
    "\n",
    "plt.legend(title='Is Opened', labels=['Not Opened', 'Opened'])\n",
    "plt.show()"
   ]
  },
  {
   "cell_type": "code",
   "execution_count": null,
   "id": "f74960c0",
   "metadata": {},
   "outputs": [],
   "source": []
  },
  {
   "cell_type": "markdown",
   "id": "19135a10",
   "metadata": {},
   "source": [
    "### Is Clicked (vs) 1. Channel & 2. Email Provider"
   ]
  },
  {
   "cell_type": "code",
   "execution_count": 54,
   "id": "a5ae4710",
   "metadata": {},
   "outputs": [
    {
     "data": {
      "image/png": "[encoded data removed]",
      "text/plain": [
       "<Figure size 864x504 with 1 Axes>"
      ]
     },
     "metadata": {
      "needs_background": "light"
     },
     "output_type": "display_data"
    }
   ],
   "source": [
    "count_is_opened = df3.groupby(['channel_x', 'is_clicked']).size().unstack(fill_value=0)\n",
    "\n",
    "plt.figure(figsize=(12, 7))\n",
    "sns.countplot(x='channel_x', hue='is_clicked', data=df3)\n",
    "\n",
    "for p in plt.gca().patches:\n",
    "    plt.gca().annotate(f'{p.get_height()}', (p.get_x() + p.get_width() / 2., p.get_height()), \n",
    "                       ha='center', va='center', fontsize=11, color='black', xytext=(0, 5), textcoords='offset points')\n",
    "\n",
    "plt.title('Count of Clicked Messages by Channel', fontsize=22)\n",
    "plt.xlabel('Channel', fontsize=14)\n",
    "plt.ylabel('Count', fontsize=14)\n",
    "plt.xticks(fontsize=18)\n",
    "plt.yticks(fontsize=14)\n",
    "\n",
    "plt.legend(title='Is Clicked', labels=['Not Clicked', 'Clicked'])\n",
    "plt.show()"
   ]
  },
  {
   "cell_type": "code",
   "execution_count": 55,
   "id": "0c650bae",
   "metadata": {},
   "outputs": [
    {
     "data": {
      "image/png": "[encoded data removed]",
      "text/plain": [
       "<Figure size 864x504 with 1 Axes>"
      ]
     },
     "metadata": {
      "needs_background": "light"
     },
     "output_type": "display_data"
    }
   ],
   "source": [
    "count_is_opened = df_email_filter.groupby(['email_provider', 'is_clicked']).size().unstack(fill_value=0)\n",
    "\n",
    "plt.figure(figsize=(12, 7))\n",
    "sns.countplot(x='email_provider', hue='is_clicked', data=df_email_filter)\n",
    "\n",
    "for p in plt.gca().patches:\n",
    "    plt.gca().annotate(f'{p.get_height()}', (p.get_x() + p.get_width() / 2., p.get_height()), \n",
    "                       ha='center', va='center', fontsize=11, color='black', xytext=(0, 5), textcoords='offset points')\n",
    "\n",
    "plt.title('Count of Clicked Messages by Email Provider', fontsize=22)\n",
    "plt.xlabel('Email Provider', fontsize=14)\n",
    "plt.ylabel('Count', fontsize=14)\n",
    "plt.xticks(fontsize=18)\n",
    "plt.yticks(fontsize=14)\n",
    "\n",
    "plt.legend(title='Is Clicked', labels=['Not Clicked', 'Clicked'])\n",
    "plt.show()"
   ]
  },
  {
   "cell_type": "markdown",
   "id": "481baabf",
   "metadata": {},
   "source": [
    "### Detecting Outliers"
   ]
  },
  {
   "cell_type": "code",
   "execution_count": 192,
   "id": "74c3ea07",
   "metadata": {},
   "outputs": [
    {
     "data": {
      "image/png": "[encoded data removed]",
      "text/plain": [
       "<Figure size 936x432 with 2 Axes>"
      ]
     },
     "metadata": {
      "needs_background": "light"
     },
     "output_type": "display_data"
    }
   ],
   "source": [
    "plt.figure(figsize=(13, 6))\n",
    "\n",
    "# Boxplot for 'total_count'\n",
    "plt.subplot(1, 2, 1)\n",
    "sns.boxplot(x=df_camp['total_count'])\n",
    "plt.title('Boxplot of Total Count', fontsize=20)\n",
    "plt.xlabel('Total Count', fontsize=16)\n",
    "plt.ylabel('Count', fontsize=14)\n",
    "\n",
    "# Boxplot for 'subject_length'\n",
    "plt.subplot(1, 2, 2)\n",
    "sns.boxplot(x=df_camp['subject_length'])\n",
    "plt.title('Boxplot of Subject', fontsize=20)\n",
    "plt.xlabel('Subject Length', fontsize=16)\n",
    "plt.ylabel('Count', fontsize=14)\n",
    "\n",
    "plt.tight_layout()\n",
    "plt.show()\n"
   ]
  },
  {
   "cell_type": "code",
   "execution_count": 187,
   "id": "ac5850d5",
   "metadata": {},
   "outputs": [],
   "source": [
    "df_camp4 = df_camp.copy()"
   ]
  },
  {
   "cell_type": "code",
   "execution_count": 190,
   "id": "12ba03d2",
   "metadata": {},
   "outputs": [],
   "source": [
    "# Applying log transformation for total_count column\n",
    "\n",
    "df_camp_log_transformed = df_camp4.copy()\n",
    "df_camp_log_transformed['total_count'] = np.log1p(df_camp_log_transformed['total_count'])"
   ]
  },
  {
   "cell_type": "code",
   "execution_count": 188,
   "id": "a9ba91f7",
   "metadata": {},
   "outputs": [],
   "source": [
    "# Function to clip outliers based on the 5th and 95th percentile for subject_length\n",
    "\n",
    "def cap_outliers(df, column):\n",
    "    lower_cap = df[column].quantile(0.05)\n",
    "    upper_cap = df[column].quantile(0.95)\n",
    "    df[column] = df[column].clip(lower=lower_cap, upper=upper_cap)\n",
    "    return df\n",
    "\n",
    "df_camp_capped = cap_outliers(df_camp4, 'subject_length')"
   ]
  },
  {
   "cell_type": "code",
   "execution_count": 191,
   "id": "6a7930fb",
   "metadata": {},
   "outputs": [
    {
     "data": {
      "image/png": "[encoded data removed]",
      "text/plain": [
       "<Figure size 936x432 with 2 Axes>"
      ]
     },
     "metadata": {
      "needs_background": "light"
     },
     "output_type": "display_data"
    }
   ],
   "source": [
    "plt.figure(figsize=(13, 6))\n",
    "\n",
    "plt.subplot(1, 2, 1)\n",
    "sns.boxplot(x=df_camp_log_transformed['total_count'])\n",
    "plt.title('After Treating Outliers: Total Count', fontsize=20)\n",
    "plt.xlabel('Total Count', fontsize=16)\n",
    "plt.ylabel('Count', fontsize=14)\n",
    "\n",
    "plt.subplot(1, 2, 2)\n",
    "sns.boxplot(x=df_camp_cleaned['subject_length'])\n",
    "plt.title('After Treating Outliers: Subject Length', fontsize=20)\n",
    "plt.xlabel('Subject Length', fontsize=16)\n",
    "plt.ylabel('Count', fontsize=14)\n",
    "\n",
    "plt.tight_layout()\n",
    "plt.show()\n"
   ]
  },
  {
   "cell_type": "code",
   "execution_count": null,
   "id": "e36942f8",
   "metadata": {},
   "outputs": [],
   "source": []
  },
  {
   "cell_type": "code",
   "execution_count": null,
   "id": "ae8e9e4f",
   "metadata": {},
   "outputs": [],
   "source": []
  },
  {
   "cell_type": "code",
   "execution_count": null,
   "id": "e673c36e",
   "metadata": {},
   "outputs": [],
   "source": []
  },
  {
   "cell_type": "code",
   "execution_count": 151,
   "id": "b89fbe92",
   "metadata": {},
   "outputs": [],
   "source": [
    "# Replacing missing values with Mode of each column\n",
    "\n",
    "mode_cols = ['subject_with_personalization', 'subject_with_deadline', 'subject_with_emoji', \n",
    "             'subject_with_bonuses', 'subject_with_discount', 'subject_with_saleout']\n",
    "\n",
    "for column in mode_cols:\n",
    "    mode_value = df3[column].mode()[0]  # Getting the most frequent value\n",
    "    df3[column] = df3[column].fillna(mode_value)"
   ]
  },
  {
   "cell_type": "code",
   "execution_count": 57,
   "id": "f8edf1cf",
   "metadata": {},
   "outputs": [],
   "source": [
    "# Filling subject_length feature with mean\n",
    "\n",
    "df3['subject_length'] = df3['subject_length'].fillna(df3['subject_length'].mean())\n",
    "\n",
    "df3['total_count'] = df3['total_count'].fillna(df3['total_count'].mean())"
   ]
  },
  {
   "cell_type": "code",
   "execution_count": null,
   "id": "4c3a7fbc",
   "metadata": {},
   "outputs": [],
   "source": []
  },
  {
   "cell_type": "markdown",
   "id": "87664632",
   "metadata": {},
   "source": [
    "#### Storing SMS and Email data into a separate dataframes"
   ]
  },
  {
   "cell_type": "code",
   "execution_count": 58,
   "id": "5e7ae66f",
   "metadata": {},
   "outputs": [],
   "source": [
    "df3_sms = df3[df3['channel_x'] == 'sms']\n",
    "\n",
    "df3_email = df3[df3['channel_x'] == 'email']"
   ]
  },
  {
   "cell_type": "code",
   "execution_count": 59,
   "id": "5221827b",
   "metadata": {},
   "outputs": [
    {
     "data": {
      "text/plain": [
       "((925494, 25), (74498, 25))"
      ]
     },
     "execution_count": 59,
     "metadata": {},
     "output_type": "execute_result"
    }
   ],
   "source": [
    "df3_sms.shape, df3_email.shape"
   ]
  },
  {
   "cell_type": "code",
   "execution_count": 60,
   "id": "0162e4d2",
   "metadata": {},
   "outputs": [
    {
     "name": "stderr",
     "output_type": "stream",
     "text": [
      "<ipython-input-60-bfa8c0789869>:3: SettingWithCopyWarning: \n",
      "A value is trying to be set on a copy of a slice from a DataFrame\n",
      "\n",
      "See the caveats in the documentation: https://pandas.pydata.org/pandas-docs/stable/user_guide/indexing.html#returning-a-view-versus-a-copy\n",
      "  df3_sms.drop(columns = ['channel_x', 'warmup_mode', 'platform', 'id', 'campaign_type', 'channel_y'], inplace=True, axis=1)\n",
      "<ipython-input-60-bfa8c0789869>:5: SettingWithCopyWarning: \n",
      "A value is trying to be set on a copy of a slice from a DataFrame\n",
      "\n",
      "See the caveats in the documentation: https://pandas.pydata.org/pandas-docs/stable/user_guide/indexing.html#returning-a-view-versus-a-copy\n",
      "  df3_email.drop(columns = ['channel_x', 'warmup_mode', 'platform', 'id', 'campaign_type', 'channel_y'], inplace=True, axis=1)\n"
     ]
    }
   ],
   "source": [
    "# Dropping irrelavant columns because we are doing one-hot encoding in the next step\n",
    "\n",
    "df3_sms.drop(columns = ['channel_x', 'warmup_mode', 'platform', 'id', 'campaign_type', 'channel_y'], inplace=True, axis=1)\n",
    "\n",
    "df3_email.drop(columns = ['channel_x', 'warmup_mode', 'platform', 'id', 'campaign_type', 'channel_y'], inplace=True, axis=1)"
   ]
  },
  {
   "cell_type": "code",
   "execution_count": null,
   "id": "28cd6507",
   "metadata": {},
   "outputs": [],
   "source": []
  },
  {
   "cell_type": "markdown",
   "id": "6691f6ce",
   "metadata": {},
   "source": [
    "### One-hot Encoding"
   ]
  },
  {
   "cell_type": "code",
   "execution_count": 61,
   "id": "a32a35e3",
   "metadata": {},
   "outputs": [],
   "source": [
    "# One-hot encoding\n",
    "\n",
    "df4_sms = df3_sms.copy()\n",
    "df4_email = df3_email.copy()\n",
    "\n",
    "df4_sms = pd.get_dummies(df4_sms, columns = ['message_type', 'email_provider'], drop_first=True, dtype = int)\n",
    "\n",
    "df4_email = pd.get_dummies(df4_email, columns = ['message_type', 'email_provider'], drop_first=True, dtype = int)"
   ]
  },
  {
   "cell_type": "code",
   "execution_count": null,
   "id": "ac1e92c8",
   "metadata": {},
   "outputs": [],
   "source": []
  },
  {
   "cell_type": "markdown",
   "id": "f4ddd0db",
   "metadata": {},
   "source": [
    "### Data Distribution - SMS"
   ]
  },
  {
   "cell_type": "code",
   "execution_count": 62,
   "id": "7f99aae6",
   "metadata": {},
   "outputs": [
    {
     "data": {
      "image/png": "[encoded data removed]",
      "text/plain": [
       "<Figure size 864x504 with 1 Axes>"
      ]
     },
     "metadata": {
      "needs_background": "light"
     },
     "output_type": "display_data"
    }
   ],
   "source": [
    "sms_treatment = df4_sms['treatment'].value_counts().sort_values(ascending=False)\n",
    "\n",
    "plt.figure(figsize=(12, 7))\n",
    "sns.barplot(x=sms_treatment.index, y=sms_treatment.values)\n",
    "plt.title('Distribution of SMS Treatment', fontsize=22)\n",
    "plt.xlabel('SMS Treatment Group', fontsize=14)\n",
    "plt.ylabel('Count', fontsize=14)\n",
    "plt.xticks(fontsize=18)\n",
    "plt.yticks(fontsize=14)\n",
    "\n",
    "for index, value in enumerate(sms_treatment.values):\n",
    "    plt.text(index, value, str(value), ha='center', va='bottom', fontsize=14)\n",
    "\n",
    "plt.show()"
   ]
  },
  {
   "cell_type": "code",
   "execution_count": 63,
   "id": "64280e10",
   "metadata": {},
   "outputs": [
    {
     "data": {
      "image/png": "[encoded data removed]",
      "text/plain": [
       "<Figure size 864x504 with 1 Axes>"
      ]
     },
     "metadata": {
      "needs_background": "light"
     },
     "output_type": "display_data"
    }
   ],
   "source": [
    "is_clicked1 = df4_sms['is_clicked'].value_counts().sort_values(ascending=False)\n",
    "\n",
    "plt.figure(figsize=(12, 7))\n",
    "sns.barplot(x=is_clicked1.index, y=is_clicked1.values)\n",
    "plt.title('Distribution of SMS Clicked', fontsize=22)\n",
    "plt.xlabel('Is Clicked', fontsize=14)\n",
    "plt.ylabel('Count', fontsize=14)\n",
    "plt.xticks(fontsize=18)\n",
    "plt.yticks(fontsize=14)\n",
    "\n",
    "for index, value in enumerate(is_clicked1.values):\n",
    "    plt.text(index, value, str(value), ha='center', va='bottom', fontsize=14)\n",
    "\n",
    "plt.show()"
   ]
  },
  {
   "cell_type": "markdown",
   "id": "3541b29e",
   "metadata": {},
   "source": [
    "### Data Distribution - Email"
   ]
  },
  {
   "cell_type": "code",
   "execution_count": 64,
   "id": "761e3f8c",
   "metadata": {},
   "outputs": [
    {
     "data": {
      "image/png": "[encoded data removed]",
      "text/plain": [
       "<Figure size 864x504 with 1 Axes>"
      ]
     },
     "metadata": {
      "needs_background": "light"
     },
     "output_type": "display_data"
    }
   ],
   "source": [
    "email_treatment = df4_email['treatment'].value_counts().sort_values(ascending=False)\n",
    "\n",
    "plt.figure(figsize=(12, 7))\n",
    "sns.barplot(x=email_treatment.index, y=email_treatment.values)\n",
    "plt.title('Distribution of Email Treatment', fontsize=22)\n",
    "plt.xlabel('Email Treatment Group', fontsize=14)\n",
    "plt.ylabel('Count', fontsize=14)\n",
    "plt.xticks(fontsize=18)\n",
    "plt.yticks(fontsize=14)\n",
    "\n",
    "for index, value in enumerate(email_treatment.values):\n",
    "    plt.text(index, value, str(value), ha='center', va='bottom', fontsize=14)\n",
    "\n",
    "plt.show()"
   ]
  },
  {
   "cell_type": "code",
   "execution_count": 65,
   "id": "d4de3564",
   "metadata": {},
   "outputs": [
    {
     "data": {
      "image/png": "[encoded data removed]",
      "text/plain": [
       "<Figure size 864x504 with 1 Axes>"
      ]
     },
     "metadata": {
      "needs_background": "light"
     },
     "output_type": "display_data"
    }
   ],
   "source": [
    "is_clicked2 = df4_email['is_clicked'].value_counts().sort_values(ascending=False)\n",
    "\n",
    "plt.figure(figsize=(12, 7))\n",
    "sns.barplot(x=is_clicked2.index, y=is_clicked2.values)\n",
    "plt.title('Distribution of Email Clicked', fontsize=22)\n",
    "plt.xlabel('Is Clicked', fontsize=14)\n",
    "plt.ylabel('Count', fontsize=14)\n",
    "plt.xticks(fontsize=18)\n",
    "plt.yticks(fontsize=14)\n",
    "\n",
    "for index, value in enumerate(is_clicked2.values):\n",
    "    plt.text(index, value, str(value), ha='center', va='bottom', fontsize=14)\n",
    "\n",
    "plt.show()"
   ]
  },
  {
   "cell_type": "code",
   "execution_count": null,
   "id": "91596215",
   "metadata": {},
   "outputs": [],
   "source": []
  },
  {
   "cell_type": "markdown",
   "id": "9c5094db",
   "metadata": {},
   "source": [
    "#### Data Distribution"
   ]
  },
  {
   "cell_type": "code",
   "execution_count": 66,
   "id": "ec57cee7",
   "metadata": {},
   "outputs": [
    {
     "data": {
      "image/png": "[encoded data removed]",
      "text/plain": [
       "<Figure size 864x504 with 1 Axes>"
      ]
     },
     "metadata": {
      "needs_background": "light"
     },
     "output_type": "display_data"
    }
   ],
   "source": [
    "treatment_count = df3['treatment'].value_counts().sort_values(ascending=False)\n",
    "\n",
    "plt.figure(figsize=(12, 7))\n",
    "sns.barplot(x=treatment_count.index, y=treatment_count.values)\n",
    "plt.title('Distribution of Treatment', fontsize=22)\n",
    "plt.xlabel('Treatment Group', fontsize=14)\n",
    "plt.ylabel('Count', fontsize=14)\n",
    "plt.xticks(fontsize=18)\n",
    "plt.yticks(fontsize=14)\n",
    "\n",
    "for index, value in enumerate(treatment_count.values):\n",
    "    plt.text(index, value, str(value), ha='center', va='bottom', fontsize=14)\n",
    "\n",
    "plt.show()"
   ]
  },
  {
   "cell_type": "code",
   "execution_count": null,
   "id": "9f0fbd23",
   "metadata": {},
   "outputs": [],
   "source": []
  },
  {
   "cell_type": "code",
   "execution_count": 67,
   "id": "6ce034ab",
   "metadata": {},
   "outputs": [],
   "source": [
    "df3.drop(columns = ['warmup_mode', 'platform', 'id', 'campaign_type', 'channel_y'], inplace=True, axis=1)\n",
    "\n",
    "df4 = df3.copy()\n",
    "df4 = pd.get_dummies(df4, columns = ['channel_x', 'message_type', 'email_provider'], drop_first=True, dtype = int)"
   ]
  },
  {
   "cell_type": "code",
   "execution_count": null,
   "id": "23ee2479",
   "metadata": {},
   "outputs": [],
   "source": []
  },
  {
   "cell_type": "markdown",
   "id": "effe049d",
   "metadata": {},
   "source": [
    "## Splitting data into training, testing and treatment sets"
   ]
  },
  {
   "cell_type": "code",
   "execution_count": 68,
   "id": "4077a74c",
   "metadata": {},
   "outputs": [],
   "source": [
    "from sklearn.model_selection import train_test_split\n",
    "\n",
    "X = df4.drop(columns=['campaign_id', 'is_clicked', 'treatment'])\n",
    "y = df4['is_clicked']\n",
    "t = df4['treatment']\n",
    "\n",
    "X_train, X_test, y_train, y_test, t_train, t_test = train_test_split(X, y, t, test_size=0.3, random_state=42)"
   ]
  },
  {
   "cell_type": "code",
   "execution_count": 69,
   "id": "c328ee2e",
   "metadata": {},
   "outputs": [
    {
     "data": {
      "text/html": [
       "<div>\n",
       "<style scoped>\n",
       "    .dataframe tbody tr th:only-of-type {\n",
       "        vertical-align: middle;\n",
       "    }\n",
       "\n",
       "    .dataframe tbody tr th {\n",
       "        vertical-align: top;\n",
       "    }\n",
       "\n",
       "    .dataframe thead th {\n",
       "        text-align: right;\n",
       "    }\n",
       "</style>\n",
       "<table border=\"1\" class=\"dataframe\">\n",
       "  <thead>\n",
       "    <tr style=\"text-align: right;\">\n",
       "      <th></th>\n",
       "      <th>is_opened</th>\n",
       "      <th>is_unsubscribed</th>\n",
       "      <th>is_purchased</th>\n",
       "      <th>opened_recency</th>\n",
       "      <th>clicked_recency</th>\n",
       "      <th>purchased_recency</th>\n",
       "      <th>total_count</th>\n",
       "      <th>subject_length</th>\n",
       "      <th>subject_with_personalization</th>\n",
       "      <th>subject_with_deadline</th>\n",
       "      <th>subject_with_emoji</th>\n",
       "      <th>subject_with_bonuses</th>\n",
       "      <th>subject_with_discount</th>\n",
       "      <th>subject_with_saleout</th>\n",
       "      <th>channel_x_push_notification</th>\n",
       "      <th>channel_x_sms</th>\n",
       "      <th>message_type_transactional</th>\n",
       "      <th>message_type_trigger</th>\n",
       "      <th>email_provider_gmail.com</th>\n",
       "      <th>email_provider_inbox.ru</th>\n",
       "      <th>email_provider_list.ru</th>\n",
       "      <th>email_provider_mail.ru</th>\n",
       "      <th>email_provider_others</th>\n",
       "      <th>email_provider_rambler.ru</th>\n",
       "      <th>email_provider_yandex.ru</th>\n",
       "    </tr>\n",
       "  </thead>\n",
       "  <tbody>\n",
       "    <tr>\n",
       "      <th>0</th>\n",
       "      <td>1</td>\n",
       "      <td>0</td>\n",
       "      <td>1</td>\n",
       "      <td>0</td>\n",
       "      <td>0</td>\n",
       "      <td>0</td>\n",
       "      <td>985840.071137</td>\n",
       "      <td>99.55109</td>\n",
       "      <td>0.0</td>\n",
       "      <td>0.0</td>\n",
       "      <td>1.0</td>\n",
       "      <td>0.0</td>\n",
       "      <td>0.0</td>\n",
       "      <td>0.0</td>\n",
       "      <td>0</td>\n",
       "      <td>0</td>\n",
       "      <td>1</td>\n",
       "      <td>0</td>\n",
       "      <td>0</td>\n",
       "      <td>0</td>\n",
       "      <td>0</td>\n",
       "      <td>1</td>\n",
       "      <td>0</td>\n",
       "      <td>0</td>\n",
       "      <td>0</td>\n",
       "    </tr>\n",
       "    <tr>\n",
       "      <th>1</th>\n",
       "      <td>1</td>\n",
       "      <td>0</td>\n",
       "      <td>0</td>\n",
       "      <td>0</td>\n",
       "      <td>9</td>\n",
       "      <td>9</td>\n",
       "      <td>985840.071137</td>\n",
       "      <td>99.55109</td>\n",
       "      <td>0.0</td>\n",
       "      <td>0.0</td>\n",
       "      <td>1.0</td>\n",
       "      <td>0.0</td>\n",
       "      <td>0.0</td>\n",
       "      <td>0.0</td>\n",
       "      <td>0</td>\n",
       "      <td>0</td>\n",
       "      <td>1</td>\n",
       "      <td>0</td>\n",
       "      <td>0</td>\n",
       "      <td>0</td>\n",
       "      <td>0</td>\n",
       "      <td>0</td>\n",
       "      <td>0</td>\n",
       "      <td>0</td>\n",
       "      <td>1</td>\n",
       "    </tr>\n",
       "  </tbody>\n",
       "</table>\n",
       "</div>"
      ],
      "text/plain": [
       "   is_opened  is_unsubscribed  is_purchased  opened_recency  clicked_recency  \\\n",
       "0          1                0             1               0                0   \n",
       "1          1                0             0               0                9   \n",
       "\n",
       "   purchased_recency    total_count  subject_length  \\\n",
       "0                  0  985840.071137        99.55109   \n",
       "1                  9  985840.071137        99.55109   \n",
       "\n",
       "   subject_with_personalization  subject_with_deadline  subject_with_emoji  \\\n",
       "0                           0.0                    0.0                 1.0   \n",
       "1                           0.0                    0.0                 1.0   \n",
       "\n",
       "   subject_with_bonuses  subject_with_discount  subject_with_saleout  \\\n",
       "0                   0.0                    0.0                   0.0   \n",
       "1                   0.0                    0.0                   0.0   \n",
       "\n",
       "   channel_x_push_notification  channel_x_sms  message_type_transactional  \\\n",
       "0                            0              0                           1   \n",
       "1                            0              0                           1   \n",
       "\n",
       "   message_type_trigger  email_provider_gmail.com  email_provider_inbox.ru  \\\n",
       "0                     0                         0                        0   \n",
       "1                     0                         0                        0   \n",
       "\n",
       "   email_provider_list.ru  email_provider_mail.ru  email_provider_others  \\\n",
       "0                       0                       1                      0   \n",
       "1                       0                       0                      0   \n",
       "\n",
       "   email_provider_rambler.ru  email_provider_yandex.ru  \n",
       "0                          0                         0  \n",
       "1                          0                         1  "
      ]
     },
     "execution_count": 69,
     "metadata": {},
     "output_type": "execute_result"
    }
   ],
   "source": [
    "X.head(2)"
   ]
  },
  {
   "cell_type": "code",
   "execution_count": 70,
   "id": "e36edb74",
   "metadata": {},
   "outputs": [
    {
     "data": {
      "text/plain": [
       "0    0\n",
       "1    0\n",
       "2    1\n",
       "Name: is_clicked, dtype: int32"
      ]
     },
     "execution_count": 70,
     "metadata": {},
     "output_type": "execute_result"
    }
   ],
   "source": [
    "y.head(3)"
   ]
  },
  {
   "cell_type": "code",
   "execution_count": 71,
   "id": "90b2bb36",
   "metadata": {},
   "outputs": [
    {
     "data": {
      "text/plain": [
       "0    800143\n",
       "1    199857\n",
       "Name: is_clicked, dtype: int64"
      ]
     },
     "execution_count": 71,
     "metadata": {},
     "output_type": "execute_result"
    }
   ],
   "source": [
    "# Target vector (i.e, the desired outcome was performed or not (Clicked the message or not))\n",
    "\n",
    "y.value_counts()"
   ]
  },
  {
   "cell_type": "code",
   "execution_count": 72,
   "id": "ef0e6fd2",
   "metadata": {},
   "outputs": [
    {
     "data": {
      "text/plain": [
       "0    1\n",
       "1    1\n",
       "2    0\n",
       "Name: treatment, dtype: int32"
      ]
     },
     "execution_count": 72,
     "metadata": {},
     "output_type": "execute_result"
    }
   ],
   "source": [
    "# Treatment vector containing 0 and 1 (where 1 is that they were in ab_testing i.e, they were influenced)\n",
    "\n",
    "t.head(3)"
   ]
  },
  {
   "cell_type": "code",
   "execution_count": 73,
   "id": "5a07a1dd",
   "metadata": {},
   "outputs": [
    {
     "data": {
      "text/plain": [
       "1    700074\n",
       "0    299926\n",
       "Name: treatment, dtype: int64"
      ]
     },
     "execution_count": 73,
     "metadata": {},
     "output_type": "execute_result"
    }
   ],
   "source": [
    "t.value_counts()"
   ]
  },
  {
   "cell_type": "code",
   "execution_count": null,
   "id": "9b73d1fa",
   "metadata": {},
   "outputs": [],
   "source": []
  },
  {
   "cell_type": "markdown",
   "id": "22f246b3",
   "metadata": {},
   "source": [
    "## Uplift Modeling"
   ]
  },
  {
   "cell_type": "markdown",
   "id": "ae6b0c38",
   "metadata": {},
   "source": [
    "### 1. Two Models Approach"
   ]
  },
  {
   "cell_type": "code",
   "execution_count": 105,
   "id": "bd64e3a7",
   "metadata": {},
   "outputs": [],
   "source": [
    "from sklift.models import TwoModels\n",
    "from xgboost import XGBClassifier\n",
    "from sklift.metrics import uplift_at_k, qini_auc_score, uplift_auc_score\n",
    "from sklearn.model_selection import GridSearchCV"
   ]
  },
  {
   "cell_type": "code",
   "execution_count": null,
   "id": "89712435",
   "metadata": {},
   "outputs": [],
   "source": [
    "# Two model - an uplift model with CatBoost classifier\n",
    "\n",
    "estimator_trmnt = CatBoostClassifier(silent=True, thread_count=2, random_state=42)\n",
    "estimator_ctrl = CatBoostClassifier(silent=True, thread_count=2, random_state=42)\n",
    "\n",
    "two_model = TwoModels(\n",
    "    estimator_trmnt = estimator_trmnt,\n",
    "    estimator_ctrl = estimator_ctrl,\n",
    "    method='ddr_control'\n",
    ")\n",
    "\n",
    "# Fit and Predict the model\n",
    "two_model.fit(X_train, y_train, t_train)\n",
    "uplift_two_model = two_model.predict(X_test)"
   ]
  },
  {
   "cell_type": "code",
   "execution_count": 148,
   "id": "70e5e410",
   "metadata": {},
   "outputs": [
    {
     "name": "stdout",
     "output_type": "stream",
     "text": [
      "Two-Model Approach - Uplift score at 30%: 0.0015407564272344187\n",
      "Two-Model Approach - Area Under Uplift Curve (AUUC): -0.0010886121763667507\n",
      "Two-Model Approach - Area Under Qini Curve (AUQC): -0.0014317959142938694\n"
     ]
    }
   ],
   "source": [
    "# Evaluation\n",
    "\n",
    "uplift_score = uplift_at_k(y_test, uplift_two_model, t_test, strategy='overall', k=0.3)\n",
    "auuc = uplift_auc_score(y_test, uplift_two_model, t_test)\n",
    "auqc = qini_auc_score(y_test, uplift_two_model, t_test)\n",
    "\n",
    "print(f'Two-Model Approach - Uplift score at 30%: {uplift_score}')\n",
    "print(f'Two-Model Approach - Area Under Uplift Curve (AUUC): {auuc}')\n",
    "print(f'Two-Model Approach - Area Under Qini Curve (AUQC): {auqc}')"
   ]
  },
  {
   "cell_type": "code",
   "execution_count": 158,
   "id": "0343da6e",
   "metadata": {},
   "outputs": [
    {
     "data": {
      "image/png": "[encoded data removed]",
      "text/plain": [
       "<Figure size 432x288 with 1 Axes>"
      ]
     },
     "metadata": {
      "needs_background": "light"
     },
     "output_type": "display_data"
    }
   ],
   "source": [
    "# Plotting Uplift Score at 30%\n",
    "plt.figure(figsize=(6, 4))\n",
    "plt.bar('Uplift Score at 30%', uplift_score, color='skyblue')\n",
    "plt.xlabel('Evaluation Metric')\n",
    "plt.ylabel('Score')\n",
    "plt.title('Two Models: Uplift Score at 30%')\n",
    "plt.ylim(0, uplift_score + 0.05)  # Adjust y-axis limit\n",
    "plt.grid(axis='y', linestyle='--', alpha=0.7)\n",
    "plt.show()\n"
   ]
  },
  {
   "cell_type": "code",
   "execution_count": 150,
   "id": "8d50a07e",
   "metadata": {},
   "outputs": [
    {
     "data": {
      "text/plain": [
       "<Figure size 792x504 with 0 Axes>"
      ]
     },
     "metadata": {},
     "output_type": "display_data"
    },
    {
     "data": {
      "image/png": "[encoded data removed]",
      "text/plain": [
       "<Figure size 432x288 with 1 Axes>"
      ]
     },
     "metadata": {
      "needs_background": "light"
     },
     "output_type": "display_data"
    }
   ],
   "source": [
    "from sklift.viz import plot_qini_curve\n",
    "import matplotlib.pyplot as plt\n",
    "\n",
    "# Example data setup (use your actual data)\n",
    "# y_test: Actual labels of the test set\n",
    "# uplift_two_model: Predicted uplift scores from the model\n",
    "# t_test: Treatment indicators for the test set\n",
    "\n",
    "# Plotting the Qini curve\n",
    "plt.figure(figsize=(11, 7))\n",
    "plot_qini_curve(y_test, uplift_two_model, t_test, perfect=True)\n",
    "plt.title('Qini Curve of Two Models')\n",
    "plt.xlabel('Number of Targets (Percentile)')\n",
    "plt.ylabel('Cumulative Gain')\n",
    "plt.grid(True)\n",
    "plt.show()\n"
   ]
  },
  {
   "cell_type": "code",
   "execution_count": null,
   "id": "5bdff8a1",
   "metadata": {},
   "outputs": [],
   "source": []
  },
  {
   "cell_type": "markdown",
   "id": "fd68f7cb",
   "metadata": {},
   "source": [
    "### 2. Class Transformation"
   ]
  },
  {
   "cell_type": "code",
   "execution_count": null,
   "id": "b80968ca",
   "metadata": {},
   "outputs": [],
   "source": [
    "from sklearn.pipeline import Pipeline\n",
    "from sklearn.impute import SimpleImputer\n",
    "from sklift.metrics import uplift_at_k\n",
    "from sklift.models import ClassTransformation"
   ]
  },
  {
   "cell_type": "code",
   "execution_count": 151,
   "id": "2b6b17e3",
   "metadata": {},
   "outputs": [
    {
     "name": "stdout",
     "output_type": "stream",
     "text": [
      "Train shape: (700000, 26)\n",
      "Validation shape: (300000, 26)\n"
     ]
    }
   ],
   "source": [
    "df4['target'] = df4['is_clicked']\n",
    "\n",
    "X = df4.drop(columns=['campaign_id', 'is_clicked', 'target'])\n",
    "y = df4['target']\n",
    "treatment = df4['treatment']\n",
    "\n",
    "# Stratify split\n",
    "stratify_cols = pd.concat([treatment, y], axis=1)\n",
    "\n",
    "X_train, X_val, trmnt_train, trmnt_val, y_train, y_val = train_test_split(X, \n",
    "                                                                          treatment, \n",
    "                                                                          y, \n",
    "                                                                          stratify=stratify_cols, \n",
    "                                                                          test_size=0.3, \n",
    "                                                                          random_state=42\n",
    ")\n",
    "\n",
    "print(f\"Train shape: {X_train.shape}\")\n",
    "print(f\"Validation shape: {X_val.shape}\")"
   ]
  },
  {
   "cell_type": "code",
   "execution_count": 194,
   "id": "bbeb2378",
   "metadata": {},
   "outputs": [],
   "source": [
    "imp_mode = SimpleImputer(missing_values=np.nan, strategy='most_frequent')\n",
    "estimator = CatBoostClassifier(verbose=100, random_state=42, thread_count=1)\n",
    "\n",
    "# Class Transformation model\n",
    "ct_model = ClassTransformation(estimator=estimator)\n",
    "\n",
    "my_pipeline = Pipeline([('imputer', imp_mode), ('model', ct_model)\n",
    "])\n",
    "\n",
    "# Fit & predict the uplift\n",
    "my_pipeline = my_pipeline.fit(X=X_train, y=y_train, model__treatment=trmnt_train)\n",
    "uplift_predictions = my_pipeline.predict(X_val)\n",
    "\n",
    "uplift_30 = uplift_at_k(y_val, uplift_predictions, trmnt_val, strategy='overall')"
   ]
  },
  {
   "cell_type": "code",
   "execution_count": null,
   "id": "696af3fb",
   "metadata": {},
   "outputs": [],
   "source": []
  },
  {
   "cell_type": "code",
   "execution_count": 160,
   "id": "2928c3ee",
   "metadata": {},
   "outputs": [
    {
     "data": {
      "image/png": "[encoded data removed]",
      "text/plain": [
       "<Figure size 432x288 with 1 Axes>"
      ]
     },
     "metadata": {
      "needs_background": "light"
     },
     "output_type": "display_data"
    }
   ],
   "source": [
    "# Plotting Uplift Score at 30%\n",
    "\n",
    "plt.figure(figsize=(6, 4))\n",
    "plt.bar('Uplift Score at 30%', uplift_30, color='skyblue')\n",
    "plt.xlabel('Evaluation Metric')\n",
    "plt.ylabel('Score')\n",
    "plt.title('Class Transformation: Uplift Score at 30%')\n",
    "plt.ylim(0, uplift_30 + 0.05)  # Adjust y-axis limit\n",
    "plt.grid(axis='y', linestyle='--', alpha=0.7)\n",
    "plt.show()"
   ]
  },
  {
   "cell_type": "code",
   "execution_count": 154,
   "id": "5173fd26",
   "metadata": {},
   "outputs": [
    {
     "name": "stdout",
     "output_type": "stream",
     "text": [
      "AUUC: 0.0003\n",
      "AUQC: -0.0016\n"
     ]
    }
   ],
   "source": [
    "# Calculate AUUC and AUQC\n",
    "\n",
    "auuc1 = uplift_auc_score(y_val, uplift_predictions, trmnt_val)\n",
    "auqc1 = qini_auc_score(y_val, uplift_predictions, trmnt_val)\n",
    "\n",
    "print(f\"AUUC: {auuc1:.4f}\")\n",
    "print(f\"AUQC: {auqc1:.4f}\")"
   ]
  },
  {
   "cell_type": "code",
   "execution_count": 155,
   "id": "e185bffd",
   "metadata": {},
   "outputs": [
    {
     "data": {
      "text/plain": [
       "<Figure size 576x432 with 0 Axes>"
      ]
     },
     "metadata": {},
     "output_type": "display_data"
    },
    {
     "data": {
      "image/png": "[encoded data removed]",
      "text/plain": [
       "<Figure size 432x288 with 1 Axes>"
      ]
     },
     "metadata": {
      "needs_background": "light"
     },
     "output_type": "display_data"
    }
   ],
   "source": [
    "# Plot the Qini curve\n",
    "plt.figure(figsize=(8, 6))\n",
    "plot_qini_curve(y_val, uplift_predictions, trmnt_val, perfect=True)\n",
    "plt.title('Qini Curve of Class Transformation')\n",
    "plt.xlabel('Number of Targets (Percentile)')\n",
    "plt.ylabel('Cumulative Gain')\n",
    "plt.grid(True)\n",
    "plt.show()"
   ]
  },
  {
   "cell_type": "code",
   "execution_count": null,
   "id": "d29b9c76",
   "metadata": {},
   "outputs": [],
   "source": []
  },
  {
   "cell_type": "markdown",
   "id": "ef83b121",
   "metadata": {},
   "source": [
    "### 3. Two Model Approach with LGBM Classifier"
   ]
  },
  {
   "cell_type": "code",
   "execution_count": 90,
   "id": "6c9962b9",
   "metadata": {
    "scrolled": true
   },
   "outputs": [],
   "source": [
    "from sklift.models import TwoModels\n",
    "from sklift.viz import plot_qini_curve\n",
    "from lightgbm import LGBMClassifier"
   ]
  },
  {
   "cell_type": "code",
   "execution_count": 167,
   "id": "b3c9ff2f",
   "metadata": {},
   "outputs": [
    {
     "name": "stdout",
     "output_type": "stream",
     "text": [
      "Train shape: (700000, 28)\n",
      "Validation shape: (300000, 28)\n"
     ]
    }
   ],
   "source": [
    "X = df4.drop(columns=['is_clicked'])\n",
    "y = df4['is_clicked']\n",
    "treatment = df4['treatment']\n",
    "\n",
    "# Stratify split\n",
    "stratify_cols = pd.concat([treatment, y], axis=1)\n",
    "X_train, X_val, trmnt_train, trmnt_val, y_train, y_val = train_test_split(X, \n",
    "                                                                          treatment, \n",
    "                                                                          y, \n",
    "                                                                          stratify=stratify_cols, \n",
    "                                                                          test_size=0.3, \n",
    "                                                                          random_state=31)\n",
    "print(f\"Train shape: {X_train.shape}\")\n",
    "print(f\"Validation shape: {X_val.shape}\")"
   ]
  },
  {
   "cell_type": "code",
   "execution_count": 168,
   "id": "48004d65",
   "metadata": {},
   "outputs": [
    {
     "name": "stdout",
     "output_type": "stream",
     "text": [
      "[LightGBM] [Warning] lambda_l1 is set=1.0, reg_alpha=0.0 will be ignored. Current value: lambda_l1=1.0\n",
      "[LightGBM] [Warning] lambda_l2 is set=1.0, reg_lambda=0.0 will be ignored. Current value: lambda_l2=1.0\n",
      "[LightGBM] [Warning] lambda_l1 is set=1.0, reg_alpha=0.0 will be ignored. Current value: lambda_l1=1.0\n",
      "[LightGBM] [Warning] lambda_l2 is set=1.0, reg_lambda=0.0 will be ignored. Current value: lambda_l2=1.0\n",
      "[LightGBM] [Info] Number of positive: 41647, number of negative: 168027\n",
      "[LightGBM] [Info] Auto-choosing row-wise multi-threading, the overhead of testing was 0.011884 seconds.\n",
      "You can set `force_row_wise=true` to remove the overhead.\n",
      "And if memory is not enough, you can set `force_col_wise=true`.\n",
      "[LightGBM] [Info] Total Bins 72\n",
      "[LightGBM] [Info] Number of data points in the train set: 209674, number of used features: 20\n",
      "[LightGBM] [Info] [binary:BoostFromScore]: pavg=0.198627 -> initscore=-1.394895\n",
      "[LightGBM] [Info] Start training from score -1.394895\n",
      "[LightGBM] [Warning] No further splits with positive gain, best gain: -inf\n",
      "[LightGBM] [Warning] No further splits with positive gain, best gain: -inf\n",
      "[LightGBM] [Warning] No further splits with positive gain, best gain: -inf\n",
      "[LightGBM] [Warning] No further splits with positive gain, best gain: -inf\n",
      "[LightGBM] [Warning] No further splits with positive gain, best gain: -inf\n",
      "[LightGBM] [Warning] No further splits with positive gain, best gain: -inf\n",
      "[LightGBM] [Warning] No further splits with positive gain, best gain: -inf\n",
      "[LightGBM] [Warning] No further splits with positive gain, best gain: -inf\n",
      "[LightGBM] [Warning] No further splits with positive gain, best gain: -inf\n",
      "[LightGBM] [Warning] No further splits with positive gain, best gain: -inf\n",
      "[LightGBM] [Warning] No further splits with positive gain, best gain: -inf\n",
      "[LightGBM] [Warning] No further splits with positive gain, best gain: -inf\n",
      "[LightGBM] [Warning] No further splits with positive gain, best gain: -inf\n",
      "[LightGBM] [Warning] No further splits with positive gain, best gain: -inf\n",
      "[LightGBM] [Warning] No further splits with positive gain, best gain: -inf\n",
      "[LightGBM] [Warning] No further splits with positive gain, best gain: -inf\n",
      "[LightGBM] [Warning] No further splits with positive gain, best gain: -inf\n",
      "[LightGBM] [Warning] No further splits with positive gain, best gain: -inf\n",
      "[LightGBM] [Warning] No further splits with positive gain, best gain: -inf\n",
      "[LightGBM] [Warning] No further splits with positive gain, best gain: -inf\n",
      "[LightGBM] [Warning] No further splits with positive gain, best gain: -inf\n",
      "[LightGBM] [Warning] No further splits with positive gain, best gain: -inf\n",
      "[LightGBM] [Warning] No further splits with positive gain, best gain: -inf\n",
      "[LightGBM] [Warning] No further splits with positive gain, best gain: -inf\n",
      "[LightGBM] [Warning] No further splits with positive gain, best gain: -inf\n",
      "[LightGBM] [Warning] No further splits with positive gain, best gain: -inf\n",
      "[LightGBM] [Warning] No further splits with positive gain, best gain: -inf\n",
      "[LightGBM] [Warning] No further splits with positive gain, best gain: -inf\n",
      "[LightGBM] [Warning] No further splits with positive gain, best gain: -inf\n",
      "[LightGBM] [Warning] No further splits with positive gain, best gain: -inf\n",
      "[LightGBM] [Warning] No further splits with positive gain, best gain: -inf\n",
      "[LightGBM] [Warning] No further splits with positive gain, best gain: -inf\n",
      "[LightGBM] [Warning] No further splits with positive gain, best gain: -inf\n",
      "[LightGBM] [Warning] No further splits with positive gain, best gain: -inf\n",
      "[LightGBM] [Warning] No further splits with positive gain, best gain: -inf\n",
      "[LightGBM] [Warning] No further splits with positive gain, best gain: -inf\n",
      "[LightGBM] [Warning] No further splits with positive gain, best gain: -inf\n",
      "[LightGBM] [Warning] No further splits with positive gain, best gain: -inf\n",
      "[LightGBM] [Warning] No further splits with positive gain, best gain: -inf\n",
      "[LightGBM] [Warning] No further splits with positive gain, best gain: -inf\n",
      "[LightGBM] [Warning] No further splits with positive gain, best gain: -inf\n",
      "[LightGBM] [Warning] No further splits with positive gain, best gain: -inf\n",
      "[LightGBM] [Warning] No further splits with positive gain, best gain: -inf\n",
      "[LightGBM] [Warning] No further splits with positive gain, best gain: -inf\n",
      "[LightGBM] [Warning] No further splits with positive gain, best gain: -inf\n",
      "[LightGBM] [Warning] No further splits with positive gain, best gain: -inf\n",
      "[LightGBM] [Warning] No further splits with positive gain, best gain: -inf\n",
      "[LightGBM] [Warning] No further splits with positive gain, best gain: -inf\n",
      "[LightGBM] [Warning] No further splits with positive gain, best gain: -inf\n",
      "[LightGBM] [Warning] No further splits with positive gain, best gain: -inf\n",
      "[LightGBM] [Warning] No further splits with positive gain, best gain: -inf\n",
      "[LightGBM] [Warning] No further splits with positive gain, best gain: -inf\n",
      "[LightGBM] [Warning] No further splits with positive gain, best gain: -inf\n",
      "[LightGBM] [Warning] No further splits with positive gain, best gain: -inf\n",
      "[LightGBM] [Warning] No further splits with positive gain, best gain: -inf\n",
      "[LightGBM] [Warning] Stopped training because there are no more leaves that meet the split requirements\n",
      "[LightGBM] [Warning] No further splits with positive gain, best gain: -inf\n",
      "[LightGBM] [Warning] No further splits with positive gain, best gain: -inf\n",
      "[LightGBM] [Warning] No further splits with positive gain, best gain: -inf\n",
      "[LightGBM] [Warning] No further splits with positive gain, best gain: -inf\n",
      "[LightGBM] [Warning] No further splits with positive gain, best gain: -inf\n",
      "[LightGBM] [Warning] No further splits with positive gain, best gain: -inf\n",
      "[LightGBM] [Warning] No further splits with positive gain, best gain: -inf\n",
      "[LightGBM] [Warning] No further splits with positive gain, best gain: -inf\n",
      "[LightGBM] [Warning] No further splits with positive gain, best gain: -inf\n",
      "[LightGBM] [Warning] Stopped training because there are no more leaves that meet the split requirements\n",
      "[LightGBM] [Warning] No further splits with positive gain, best gain: -inf\n",
      "[LightGBM] [Warning] No further splits with positive gain, best gain: -inf\n",
      "[LightGBM] [Warning] No further splits with positive gain, best gain: -inf\n",
      "[LightGBM] [Warning] No further splits with positive gain, best gain: -inf\n",
      "[LightGBM] [Warning] No further splits with positive gain, best gain: -inf\n",
      "[LightGBM] [Warning] No further splits with positive gain, best gain: -inf\n",
      "[LightGBM] [Warning] Stopped training because there are no more leaves that meet the split requirements\n",
      "[LightGBM] [Warning] No further splits with positive gain, best gain: -inf\n",
      "[LightGBM] [Warning] No further splits with positive gain, best gain: -inf\n",
      "[LightGBM] [Warning] No further splits with positive gain, best gain: -inf\n",
      "[LightGBM] [Warning] No further splits with positive gain, best gain: -inf\n",
      "[LightGBM] [Warning] No further splits with positive gain, best gain: -inf\n",
      "[LightGBM] [Warning] No further splits with positive gain, best gain: -inf\n",
      "[LightGBM] [Warning] Stopped training because there are no more leaves that meet the split requirements\n",
      "[LightGBM] [Warning] No further splits with positive gain, best gain: -inf\n",
      "[LightGBM] [Warning] No further splits with positive gain, best gain: -inf\n",
      "[LightGBM] [Warning] Stopped training because there are no more leaves that meet the split requirements\n",
      "[LightGBM] [Warning] No further splits with positive gain, best gain: -inf\n",
      "[LightGBM] [Warning] Stopped training because there are no more leaves that meet the split requirements\n",
      "[LightGBM] [Warning] No further splits with positive gain, best gain: -inf\n",
      "[LightGBM] [Warning] No further splits with positive gain, best gain: -inf\n",
      "[LightGBM] [Warning] No further splits with positive gain, best gain: -inf\n",
      "[LightGBM] [Warning] No further splits with positive gain, best gain: -inf\n",
      "[LightGBM] [Warning] Stopped training because there are no more leaves that meet the split requirements\n",
      "[LightGBM] [Warning] No further splits with positive gain, best gain: -inf\n",
      "[LightGBM] [Warning] Stopped training because there are no more leaves that meet the split requirements\n",
      "[LightGBM] [Warning] No further splits with positive gain, best gain: -inf\n",
      "[LightGBM] [Warning] Stopped training because there are no more leaves that meet the split requirements\n",
      "[LightGBM] [Warning] No further splits with positive gain, best gain: -inf\n",
      "[LightGBM] [Warning] No further splits with positive gain, best gain: -inf\n",
      "[LightGBM] [Warning] No further splits with positive gain, best gain: -inf\n",
      "[LightGBM] [Warning] Stopped training because there are no more leaves that meet the split requirements\n",
      "[LightGBM] [Warning] No further splits with positive gain, best gain: -inf\n",
      "[LightGBM] [Warning] No further splits with positive gain, best gain: -inf\n",
      "[LightGBM] [Warning] No further splits with positive gain, best gain: -inf\n",
      "[LightGBM] [Warning] Stopped training because there are no more leaves that meet the split requirements\n",
      "[LightGBM] [Warning] No further splits with positive gain, best gain: -inf\n",
      "[LightGBM] [Warning] No further splits with positive gain, best gain: -inf\n",
      "[LightGBM] [Warning] No further splits with positive gain, best gain: -inf\n",
      "[LightGBM] [Warning] No further splits with positive gain, best gain: -inf\n",
      "[LightGBM] [Warning] No further splits with positive gain, best gain: -inf\n",
      "[LightGBM] [Warning] Stopped training because there are no more leaves that meet the split requirements\n",
      "[LightGBM] [Warning] No further splits with positive gain, best gain: -inf\n",
      "[LightGBM] [Warning] No further splits with positive gain, best gain: -inf\n",
      "[LightGBM] [Warning] Stopped training because there are no more leaves that meet the split requirements\n",
      "[LightGBM] [Warning] No further splits with positive gain, best gain: -inf\n",
      "[LightGBM] [Warning] No further splits with positive gain, best gain: -inf\n",
      "[LightGBM] [Warning] Stopped training because there are no more leaves that meet the split requirements\n"
     ]
    },
    {
     "name": "stdout",
     "output_type": "stream",
     "text": [
      "[LightGBM] [Warning] lambda_l1 is set=1.0, reg_alpha=0.0 will be ignored. Current value: lambda_l1=1.0\n",
      "[LightGBM] [Warning] lambda_l2 is set=1.0, reg_lambda=0.0 will be ignored. Current value: lambda_l2=1.0\n",
      "[LightGBM] [Warning] lambda_l1 is set=1.0, reg_alpha=0.0 will be ignored. Current value: lambda_l1=1.0\n",
      "[LightGBM] [Warning] lambda_l2 is set=1.0, reg_lambda=0.0 will be ignored. Current value: lambda_l2=1.0\n",
      "[LightGBM] [Info] Number of positive: 98212, number of negative: 392114\n",
      "[LightGBM] [Info] Auto-choosing col-wise multi-threading, the overhead of testing was 0.018569 seconds.\n",
      "You can set `force_col_wise=true` to remove the overhead.\n",
      "[LightGBM] [Info] Total Bins 72\n",
      "[LightGBM] [Info] Number of data points in the train set: 490326, number of used features: 20\n",
      "[LightGBM] [Info] [binary:BoostFromScore]: pavg=0.200299 -> initscore=-1.384424\n",
      "[LightGBM] [Info] Start training from score -1.384424\n",
      "[LightGBM] [Warning] No further splits with positive gain, best gain: -inf\n",
      "[LightGBM] [Warning] No further splits with positive gain, best gain: -inf\n",
      "[LightGBM] [Warning] No further splits with positive gain, best gain: -inf\n",
      "[LightGBM] [Warning] No further splits with positive gain, best gain: -inf\n",
      "[LightGBM] [Warning] No further splits with positive gain, best gain: -inf\n",
      "[LightGBM] [Warning] No further splits with positive gain, best gain: -inf\n",
      "[LightGBM] [Warning] No further splits with positive gain, best gain: -inf\n",
      "[LightGBM] [Warning] No further splits with positive gain, best gain: -inf\n",
      "[LightGBM] [Warning] No further splits with positive gain, best gain: -inf\n",
      "[LightGBM] [Warning] No further splits with positive gain, best gain: -inf\n",
      "[LightGBM] [Warning] No further splits with positive gain, best gain: -inf\n",
      "[LightGBM] [Warning] No further splits with positive gain, best gain: -inf\n",
      "[LightGBM] [Warning] No further splits with positive gain, best gain: -inf\n",
      "[LightGBM] [Warning] No further splits with positive gain, best gain: -inf\n",
      "[LightGBM] [Warning] No further splits with positive gain, best gain: -inf\n",
      "[LightGBM] [Warning] No further splits with positive gain, best gain: -inf\n",
      "[LightGBM] [Warning] No further splits with positive gain, best gain: -inf\n",
      "[LightGBM] [Warning] No further splits with positive gain, best gain: -inf\n",
      "[LightGBM] [Warning] No further splits with positive gain, best gain: -inf\n",
      "[LightGBM] [Warning] No further splits with positive gain, best gain: -inf\n",
      "[LightGBM] [Warning] No further splits with positive gain, best gain: -inf\n",
      "[LightGBM] [Warning] No further splits with positive gain, best gain: -inf\n",
      "[LightGBM] [Warning] No further splits with positive gain, best gain: -inf\n",
      "[LightGBM] [Warning] No further splits with positive gain, best gain: -inf\n",
      "[LightGBM] [Warning] No further splits with positive gain, best gain: -inf\n",
      "[LightGBM] [Warning] No further splits with positive gain, best gain: -inf\n",
      "[LightGBM] [Warning] No further splits with positive gain, best gain: -inf\n",
      "[LightGBM] [Warning] No further splits with positive gain, best gain: -inf\n",
      "[LightGBM] [Warning] No further splits with positive gain, best gain: -inf\n",
      "[LightGBM] [Warning] No further splits with positive gain, best gain: -inf\n",
      "[LightGBM] [Warning] No further splits with positive gain, best gain: -inf\n",
      "[LightGBM] [Warning] No further splits with positive gain, best gain: -inf\n",
      "[LightGBM] [Warning] No further splits with positive gain, best gain: -inf\n",
      "[LightGBM] [Warning] No further splits with positive gain, best gain: -inf\n",
      "[LightGBM] [Warning] No further splits with positive gain, best gain: -inf\n",
      "[LightGBM] [Warning] No further splits with positive gain, best gain: -inf\n",
      "[LightGBM] [Warning] No further splits with positive gain, best gain: -inf\n",
      "[LightGBM] [Warning] No further splits with positive gain, best gain: -inf\n",
      "[LightGBM] [Warning] No further splits with positive gain, best gain: -inf\n",
      "[LightGBM] [Warning] No further splits with positive gain, best gain: -inf\n",
      "[LightGBM] [Warning] No further splits with positive gain, best gain: -inf\n",
      "[LightGBM] [Warning] No further splits with positive gain, best gain: -inf\n",
      "[LightGBM] [Warning] No further splits with positive gain, best gain: -inf\n",
      "[LightGBM] [Warning] No further splits with positive gain, best gain: -inf\n",
      "[LightGBM] [Warning] No further splits with positive gain, best gain: -inf\n",
      "[LightGBM] [Warning] No further splits with positive gain, best gain: -inf\n",
      "[LightGBM] [Warning] No further splits with positive gain, best gain: -inf\n",
      "[LightGBM] [Warning] No further splits with positive gain, best gain: -inf\n",
      "[LightGBM] [Warning] No further splits with positive gain, best gain: -inf\n",
      "[LightGBM] [Warning] No further splits with positive gain, best gain: -inf\n",
      "[LightGBM] [Warning] No further splits with positive gain, best gain: -inf\n",
      "[LightGBM] [Warning] No further splits with positive gain, best gain: -inf\n",
      "[LightGBM] [Warning] No further splits with positive gain, best gain: -inf\n",
      "[LightGBM] [Warning] No further splits with positive gain, best gain: -inf\n",
      "[LightGBM] [Warning] No further splits with positive gain, best gain: -inf\n",
      "[LightGBM] [Warning] No further splits with positive gain, best gain: -inf\n",
      "[LightGBM] [Warning] No further splits with positive gain, best gain: -inf\n",
      "[LightGBM] [Warning] No further splits with positive gain, best gain: -inf\n",
      "[LightGBM] [Warning] No further splits with positive gain, best gain: -inf\n",
      "[LightGBM] [Warning] No further splits with positive gain, best gain: -inf\n",
      "[LightGBM] [Warning] No further splits with positive gain, best gain: -inf\n",
      "[LightGBM] [Warning] No further splits with positive gain, best gain: -inf\n",
      "[LightGBM] [Warning] No further splits with positive gain, best gain: -inf\n",
      "[LightGBM] [Warning] No further splits with positive gain, best gain: -inf\n",
      "[LightGBM] [Warning] No further splits with positive gain, best gain: -inf\n",
      "[LightGBM] [Warning] No further splits with positive gain, best gain: -inf\n",
      "[LightGBM] [Warning] No further splits with positive gain, best gain: -inf\n",
      "[LightGBM] [Warning] No further splits with positive gain, best gain: -inf\n",
      "[LightGBM] [Warning] No further splits with positive gain, best gain: -inf\n",
      "[LightGBM] [Warning] No further splits with positive gain, best gain: -inf\n",
      "[LightGBM] [Warning] No further splits with positive gain, best gain: -inf\n",
      "[LightGBM] [Warning] No further splits with positive gain, best gain: -inf\n",
      "[LightGBM] [Warning] No further splits with positive gain, best gain: -inf\n",
      "[LightGBM] [Warning] No further splits with positive gain, best gain: -inf\n",
      "[LightGBM] [Warning] No further splits with positive gain, best gain: -inf\n",
      "[LightGBM] [Warning] No further splits with positive gain, best gain: -inf\n",
      "[LightGBM] [Warning] No further splits with positive gain, best gain: -inf\n",
      "[LightGBM] [Warning] Stopped training because there are no more leaves that meet the split requirements\n",
      "[LightGBM] [Warning] No further splits with positive gain, best gain: -inf\n",
      "[LightGBM] [Warning] No further splits with positive gain, best gain: -inf\n",
      "[LightGBM] [Warning] No further splits with positive gain, best gain: -inf\n",
      "[LightGBM] [Warning] No further splits with positive gain, best gain: -inf\n",
      "[LightGBM] [Warning] No further splits with positive gain, best gain: -inf\n",
      "[LightGBM] [Warning] No further splits with positive gain, best gain: -inf\n",
      "[LightGBM] [Warning] No further splits with positive gain, best gain: -inf\n",
      "[LightGBM] [Warning] No further splits with positive gain, best gain: -inf\n",
      "[LightGBM] [Warning] No further splits with positive gain, best gain: -inf\n",
      "[LightGBM] [Warning] No further splits with positive gain, best gain: -inf\n",
      "[LightGBM] [Warning] No further splits with positive gain, best gain: -inf\n",
      "[LightGBM] [Warning] No further splits with positive gain, best gain: -inf\n",
      "[LightGBM] [Warning] Stopped training because there are no more leaves that meet the split requirements\n",
      "[LightGBM] [Warning] No further splits with positive gain, best gain: -inf\n",
      "[LightGBM] [Warning] No further splits with positive gain, best gain: -inf\n",
      "[LightGBM] [Warning] No further splits with positive gain, best gain: -inf\n",
      "[LightGBM] [Warning] No further splits with positive gain, best gain: -inf\n",
      "[LightGBM] [Warning] No further splits with positive gain, best gain: -inf\n",
      "[LightGBM] [Warning] Stopped training because there are no more leaves that meet the split requirements\n",
      "[LightGBM] [Warning] No further splits with positive gain, best gain: -inf\n",
      "[LightGBM] [Warning] No further splits with positive gain, best gain: -inf\n",
      "[LightGBM] [Warning] Stopped training because there are no more leaves that meet the split requirements\n",
      "[LightGBM] [Warning] No further splits with positive gain, best gain: -inf\n",
      "[LightGBM] [Warning] No further splits with positive gain, best gain: -inf\n",
      "[LightGBM] [Warning] Stopped training because there are no more leaves that meet the split requirements\n",
      "[LightGBM] [Warning] lambda_l1 is set=1.0, reg_alpha=0.0 will be ignored. Current value: lambda_l1=1.0\n",
      "[LightGBM] [Warning] lambda_l2 is set=1.0, reg_lambda=0.0 will be ignored. Current value: lambda_l2=1.0\n"
     ]
    },
    {
     "name": "stdout",
     "output_type": "stream",
     "text": [
      "[LightGBM] [Warning] lambda_l1 is set=1.0, reg_alpha=0.0 will be ignored. Current value: lambda_l1=1.0\n",
      "[LightGBM] [Warning] lambda_l2 is set=1.0, reg_lambda=0.0 will be ignored. Current value: lambda_l2=1.0\n"
     ]
    }
   ],
   "source": [
    "# Initialize the models with regularization\n",
    "\n",
    "treatment_model = LGBMClassifier(\n",
    "                    random_state=31,\n",
    "                    n_estimators=100,\n",
    "                    learning_rate=0.05,\n",
    "                    lambda_l1=1.0,  # L1 regularization\n",
    "                    lambda_l2=1.0,  # L2 regularization\n",
    "                    min_split_gain=0.01,\n",
    "                    min_child_weight=1,\n",
    "                    subsample=0.8,\n",
    "                    colsample_bytree=0.8,\n",
    "                    objective='binary')\n",
    "\n",
    "\n",
    "control_model = LGBMClassifier(\n",
    "                random_state=31,\n",
    "                n_estimators=100,\n",
    "                learning_rate=0.05,\n",
    "                lambda_l1=1.0,\n",
    "                lambda_l2=1.0,\n",
    "                min_split_gain=0.01,\n",
    "                min_child_weight=1,\n",
    "                subsample=0.8,\n",
    "                colsample_bytree=0.8,\n",
    "                objective='binary')\n",
    "\n",
    "# Initialize the TwoModels approach\n",
    "tm = TwoModels(estimator_trmnt=treatment_model, estimator_ctrl=control_model, method='vanilla')\n",
    "\n",
    "# Fit and Predict \n",
    "tm = tm.fit(X_train, y_train, trmnt_train)\n",
    "uplift_tm = tm.predict(X_val)"
   ]
  },
  {
   "cell_type": "code",
   "execution_count": 176,
   "id": "1faaa04a",
   "metadata": {},
   "outputs": [
    {
     "name": "stdout",
     "output_type": "stream",
     "text": [
      "Uplift score at 30%: 0.0014\n"
     ]
    }
   ],
   "source": [
    "# Calculate uplift@30%\n",
    "uplift_30 = uplift_at_k(y_val, uplift_tm, trmnt_val, strategy='overall', k=0.3)\n",
    "print(f'Uplift score at 30%: {uplift_30:.4f}')"
   ]
  },
  {
   "cell_type": "code",
   "execution_count": 181,
   "id": "9b318375",
   "metadata": {},
   "outputs": [
    {
     "name": "stdout",
     "output_type": "stream",
     "text": [
      "AUUC: -0.0011\n",
      "AUQC: -0.0014\n"
     ]
    }
   ],
   "source": [
    "# Calculate AUUC and AUQC\n",
    "auuc = uplift_auc_score(y_val, uplift_tm, trmnt_val)\n",
    "auqc = qini_auc_score(y_val, uplift_tm, trmnt_val)\n",
    "print(f\"AUUC: {auuc:.4f}\")\n",
    "print(f\"AUQC: {auqc:.4f}\")"
   ]
  },
  {
   "cell_type": "code",
   "execution_count": 182,
   "id": "1427f133",
   "metadata": {},
   "outputs": [
    {
     "data": {
      "image/png": "[encoded data removed]",
      "text/plain": [
       "<Figure size 432x288 with 1 Axes>"
      ]
     },
     "metadata": {
      "needs_background": "light"
     },
     "output_type": "display_data"
    }
   ],
   "source": [
    "# Plotting Uplift Score at 30%\n",
    "\n",
    "plt.figure(figsize=(6, 4))\n",
    "plt.bar('Uplift Score at 30%', uplift_30, color='skyblue')\n",
    "plt.xlabel('Evaluation Metric')\n",
    "plt.ylabel('Score')\n",
    "plt.title('Two Model with LGBM Classifier')\n",
    "plt.ylim(0, uplift_30 + 0.05)  # Adjust y-axis limit\n",
    "plt.grid(axis='y', linestyle='--', alpha=0.7)\n",
    "plt.show()"
   ]
  },
  {
   "cell_type": "code",
   "execution_count": 183,
   "id": "99652af6",
   "metadata": {},
   "outputs": [
    {
     "data": {
      "text/plain": [
       "<Figure size 576x432 with 0 Axes>"
      ]
     },
     "metadata": {},
     "output_type": "display_data"
    },
    {
     "data": {
      "image/png": "[encoded data removed]",
      "text/plain": [
       "<Figure size 432x288 with 1 Axes>"
      ]
     },
     "metadata": {
      "needs_background": "light"
     },
     "output_type": "display_data"
    }
   ],
   "source": [
    "# Plot the Qini curve\n",
    "plt.figure(figsize=(8, 6))\n",
    "plot_qini_curve(y_val, uplift_tm, trmnt_val, perfect=True)\n",
    "plt.title('Qini Curve')\n",
    "plt.xlabel('Number of Targets (Percentile)')\n",
    "plt.ylabel('Cumulative Gain')\n",
    "plt.grid(True)\n",
    "plt.show()"
   ]
  },
  {
   "cell_type": "code",
   "execution_count": null,
   "id": "d9201045",
   "metadata": {},
   "outputs": [],
   "source": []
  },
  {
   "cell_type": "markdown",
   "id": "4396edaf",
   "metadata": {},
   "source": [
    "### 4. T-Learner (Meta Learner) with LGBM Regressor"
   ]
  },
  {
   "cell_type": "markdown",
   "id": "92a8aa81",
   "metadata": {},
   "source": [
    "#### Treatment"
   ]
  },
  {
   "cell_type": "code",
   "execution_count": 85,
   "id": "a893f605",
   "metadata": {},
   "outputs": [],
   "source": [
    "# Treated Units\n",
    "df_treated = df4[df4['treatment'] == 1]\n",
    "\n",
    "# Features\n",
    "features_treated = df_treated.drop(columns=['campaign_id', 'is_clicked', 'treatment'], axis = 1)\n",
    "\n",
    "# Target action\n",
    "y_treated = df_treated.loc[:, ['is_clicked']]"
   ]
  },
  {
   "cell_type": "markdown",
   "id": "f06c3737",
   "metadata": {},
   "source": [
    "#### Control"
   ]
  },
  {
   "cell_type": "code",
   "execution_count": 86,
   "id": "8ad3b1b5",
   "metadata": {},
   "outputs": [],
   "source": [
    "# Control Units\n",
    "df_control = df4[df4['treatment'] == 0]\n",
    "\n",
    "# Features\n",
    "features_control = df_control.drop(columns=['campaign_id', 'is_clicked', 'treatment'], axis = 1)\n",
    "\n",
    "# Target action\n",
    "y_control = df_control.loc[:, ['is_clicked']]"
   ]
  },
  {
   "cell_type": "code",
   "execution_count": 88,
   "id": "10463481",
   "metadata": {},
   "outputs": [],
   "source": [
    "# features for all the samples\n",
    "\n",
    "features = df4.drop(columns=['campaign_id', 'is_clicked', 'treatment'], axis = 1)"
   ]
  },
  {
   "cell_type": "code",
   "execution_count": 110,
   "id": "3d09af96",
   "metadata": {},
   "outputs": [],
   "source": [
    "# LGBM Regressior\n",
    "\n",
    "optimized_lgbm = LGBMRegressor(\n",
    "    random_state=42,\n",
    "    n_estimators=500,\n",
    "    learning_rate=0.05,\n",
    "    lambda_l1=1.0,           # L1 regularization\n",
    "    lambda_l2=1.0,           # L2 regularization\n",
    "    subsample=0.8,           # Subsample to prevent overfitting\n",
    "    colsample_bytree=0.8,    # Feature sampling\n",
    "    early_stopping_round=10  # Early stopping\n",
    ")"
   ]
  },
  {
   "cell_type": "code",
   "execution_count": 112,
   "id": "8d70397b",
   "metadata": {},
   "outputs": [
    {
     "name": "stdout",
     "output_type": "stream",
     "text": [
      "[LightGBM] [Warning] lambda_l1 is set=1.0, reg_alpha=0.0 will be ignored. Current value: lambda_l1=1.0\n",
      "[LightGBM] [Warning] lambda_l2 is set=1.0, reg_lambda=0.0 will be ignored. Current value: lambda_l2=1.0\n",
      "[LightGBM] [Warning] lambda_l1 is set=1.0, reg_alpha=0.0 will be ignored. Current value: lambda_l1=1.0\n",
      "[LightGBM] [Warning] lambda_l2 is set=1.0, reg_lambda=0.0 will be ignored. Current value: lambda_l2=1.0\n",
      "[LightGBM] [Info] Auto-choosing row-wise multi-threading, the overhead of testing was 0.035465 seconds.\n",
      "You can set `force_row_wise=true` to remove the overhead.\n",
      "And if memory is not enough, you can set `force_col_wise=true`.\n",
      "[LightGBM] [Info] Total Bins 47\n",
      "[LightGBM] [Info] Number of data points in the train set: 700074, number of used features: 18\n",
      "[LightGBM] [Warning] lambda_l1 is set=1.0, reg_alpha=0.0 will be ignored. Current value: lambda_l1=1.0\n",
      "[LightGBM] [Warning] lambda_l2 is set=1.0, reg_lambda=0.0 will be ignored. Current value: lambda_l2=1.0\n",
      "[LightGBM] [Info] Start training from score 0.199963\n",
      "[LightGBM] [Warning] No further splits with positive gain, best gain: -inf\n",
      "Training until validation scores don't improve for 10 rounds\n",
      "[LightGBM] [Warning] No further splits with positive gain, best gain: -inf\n",
      "[LightGBM] [Warning] No further splits with positive gain, best gain: -inf\n",
      "[LightGBM] [Warning] No further splits with positive gain, best gain: -inf\n",
      "[LightGBM] [Warning] No further splits with positive gain, best gain: -inf\n",
      "[LightGBM] [Warning] No further splits with positive gain, best gain: -inf\n",
      "[LightGBM] [Warning] No further splits with positive gain, best gain: -inf\n",
      "[LightGBM] [Warning] No further splits with positive gain, best gain: -inf\n",
      "[LightGBM] [Warning] No further splits with positive gain, best gain: -inf\n",
      "[LightGBM] [Warning] No further splits with positive gain, best gain: -inf\n",
      "[LightGBM] [Warning] No further splits with positive gain, best gain: -inf\n",
      "[LightGBM] [Warning] No further splits with positive gain, best gain: -inf\n",
      "[LightGBM] [Warning] No further splits with positive gain, best gain: -inf\n",
      "[LightGBM] [Warning] No further splits with positive gain, best gain: -inf\n",
      "[LightGBM] [Warning] No further splits with positive gain, best gain: -inf\n",
      "[LightGBM] [Warning] No further splits with positive gain, best gain: -inf\n",
      "[LightGBM] [Warning] No further splits with positive gain, best gain: -inf\n",
      "[LightGBM] [Warning] No further splits with positive gain, best gain: -inf\n",
      "[LightGBM] [Warning] No further splits with positive gain, best gain: -inf\n",
      "[LightGBM] [Warning] No further splits with positive gain, best gain: -inf\n",
      "[LightGBM] [Warning] No further splits with positive gain, best gain: -inf\n",
      "[LightGBM] [Warning] No further splits with positive gain, best gain: -inf\n",
      "[LightGBM] [Warning] No further splits with positive gain, best gain: -inf\n",
      "[LightGBM] [Warning] No further splits with positive gain, best gain: -inf\n",
      "[LightGBM] [Warning] No further splits with positive gain, best gain: -inf\n",
      "[LightGBM] [Warning] No further splits with positive gain, best gain: -inf\n",
      "[LightGBM] [Warning] No further splits with positive gain, best gain: -inf\n",
      "[LightGBM] [Warning] No further splits with positive gain, best gain: -inf\n",
      "[LightGBM] [Warning] No further splits with positive gain, best gain: -inf\n",
      "[LightGBM] [Warning] No further splits with positive gain, best gain: -inf\n",
      "[LightGBM] [Warning] No further splits with positive gain, best gain: -inf\n",
      "[LightGBM] [Warning] No further splits with positive gain, best gain: -inf\n",
      "[LightGBM] [Warning] No further splits with positive gain, best gain: -inf\n",
      "[LightGBM] [Warning] No further splits with positive gain, best gain: -inf\n",
      "[LightGBM] [Warning] No further splits with positive gain, best gain: -inf\n",
      "[LightGBM] [Warning] No further splits with positive gain, best gain: -inf\n",
      "[LightGBM] [Warning] No further splits with positive gain, best gain: -inf\n",
      "[LightGBM] [Warning] No further splits with positive gain, best gain: -inf\n",
      "[LightGBM] [Warning] No further splits with positive gain, best gain: -inf\n",
      "[LightGBM] [Warning] No further splits with positive gain, best gain: -inf\n",
      "[LightGBM] [Warning] No further splits with positive gain, best gain: -inf\n",
      "[LightGBM] [Warning] No further splits with positive gain, best gain: -inf\n",
      "[LightGBM] [Warning] No further splits with positive gain, best gain: -inf\n",
      "[LightGBM] [Warning] No further splits with positive gain, best gain: -inf\n",
      "[LightGBM] [Warning] No further splits with positive gain, best gain: -inf\n",
      "[LightGBM] [Warning] No further splits with positive gain, best gain: -inf\n",
      "[LightGBM] [Warning] No further splits with positive gain, best gain: -inf\n",
      "[LightGBM] [Warning] No further splits with positive gain, best gain: -inf\n",
      "[LightGBM] [Warning] No further splits with positive gain, best gain: -inf\n",
      "[LightGBM] [Warning] No further splits with positive gain, best gain: -inf\n",
      "[LightGBM] [Warning] No further splits with positive gain, best gain: -inf\n",
      "[LightGBM] [Warning] No further splits with positive gain, best gain: -inf\n",
      "[LightGBM] [Warning] No further splits with positive gain, best gain: -inf\n",
      "[LightGBM] [Warning] No further splits with positive gain, best gain: -inf\n",
      "[LightGBM] [Warning] No further splits with positive gain, best gain: -inf\n",
      "[LightGBM] [Warning] No further splits with positive gain, best gain: -inf\n",
      "[LightGBM] [Warning] No further splits with positive gain, best gain: -inf\n",
      "[LightGBM] [Warning] No further splits with positive gain, best gain: -inf\n",
      "[LightGBM] [Warning] No further splits with positive gain, best gain: -inf\n",
      "[LightGBM] [Warning] No further splits with positive gain, best gain: -inf\n",
      "[LightGBM] [Warning] No further splits with positive gain, best gain: -inf\n",
      "[LightGBM] [Warning] No further splits with positive gain, best gain: -inf\n",
      "[LightGBM] [Warning] No further splits with positive gain, best gain: -inf\n",
      "[LightGBM] [Warning] No further splits with positive gain, best gain: -inf\n",
      "[LightGBM] [Warning] No further splits with positive gain, best gain: -inf\n",
      "[LightGBM] [Warning] No further splits with positive gain, best gain: -inf\n",
      "[LightGBM] [Warning] No further splits with positive gain, best gain: -inf\n",
      "[LightGBM] [Warning] No further splits with positive gain, best gain: -inf\n",
      "[LightGBM] [Warning] No further splits with positive gain, best gain: -inf\n",
      "[LightGBM] [Warning] No further splits with positive gain, best gain: -inf\n",
      "[LightGBM] [Warning] No further splits with positive gain, best gain: -inf\n",
      "[LightGBM] [Warning] No further splits with positive gain, best gain: -inf\n",
      "[LightGBM] [Warning] No further splits with positive gain, best gain: -inf\n",
      "[LightGBM] [Warning] No further splits with positive gain, best gain: -inf\n",
      "[LightGBM] [Warning] No further splits with positive gain, best gain: -inf\n",
      "[LightGBM] [Warning] No further splits with positive gain, best gain: -inf\n",
      "[LightGBM] [Warning] No further splits with positive gain, best gain: -inf\n",
      "[LightGBM] [Warning] No further splits with positive gain, best gain: -inf\n",
      "[LightGBM] [Warning] No further splits with positive gain, best gain: -inf\n",
      "[LightGBM] [Warning] No further splits with positive gain, best gain: -inf\n",
      "[LightGBM] [Warning] No further splits with positive gain, best gain: -inf\n",
      "[LightGBM] [Warning] No further splits with positive gain, best gain: -inf\n",
      "[LightGBM] [Warning] No further splits with positive gain, best gain: -inf\n",
      "[LightGBM] [Warning] No further splits with positive gain, best gain: -inf\n",
      "[LightGBM] [Warning] No further splits with positive gain, best gain: -inf\n",
      "[LightGBM] [Warning] No further splits with positive gain, best gain: -inf\n",
      "[LightGBM] [Warning] No further splits with positive gain, best gain: -inf\n",
      "[LightGBM] [Warning] No further splits with positive gain, best gain: -inf\n",
      "[LightGBM] [Warning] No further splits with positive gain, best gain: -inf\n",
      "[LightGBM] [Warning] No further splits with positive gain, best gain: -inf\n",
      "[LightGBM] [Warning] No further splits with positive gain, best gain: -inf\n",
      "[LightGBM] [Warning] No further splits with positive gain, best gain: -inf\n",
      "[LightGBM] [Warning] No further splits with positive gain, best gain: -inf\n",
      "[LightGBM] [Warning] No further splits with positive gain, best gain: -inf\n",
      "[LightGBM] [Warning] No further splits with positive gain, best gain: -inf\n",
      "[LightGBM] [Warning] No further splits with positive gain, best gain: -inf\n",
      "[LightGBM] [Warning] No further splits with positive gain, best gain: -inf\n",
      "[LightGBM] [Warning] No further splits with positive gain, best gain: -inf\n",
      "[LightGBM] [Warning] No further splits with positive gain, best gain: -inf\n",
      "[LightGBM] [Warning] No further splits with positive gain, best gain: -inf\n"
     ]
    },
    {
     "name": "stdout",
     "output_type": "stream",
     "text": [
      "[LightGBM] [Warning] No further splits with positive gain, best gain: -inf\n",
      "[LightGBM] [Warning] No further splits with positive gain, best gain: -inf\n",
      "[LightGBM] [Warning] No further splits with positive gain, best gain: -inf\n",
      "[LightGBM] [Warning] No further splits with positive gain, best gain: -inf\n",
      "[LightGBM] [Warning] No further splits with positive gain, best gain: -inf\n",
      "[LightGBM] [Warning] No further splits with positive gain, best gain: -inf\n",
      "[LightGBM] [Warning] No further splits with positive gain, best gain: -inf\n",
      "[LightGBM] [Warning] No further splits with positive gain, best gain: -inf\n",
      "[LightGBM] [Warning] No further splits with positive gain, best gain: -inf\n",
      "[LightGBM] [Warning] No further splits with positive gain, best gain: -inf\n",
      "[LightGBM] [Warning] No further splits with positive gain, best gain: -inf\n",
      "[LightGBM] [Warning] No further splits with positive gain, best gain: -inf\n",
      "[LightGBM] [Warning] No further splits with positive gain, best gain: -inf\n",
      "[LightGBM] [Warning] No further splits with positive gain, best gain: -inf\n",
      "[LightGBM] [Warning] No further splits with positive gain, best gain: -inf\n",
      "[LightGBM] [Warning] No further splits with positive gain, best gain: -inf\n",
      "[LightGBM] [Warning] No further splits with positive gain, best gain: -inf\n",
      "[LightGBM] [Warning] No further splits with positive gain, best gain: -inf\n",
      "[LightGBM] [Warning] No further splits with positive gain, best gain: -inf\n",
      "[LightGBM] [Warning] No further splits with positive gain, best gain: -inf\n",
      "[LightGBM] [Warning] No further splits with positive gain, best gain: -inf\n",
      "[LightGBM] [Warning] No further splits with positive gain, best gain: -inf\n",
      "[LightGBM] [Warning] No further splits with positive gain, best gain: -inf\n",
      "[LightGBM] [Warning] No further splits with positive gain, best gain: -inf\n",
      "[LightGBM] [Warning] No further splits with positive gain, best gain: -inf\n",
      "[LightGBM] [Warning] No further splits with positive gain, best gain: -inf\n",
      "[LightGBM] [Warning] No further splits with positive gain, best gain: -inf\n",
      "[LightGBM] [Warning] No further splits with positive gain, best gain: -inf\n",
      "[LightGBM] [Warning] No further splits with positive gain, best gain: -inf\n",
      "[LightGBM] [Warning] No further splits with positive gain, best gain: -inf\n",
      "[LightGBM] [Warning] No further splits with positive gain, best gain: -inf\n",
      "[LightGBM] [Warning] No further splits with positive gain, best gain: -inf\n",
      "[LightGBM] [Warning] No further splits with positive gain, best gain: -inf\n",
      "[LightGBM] [Warning] No further splits with positive gain, best gain: -inf\n",
      "[LightGBM] [Warning] No further splits with positive gain, best gain: -inf\n",
      "[LightGBM] [Warning] No further splits with positive gain, best gain: -inf\n",
      "[LightGBM] [Warning] No further splits with positive gain, best gain: -inf\n",
      "[LightGBM] [Warning] No further splits with positive gain, best gain: -inf\n",
      "[LightGBM] [Warning] No further splits with positive gain, best gain: -inf\n",
      "[LightGBM] [Warning] No further splits with positive gain, best gain: -inf\n",
      "[LightGBM] [Warning] No further splits with positive gain, best gain: -inf\n",
      "[LightGBM] [Warning] No further splits with positive gain, best gain: -inf\n",
      "[LightGBM] [Warning] No further splits with positive gain, best gain: -inf\n",
      "[LightGBM] [Warning] No further splits with positive gain, best gain: -inf\n",
      "[LightGBM] [Warning] No further splits with positive gain, best gain: -inf\n",
      "[LightGBM] [Warning] No further splits with positive gain, best gain: -inf\n",
      "[LightGBM] [Warning] No further splits with positive gain, best gain: -inf\n",
      "[LightGBM] [Warning] No further splits with positive gain, best gain: -inf\n",
      "[LightGBM] [Warning] No further splits with positive gain, best gain: -inf\n",
      "[LightGBM] [Warning] No further splits with positive gain, best gain: -inf\n",
      "[LightGBM] [Warning] No further splits with positive gain, best gain: -inf\n",
      "[LightGBM] [Warning] No further splits with positive gain, best gain: -inf\n",
      "[LightGBM] [Warning] No further splits with positive gain, best gain: -inf\n",
      "[LightGBM] [Warning] No further splits with positive gain, best gain: -inf\n",
      "[LightGBM] [Warning] No further splits with positive gain, best gain: -inf\n",
      "[LightGBM] [Warning] No further splits with positive gain, best gain: -inf\n",
      "[LightGBM] [Warning] No further splits with positive gain, best gain: -inf\n",
      "[LightGBM] [Warning] No further splits with positive gain, best gain: -inf\n",
      "[LightGBM] [Warning] No further splits with positive gain, best gain: -inf\n",
      "[LightGBM] [Warning] No further splits with positive gain, best gain: -inf\n",
      "[LightGBM] [Warning] No further splits with positive gain, best gain: -inf\n",
      "[LightGBM] [Warning] No further splits with positive gain, best gain: -inf\n",
      "[LightGBM] [Warning] No further splits with positive gain, best gain: -inf\n",
      "[LightGBM] [Warning] No further splits with positive gain, best gain: -inf\n",
      "[LightGBM] [Warning] No further splits with positive gain, best gain: -inf\n",
      "[LightGBM] [Warning] No further splits with positive gain, best gain: -inf\n",
      "[LightGBM] [Warning] No further splits with positive gain, best gain: -inf\n",
      "[LightGBM] [Warning] No further splits with positive gain, best gain: -inf\n",
      "[LightGBM] [Warning] No further splits with positive gain, best gain: -inf\n",
      "[LightGBM] [Warning] No further splits with positive gain, best gain: -inf\n",
      "[LightGBM] [Warning] No further splits with positive gain, best gain: -inf\n",
      "[LightGBM] [Warning] No further splits with positive gain, best gain: -inf\n",
      "[LightGBM] [Warning] No further splits with positive gain, best gain: -inf\n",
      "[LightGBM] [Warning] No further splits with positive gain, best gain: -inf\n",
      "[LightGBM] [Warning] No further splits with positive gain, best gain: -inf\n",
      "[LightGBM] [Warning] No further splits with positive gain, best gain: -inf\n",
      "[LightGBM] [Warning] No further splits with positive gain, best gain: -inf\n",
      "[LightGBM] [Warning] No further splits with positive gain, best gain: -inf\n",
      "[LightGBM] [Warning] No further splits with positive gain, best gain: -inf\n",
      "[LightGBM] [Warning] No further splits with positive gain, best gain: -inf\n",
      "[LightGBM] [Warning] No further splits with positive gain, best gain: -inf\n",
      "[LightGBM] [Warning] No further splits with positive gain, best gain: -inf\n",
      "[LightGBM] [Warning] No further splits with positive gain, best gain: -inf\n",
      "[LightGBM] [Warning] No further splits with positive gain, best gain: -inf\n",
      "[LightGBM] [Warning] No further splits with positive gain, best gain: -inf\n",
      "[LightGBM] [Warning] No further splits with positive gain, best gain: -inf\n",
      "[LightGBM] [Warning] No further splits with positive gain, best gain: -inf\n",
      "[LightGBM] [Warning] No further splits with positive gain, best gain: -inf\n",
      "[LightGBM] [Warning] No further splits with positive gain, best gain: -inf\n",
      "[LightGBM] [Warning] No further splits with positive gain, best gain: -inf\n",
      "[LightGBM] [Warning] No further splits with positive gain, best gain: -inf\n",
      "[LightGBM] [Warning] No further splits with positive gain, best gain: -inf\n",
      "[LightGBM] [Warning] No further splits with positive gain, best gain: -inf\n",
      "[LightGBM] [Warning] No further splits with positive gain, best gain: -inf\n",
      "[LightGBM] [Warning] No further splits with positive gain, best gain: -inf\n",
      "[LightGBM] [Warning] No further splits with positive gain, best gain: -inf\n",
      "[LightGBM] [Warning] No further splits with positive gain, best gain: -inf\n",
      "[LightGBM] [Warning] No further splits with positive gain, best gain: -inf\n",
      "[LightGBM] [Warning] No further splits with positive gain, best gain: -inf\n",
      "[LightGBM] [Warning] No further splits with positive gain, best gain: -inf\n",
      "[LightGBM] [Warning] No further splits with positive gain, best gain: -inf\n",
      "[LightGBM] [Warning] No further splits with positive gain, best gain: -inf\n",
      "[LightGBM] [Warning] No further splits with positive gain, best gain: -inf\n",
      "[LightGBM] [Warning] No further splits with positive gain, best gain: -inf\n",
      "[LightGBM] [Warning] No further splits with positive gain, best gain: -inf\n",
      "[LightGBM] [Warning] No further splits with positive gain, best gain: -inf\n",
      "[LightGBM] [Warning] No further splits with positive gain, best gain: -inf\n",
      "[LightGBM] [Warning] No further splits with positive gain, best gain: -inf\n",
      "[LightGBM] [Warning] No further splits with positive gain, best gain: -inf\n",
      "[LightGBM] [Warning] No further splits with positive gain, best gain: -inf\n",
      "[LightGBM] [Warning] No further splits with positive gain, best gain: -inf\n",
      "[LightGBM] [Warning] No further splits with positive gain, best gain: -inf\n",
      "[LightGBM] [Warning] No further splits with positive gain, best gain: -inf\n",
      "[LightGBM] [Warning] No further splits with positive gain, best gain: -inf\n",
      "[LightGBM] [Warning] No further splits with positive gain, best gain: -inf\n",
      "[LightGBM] [Warning] No further splits with positive gain, best gain: -inf\n",
      "[LightGBM] [Warning] No further splits with positive gain, best gain: -inf\n",
      "[LightGBM] [Warning] No further splits with positive gain, best gain: -inf\n",
      "[LightGBM] [Warning] No further splits with positive gain, best gain: -inf\n",
      "[LightGBM] [Warning] No further splits with positive gain, best gain: -inf\n",
      "[LightGBM] [Warning] No further splits with positive gain, best gain: -inf\n",
      "[LightGBM] [Warning] No further splits with positive gain, best gain: -inf\n"
     ]
    },
    {
     "name": "stdout",
     "output_type": "stream",
     "text": [
      "[LightGBM] [Warning] No further splits with positive gain, best gain: -inf\n",
      "[LightGBM] [Warning] No further splits with positive gain, best gain: -inf\n",
      "[LightGBM] [Warning] No further splits with positive gain, best gain: -inf\n",
      "[LightGBM] [Warning] No further splits with positive gain, best gain: -inf\n",
      "[LightGBM] [Warning] No further splits with positive gain, best gain: -inf\n",
      "[LightGBM] [Warning] No further splits with positive gain, best gain: -inf\n",
      "[LightGBM] [Warning] No further splits with positive gain, best gain: -inf\n",
      "[LightGBM] [Warning] No further splits with positive gain, best gain: -inf\n",
      "Early stopping, best iteration is:\n",
      "[221]\tvalid_0's l2: 0.159908\n",
      "[LightGBM] [Warning] lambda_l1 is set=1.0, reg_alpha=0.0 will be ignored. Current value: lambda_l1=1.0\n",
      "[LightGBM] [Warning] lambda_l2 is set=1.0, reg_lambda=0.0 will be ignored. Current value: lambda_l2=1.0\n",
      "[LightGBM] [Warning] lambda_l1 is set=1.0, reg_alpha=0.0 will be ignored. Current value: lambda_l1=1.0\n",
      "[LightGBM] [Warning] lambda_l2 is set=1.0, reg_lambda=0.0 will be ignored. Current value: lambda_l2=1.0\n",
      "[LightGBM] [Info] Auto-choosing row-wise multi-threading, the overhead of testing was 0.014941 seconds.\n",
      "You can set `force_row_wise=true` to remove the overhead.\n",
      "And if memory is not enough, you can set `force_col_wise=true`.\n",
      "[LightGBM] [Info] Total Bins 47\n",
      "[LightGBM] [Info] Number of data points in the train set: 299926, number of used features: 18\n",
      "[LightGBM] [Warning] lambda_l1 is set=1.0, reg_alpha=0.0 will be ignored. Current value: lambda_l1=1.0\n",
      "[LightGBM] [Warning] lambda_l2 is set=1.0, reg_lambda=0.0 will be ignored. Current value: lambda_l2=1.0\n",
      "[LightGBM] [Info] Start training from score 0.199609\n",
      "[LightGBM] [Warning] No further splits with positive gain, best gain: -inf\n",
      "Training until validation scores don't improve for 10 rounds\n",
      "[LightGBM] [Warning] No further splits with positive gain, best gain: -inf\n",
      "[LightGBM] [Warning] No further splits with positive gain, best gain: -inf\n",
      "[LightGBM] [Warning] No further splits with positive gain, best gain: -inf\n",
      "[LightGBM] [Warning] No further splits with positive gain, best gain: -inf\n",
      "[LightGBM] [Warning] No further splits with positive gain, best gain: -inf\n",
      "[LightGBM] [Warning] No further splits with positive gain, best gain: -inf\n",
      "[LightGBM] [Warning] No further splits with positive gain, best gain: -inf\n",
      "[LightGBM] [Warning] No further splits with positive gain, best gain: -inf\n",
      "[LightGBM] [Warning] No further splits with positive gain, best gain: -inf\n",
      "[LightGBM] [Warning] No further splits with positive gain, best gain: -inf\n",
      "[LightGBM] [Warning] No further splits with positive gain, best gain: -inf\n",
      "[LightGBM] [Warning] No further splits with positive gain, best gain: -inf\n",
      "[LightGBM] [Warning] No further splits with positive gain, best gain: -inf\n",
      "[LightGBM] [Warning] No further splits with positive gain, best gain: -inf\n",
      "[LightGBM] [Warning] No further splits with positive gain, best gain: -inf\n",
      "[LightGBM] [Warning] No further splits with positive gain, best gain: -inf\n",
      "[LightGBM] [Warning] No further splits with positive gain, best gain: -inf\n",
      "[LightGBM] [Warning] No further splits with positive gain, best gain: -inf\n",
      "[LightGBM] [Warning] No further splits with positive gain, best gain: -inf\n",
      "[LightGBM] [Warning] No further splits with positive gain, best gain: -inf\n",
      "[LightGBM] [Warning] No further splits with positive gain, best gain: -inf\n",
      "[LightGBM] [Warning] No further splits with positive gain, best gain: -inf\n",
      "Early stopping, best iteration is:\n",
      "[13]\tvalid_0's l2: 0.159913\n"
     ]
    }
   ],
   "source": [
    "# Fit and Predict\n",
    "t_treated = optimized_lgbm.fit(features_treated, y_treated, eval_set=[(features, df4['is_clicked'])])\n",
    "t_control = optimized_lgbm.fit(features_control, y_control, eval_set=[(features, df4['is_clicked'])])"
   ]
  },
  {
   "cell_type": "code",
   "execution_count": 113,
   "id": "a511838c",
   "metadata": {},
   "outputs": [
    {
     "name": "stdout",
     "output_type": "stream",
     "text": [
      "[LightGBM] [Warning] lambda_l1 is set=1.0, reg_alpha=0.0 will be ignored. Current value: lambda_l1=1.0\n",
      "[LightGBM] [Warning] lambda_l2 is set=1.0, reg_lambda=0.0 will be ignored. Current value: lambda_l2=1.0\n",
      "[LightGBM] [Warning] lambda_l1 is set=1.0, reg_alpha=0.0 will be ignored. Current value: lambda_l1=1.0\n",
      "[LightGBM] [Warning] lambda_l2 is set=1.0, reg_lambda=0.0 will be ignored. Current value: lambda_l2=1.0\n"
     ]
    }
   ],
   "source": [
    "with_treatment_predict = t_treated.predict(features)\n",
    "without_treatment_predict = t_control.predict(features)"
   ]
  },
  {
   "cell_type": "code",
   "execution_count": 114,
   "id": "3710c30e",
   "metadata": {},
   "outputs": [],
   "source": [
    "# Calculating uplift score at 30%\n",
    "uplift_score_30 = uplift_at_k(df4['is_clicked'], ite, df4['treatment'], strategy='overall', k=0.3)"
   ]
  },
  {
   "cell_type": "code",
   "execution_count": 115,
   "id": "7a7e6c93",
   "metadata": {},
   "outputs": [
    {
     "name": "stdout",
     "output_type": "stream",
     "text": [
      "Uplift score at 30%: 0.0032\n",
      "AUUC: 0.0028\n",
      "AUQC: 0.0037\n"
     ]
    }
   ],
   "source": [
    "# Calculating AUUC and AUQC\n",
    "auuc = uplift_auc_score(df4['is_clicked'], ite, df4['treatment'])\n",
    "auqc = qini_auc_score(df4['is_clicked'], ite, df4['treatment'])\n",
    "\n",
    "print(f'Uplift score at 30%: {uplift_score_30:.4f}')\n",
    "print(f'AUUC: {auuc:.4f}')\n",
    "print(f'AUQC: {auqc:.4f}')"
   ]
  },
  {
   "cell_type": "code",
   "execution_count": null,
   "id": "9cbbe9f1",
   "metadata": {},
   "outputs": [],
   "source": []
  },
  {
   "cell_type": "code",
   "execution_count": null,
   "id": "82857454",
   "metadata": {},
   "outputs": [],
   "source": []
  },
  {
   "cell_type": "code",
   "execution_count": null,
   "id": "3f5cc155",
   "metadata": {},
   "outputs": [],
   "source": []
  },
  {
   "cell_type": "code",
   "execution_count": null,
   "id": "63b33175",
   "metadata": {},
   "outputs": [],
   "source": []
  },
  {
   "cell_type": "markdown",
   "id": "e8479eb0",
   "metadata": {},
   "source": [
    "#### Uplift scores of all the Model"
   ]
  },
  {
   "cell_type": "code",
   "execution_count": 104,
   "id": "48a46dea",
   "metadata": {},
   "outputs": [
    {
     "data": {
      "image/png": "[encoded data removed]",
      "text/plain": [
       "<Figure size 936x504 with 1 Axes>"
      ]
     },
     "metadata": {
      "needs_background": "light"
     },
     "output_type": "display_data"
    }
   ],
   "source": [
    "metrics = {'Model': ['Two-Model (CatBoost)', 'Class Transformation', 'Two-Model (LGBM)', 'T-Learner (LGBM)'],\n",
    "           'Uplift Score at 30%': [0.0015407564272344187 * 100, 0.0709 * 100, 0.0014 * 100, 0.0032 * 100] # [0.0015407564272344187, 0.0709, 0.0014, 0.0032]\n",
    "}\n",
    "\n",
    "# [0.15407564272344187, 7.090, 0.1399, 0.32]\n",
    "\n",
    "# Create a DataFrame from the data\n",
    "df_metrics = pd.DataFrame(metrics)\n",
    "\n",
    "# Create a bar plot using Seaborn\n",
    "\n",
    "plt.figure(figsize=(13, 7))\n",
    "ax = sns.barplot(x='Model', y='Uplift Score at 30%', data=df_metrics)\n",
    "plt.title('Uplift Scores at 30% for All Models', fontsize=24)\n",
    "plt.xlabel('Uplift Models', fontsize=14)\n",
    "plt.ylabel('Uplift Score at 30%', fontsize=14)\n",
    "plt.xticks(fontsize=14, rotation=0)\n",
    "plt.yticks(fontsize=14)\n",
    "# plt.ylim(0, 0.08)\n",
    "\n",
    "for p in ax.patches:\n",
    "    ax.annotate(f'{p.get_height():.2f}%', \n",
    "                (p.get_x() + p.get_width() / 2., p.get_height()), \n",
    "                ha = 'center', va = 'baseline',\n",
    "                fontsize=15, color='black', xytext=(0, 5),\n",
    "                textcoords='offset points')\n",
    "\n",
    "plt.show()\n"
   ]
  },
  {
   "cell_type": "code",
   "execution_count": null,
   "id": "69ea73cd",
   "metadata": {},
   "outputs": [],
   "source": []
  }
 ],
 "metadata": {
  "kernelspec": {
   "display_name": "Python 3",
   "language": "python",
   "name": "python3"
  },
  "language_info": {
   "codemirror_mode": {
    "name": "ipython",
    "version": 3
   },
   "file_extension": ".py",
   "mimetype": "text/x-python",
   "name": "python",
   "nbconvert_exporter": "python",
   "pygments_lexer": "ipython3",
   "version": "3.8.8"
  }
 },
 "nbformat": 4,
 "nbformat_minor": 5
}
